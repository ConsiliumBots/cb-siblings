{
 "cells": [
  {
   "cell_type": "code",
   "execution_count": 1,
   "metadata": {},
   "outputs": [],
   "source": [
    "import os\n",
    "import pandas as pd\n",
    "import numpy as np\n",
    "\n",
    "Path = '/Users/javieragazmuri/ConsiliumBots Dropbox/ConsiliumBots/Projects/Chile/Siblings/data/'\n",
    "\n",
    "postulaciones = pd.read_csv(Path + 'intermediate/simulation_probabilities/inputs_for_joint_probabilities.csv')\n",
    "\n",
    "riesgos = pd.read_csv(Path + 'intermediate/simulation_probabilities/riesgos_data-_oficialEqSAEAnterior_500r_exp0.csv')\n",
    "\n",
    "postulaciones = pd.merge(postulaciones, riesgos, how = 'left', left_on =['rbd','codcurso','tipo'], right_on = ['rbd','cod_curso','tipo'], indicator = True)\n",
    "postulaciones['_merge'].value_counts()\n",
    "\n",
    "postulaciones.loc[(postulaciones['_merge'] == 'left_only'), 'risk'] = 0\n",
    "del postulaciones['_merge']"
   ]
  },
  {
   "cell_type": "markdown",
   "metadata": {},
   "source": [
    "# Prob. Mayor"
   ]
  },
  {
   "cell_type": "code",
   "execution_count": 2,
   "metadata": {},
   "outputs": [],
   "source": [
    "# Filtramos la data\n",
    "\n",
    "postulaciones_mayor = postulaciones.loc[(postulaciones.hermano_mayor == 1)]\n",
    "\n",
    "# Calculando probabilidades de asignación\n",
    "\n",
    "postulaciones_mayor = postulaciones_mayor.sort_values(['mrun','preferencia_postulante']).reset_index(drop=True)\n",
    "postulaciones_mayor['prob_asig'] = np.nan\n",
    "# Variable auxiliar\n",
    "postulaciones_mayor['prob_acum'] = np.nan\n",
    "\n",
    "# Loop\n",
    "\n",
    "for i in range(0,len(postulaciones_mayor)):\n",
    "    if postulaciones_mayor.loc[i,'preferencia_postulante'] == 1:\n",
    "        postulaciones_mayor.loc[i,'prob_asig'] = 1 - postulaciones_mayor.loc[i,'risk']\n",
    "        postulaciones_mayor.loc[i,'prob_acum'] = postulaciones_mayor.loc[i,'prob_asig']\n",
    "    else:\n",
    "        postulaciones_mayor.loc[i,'prob_asig'] = (1 - postulaciones_mayor.loc[i-1,'prob_acum']) * (1 - postulaciones_mayor.loc[i,'risk'])\n",
    "        postulaciones_mayor.loc[i,'prob_acum'] = postulaciones_mayor.loc[i,'prob_asig'] + postulaciones_mayor.loc[i-1,'prob_acum']\n",
    "\n",
    "mayor_no_asignado = postulaciones_mayor.groupby('mrun').agg({'prob_asig':'sum'}).reset_index()\n",
    "\n",
    "mayor_no_asignado['prob_no_asignado'] = 1 - mayor_no_asignado['prob_asig']\n",
    "# Algunos aparecen con probabilidad negativa porque en realidad es 0,00000000x\n",
    "mayor_no_asignado.loc[(mayor_no_asignado['prob_no_asignado'] < 0), 'prob_no_asignado'] = 0\n",
    "\n",
    "del mayor_no_asignado['prob_asig']\n",
    "\n"
   ]
  },
  {
   "cell_type": "markdown",
   "metadata": {},
   "source": [
    "# Prob. Menor"
   ]
  },
  {
   "cell_type": "markdown",
   "metadata": {},
   "source": [
    "## Postulación en bloque"
   ]
  },
  {
   "cell_type": "markdown",
   "metadata": {},
   "source": [
    "### Creando la data"
   ]
  },
  {
   "cell_type": "code",
   "execution_count": 3,
   "metadata": {},
   "outputs": [
    {
     "name": "stderr",
     "output_type": "stream",
     "text": [
      "/var/folders/nx/hjv6fkdn3fnd8hv6fsj5qw0r0000gn/T/ipykernel_30321/4063525290.py:31: FutureWarning: The frame.append method is deprecated and will be removed from pandas in a future version. Use pandas.concat instead.\n",
      "  conjunto_final = conjunto_postulaciones.append(conjunto_no_asignado)\n"
     ]
    }
   ],
   "source": [
    "# Filtramos la data\n",
    "\n",
    "postulaciones_menor = postulaciones.loc[(postulaciones.hermano_mayor == 0)]\n",
    "\n",
    "# Eliminamos riesgo porque los volveremos a obtener\n",
    "\n",
    "del postulaciones_menor['risk']\n",
    "\n",
    "# Eliminamos tipo porque lo volveremos a obtener\n",
    "\n",
    "del postulaciones_menor['tipo']\n",
    "\n",
    "# Pegamos las postulaciones del hermano mayor, para que cada el set de postulaciones del menor se repita para cada postulación del mayor\n",
    "\n",
    "postulaciones_mayor_para_hermano = postulaciones_mayor[['mrun','prob_asig','rbd']]\n",
    "postulaciones_mayor_para_hermano = postulaciones_mayor_para_hermano.rename(columns={'mrun': 'mrun_hermano_final', 'prob_asig': 'prob_asig_mayor', 'rbd': 'rbd_mayor'})\n",
    "\n",
    "conjunto_postulaciones = pd.merge(postulaciones_menor, postulaciones_mayor_para_hermano, how = 'left', left_on = ['mrun_hermano_final'], right_on = ['mrun_hermano_final'], indicator = True)\n",
    "conjunto_postulaciones['_merge'].value_counts()\n",
    "# Todas las obs pegan :)\n",
    "del conjunto_postulaciones['_merge']\n",
    "\n",
    "# Hacemos append de las postulaciones del menor para sumar el caso en que el mayor no es asignado\n",
    "\n",
    "mayor_no_asignado = mayor_no_asignado.rename(columns={'mrun': 'mrun_hermano_final', 'prob_no_asignado': 'prob_no_asignado_mayor'})\n",
    "conjunto_no_asignado = pd.merge(postulaciones_menor, mayor_no_asignado, how = 'left', left_on = ['mrun_hermano_final'], right_on = ['mrun_hermano_final'], indicator = True)\n",
    "conjunto_no_asignado['_merge'].value_counts()\n",
    "# Todas las obs pegan :)\n",
    "del conjunto_no_asignado['_merge']\n",
    "\n",
    "conjunto_final = conjunto_postulaciones.append(conjunto_no_asignado)\n",
    "\n",
    "# Ordenamos la data\n",
    "\n",
    "conjunto_final = conjunto_final.sort_values(['mrun','rbd_mayor','preferencia_postulante']).reset_index(drop=True)\n"
   ]
  },
  {
   "cell_type": "markdown",
   "metadata": {},
   "source": [
    "### 1. Prioridad dinámica"
   ]
  },
  {
   "cell_type": "code",
   "execution_count": 4,
   "metadata": {},
   "outputs": [],
   "source": [
    "# Reemplazamos prioridad por dinámica cuando corresponda\n",
    "\n",
    "# 1. Reemplazamos la variable criterioprioridad \n",
    "# Se reemplaza por 4 cuando criterioprioridad < 4 y es el rbd correspondiente\n",
    "\n",
    "conjunto_final.loc[(conjunto_final['criterioprioridad'] < 4) & (conjunto_final['rbd_mayor'] == conjunto_final['rbd']), 'criterioprioridad'] = 4\n",
    "conjunto_final['criterioprioridad'].value_counts()\n",
    "\n",
    "# 2. Pegamos con la base tipos\n",
    "\n",
    "tipos = pd.read_csv('/Users/javieragazmuri/ConsiliumBots Dropbox/Javiera Gazmuri/Archivos de javiera@consiliumbots.com/ejemploJavi/tipos_data-data2022_5r_exp0.csv')\n",
    "\n",
    "tipos = pd.read_csv(Path + 'intermediate/simulation_probabilities/tipos_data-_oficialEqSAEAnterior_500r_exp0.csv')\n",
    "\n",
    "tipos = tipos.rename(columns={'criterioPrioridad': 'criterioprioridad'})\n",
    "del tipos['criterioPrioridad_label']\n",
    "del tipos['tipo_label']\n",
    "\n",
    "conjunto_final = pd.merge(conjunto_final, tipos, how = 'left', left_on = ['criterioprioridad','prioritario','alto_rendimiento'], right_on = ['criterioprioridad','prioritario','alto_rendimiento'], indicator = True)\n",
    "conjunto_final['_merge'].value_counts()\n",
    "del conjunto_final['_merge']\n",
    "\n",
    "conjunto_final = pd.merge(conjunto_final, riesgos, how = 'left', left_on =['rbd','codcurso','tipo'], right_on = ['rbd','cod_curso','tipo'], indicator = True)\n",
    "conjunto_final['_merge'].value_counts()\n",
    "conjunto_final.loc[(conjunto_final['_merge'] == 'left_only'), 'risk'] = 0\n",
    "del conjunto_final['_merge']\n"
   ]
  },
  {
   "cell_type": "markdown",
   "metadata": {},
   "source": [
    "### 2. Postulación familiar (para no activar postulación familiar, no se corre)"
   ]
  },
  {
   "cell_type": "code",
   "execution_count": 5,
   "metadata": {},
   "outputs": [],
   "source": [
    "# Re-ordenamos preferencias por postulación en bloque\n",
    "\n",
    "conjunto_final['dummy'] = 0\n",
    "conjunto_final.loc[(conjunto_final['rbd_mayor'] == conjunto_final['rbd']), 'dummy'] = 1\n",
    "\n",
    "# Indicador de que la postulacion del mayor esta en la del menor\n",
    "conjunto_final['mrun_con_dummy'] = conjunto_final.groupby(['mrun','rbd_mayor'])['dummy'].transform('max')\n",
    "\n",
    "# Variable que sirve para ver si es que el menor postulo a ese colegio en su primera preferencia\n",
    "conjunto_final['num_preferencia'] = 0\n",
    "conjunto_final.loc[(conjunto_final['rbd_mayor'] == conjunto_final['rbd']), 'num_preferencia'] = conjunto_final['preferencia_postulante']\n",
    "\n",
    "conjunto_final['max_num_preferencia'] = conjunto_final.groupby(['mrun','rbd_mayor'])['num_preferencia'].transform('max')\n",
    "\n",
    "# Reordenando\n",
    "conjunto_final.loc[(conjunto_final['max_num_preferencia'] != 1) & (conjunto_final['max_num_preferencia'] != np.nan) & (conjunto_final['mrun_con_dummy']==1), 'preferencia_postulante'] = conjunto_final['preferencia_postulante'] + 1\n",
    "conjunto_final.loc[(conjunto_final['max_num_preferencia'] != 1) & (conjunto_final['max_num_preferencia'] != np.nan) & (conjunto_final['mrun_con_dummy']==1) & (conjunto_final['rbd_mayor'] == conjunto_final['rbd']), 'preferencia_postulante'] = 1\n",
    "\n",
    "# Creando nueva variable de preferencia_postulante\n",
    "conjunto_final = conjunto_final.sort_values(['mrun','rbd_mayor','preferencia_postulante']).reset_index(drop=True)\n",
    "\n",
    "conjunto_final['new_pref'] = 1\n",
    "conjunto_final['new_pref'] = conjunto_final.groupby(['mrun','rbd_mayor']).cumcount() + 1\n",
    "\n",
    "missing_rbd_mask = conjunto_final['rbd_mayor'].isnull()\n",
    "\n",
    "conjunto_final.loc[missing_rbd_mask, 'new_pref'] = conjunto_final.loc[missing_rbd_mask, 'preferencia_postulante']\n",
    "\n",
    "del conjunto_final['preferencia_postulante']\n",
    "conjunto_final = conjunto_final.rename(columns={'new_pref': 'preferencia_postulante'})"
   ]
  },
  {
   "cell_type": "markdown",
   "metadata": {},
   "source": [
    "### 3. Cálculo probabilidades"
   ]
  },
  {
   "cell_type": "code",
   "execution_count": 6,
   "metadata": {},
   "outputs": [],
   "source": [
    "# Corremos la fórmula\n",
    "\n",
    "# Calculando probabilidades de asignación\n",
    "\n",
    "conjunto_final['prob_asig_menor_t'] = np.nan\n",
    "# Variable auxiliar\n",
    "conjunto_final['prob_acum_menor'] = np.nan\n",
    "\n",
    "# Loop\n",
    "\n",
    "for i in range(0,len(conjunto_final)):\n",
    "    if conjunto_final.loc[i,'preferencia_postulante'] == 1:\n",
    "        conjunto_final.loc[i,'prob_asig_menor_t'] = 1 - conjunto_final.loc[i,'risk']\n",
    "        conjunto_final.loc[i,'prob_acum_menor'] = conjunto_final.loc[i,'prob_asig_menor_t']\n",
    "    else:\n",
    "        conjunto_final.loc[i,'prob_asig_menor_t'] = (1 - conjunto_final.loc[i-1,'prob_acum_menor']) * (1 - conjunto_final.loc[i,'risk'])\n",
    "        conjunto_final.loc[i,'prob_acum_menor'] = conjunto_final.loc[i,'prob_asig_menor_t'] + conjunto_final.loc[i-1,'prob_acum_menor']\n",
    "\n"
   ]
  },
  {
   "cell_type": "code",
   "execution_count": 7,
   "metadata": {},
   "outputs": [
    {
     "data": {
      "text/plain": [
       "both          159891\n",
       "left_only          0\n",
       "right_only         0\n",
       "Name: _merge, dtype: int64"
      ]
     },
     "execution_count": 7,
     "metadata": {},
     "output_type": "execute_result"
    }
   ],
   "source": [
    "# Obteniendo las probabilidades finales\n",
    "\n",
    "conjunto_final['prob_asig_menor'] = conjunto_final['prob_asig_mayor'] * conjunto_final['prob_asig_menor_t'] \n",
    "\n",
    "prob_asignaciones_menor = conjunto_final.groupby(['mrun','rbd']).agg({'prob_asig_menor':'sum'}).reset_index()\n",
    "\n",
    "postulaciones_menor = pd.merge(postulaciones_menor, prob_asignaciones_menor, how = 'left', left_on =['mrun','rbd'], right_on = ['mrun','rbd'], indicator = True)\n",
    "postulaciones_menor['_merge'].value_counts()"
   ]
  },
  {
   "cell_type": "code",
   "execution_count": 8,
   "metadata": {},
   "outputs": [],
   "source": [
    "# Probabilidad de no asignación\n",
    "\n",
    "menor_no_asignado = postulaciones_menor.groupby('mrun').agg({'prob_asig_menor':'sum', 'mrun_hermano_final':'mean'}).reset_index()\n",
    "\n",
    "menor_no_asignado['prob_no_asignado'] = 1 - menor_no_asignado['prob_asig_menor']\n",
    "# Algunos aparecen con probabilidad negativa porque en realidad es 0,00000000x\n",
    "menor_no_asignado.loc[(menor_no_asignado['prob_no_asignado'] < 0), 'prob_no_asignado'] = 0\n",
    "del menor_no_asignado['prob_asig_menor']\n",
    "\n",
    "menor_no_asignado = menor_no_asignado.rename(columns={'mrun': 'mrun_menor'})\n"
   ]
  },
  {
   "cell_type": "markdown",
   "metadata": {},
   "source": [
    "### Prob. conjuntas"
   ]
  },
  {
   "cell_type": "code",
   "execution_count": 9,
   "metadata": {},
   "outputs": [
    {
     "name": "stderr",
     "output_type": "stream",
     "text": [
      "/var/folders/nx/hjv6fkdn3fnd8hv6fsj5qw0r0000gn/T/ipykernel_30321/488942112.py:6: FutureWarning: The frame.append method is deprecated and will be removed from pandas in a future version. Use pandas.concat instead.\n",
      "  prob_menor = prob_menor.append(menor_no_asignado)\n",
      "/var/folders/nx/hjv6fkdn3fnd8hv6fsj5qw0r0000gn/T/ipykernel_30321/488942112.py:20: FutureWarning: The frame.append method is deprecated and will be removed from pandas in a future version. Use pandas.concat instead.\n",
      "  prob_mayor = prob_mayor.append(mayor_no_asignado)\n"
     ]
    }
   ],
   "source": [
    "# Menor\n",
    "\n",
    "prob_menor = postulaciones_menor[['mrun','rbd','codcurso','preferencia_postulante','prob_asig_menor','mrun_hermano_final']]\n",
    "prob_menor = prob_menor.rename(columns={'mrun': 'mrun_menor', 'preferencia_postulante': 'preferencia_menor','rbd':'rbd_menor', 'codcurso': 'cod_curso_menor'})\n",
    "\n",
    "prob_menor = prob_menor.append(menor_no_asignado)\n",
    "\n",
    "prob_menor = prob_menor.sort_values(['mrun_menor','preferencia_menor']).reset_index(drop=True)\n",
    "\n",
    "missing_rbd_mask = prob_menor['preferencia_menor'].isnull()\n",
    "\n",
    "prob_menor.loc[missing_rbd_mask, 'prob_asig_menor'] = prob_menor.loc[missing_rbd_mask, 'prob_no_asignado']\n",
    "del prob_menor['prob_no_asignado']\n",
    "\n",
    "# Mayor\n",
    "\n",
    "prob_mayor = postulaciones_mayor[['mrun','rbd','codcurso','preferencia_postulante','prob_asig']]\n",
    "mayor_no_asignado = mayor_no_asignado.rename(columns={'mrun_hermano_final': 'mrun'})\n",
    "\n",
    "prob_mayor = prob_mayor.append(mayor_no_asignado)\n",
    "\n",
    "prob_mayor = prob_mayor.sort_values(['mrun','preferencia_postulante']).reset_index(drop=True)\n",
    "\n",
    "missing_rbd_mask = prob_mayor['preferencia_postulante'].isnull()\n",
    "\n",
    "prob_mayor.loc[missing_rbd_mask, 'prob_asig'] = prob_mayor.loc[missing_rbd_mask, 'prob_no_asignado_mayor']\n",
    "del prob_mayor['prob_no_asignado_mayor']\n",
    "\n",
    "prob_mayor = prob_mayor.rename(columns={'mrun': 'mrun_hermano_final', 'preferencia_postulante': 'preferencia_mayor','prob_asig': 'prob_asig_mayor', 'rbd':'rbd_mayor','codcurso':'cod_curso_mayor'})\n",
    "\n",
    "# Merging datasets\n",
    "\n",
    "prob_conjunta_1 = pd.merge(prob_menor, prob_mayor, how = 'left', left_on = 'mrun_hermano_final', right_on = 'mrun_hermano_final', indicator = True)\n",
    "prob_conjunta_1['_merge'].value_counts()\n",
    "del prob_conjunta_1['_merge']\n",
    "\n",
    "# Probabilidad conjunta\n",
    "\n",
    "prob_conjunta_1['prob_conjunta'] = prob_conjunta_1['prob_asig_menor'] * prob_conjunta_1['prob_asig_mayor']\n",
    "\n",
    "prob_conjunta_1 = prob_conjunta_1.sort_values(['mrun_menor','prob_conjunta'], ascending = False).reset_index(drop=True)\n",
    "\n",
    "prob_conjunta_1['auxiliar'] = 1\n",
    "prob_conjunta_1['auxiliar'] = prob_conjunta_1.groupby(['mrun_menor']).cumcount() + 1\n",
    "\n",
    "# A veces auxiliar toma un valor pero en realidad la prob_conjunta = 0 \n",
    "prob_conjunta_1.loc[(prob_conjunta_1['prob_conjunta'] == 0), 'auxiliar'] = 0\n",
    "\n",
    "# Con auxiliar = 1 y = 2 podemos identificar los dos eventos con mayor probabilidad."
   ]
  },
  {
   "cell_type": "markdown",
   "metadata": {},
   "source": [
    "### Estadística"
   ]
  },
  {
   "cell_type": "code",
   "execution_count": 10,
   "metadata": {},
   "outputs": [
    {
     "data": {
      "text/plain": [
       "mat_aseg:mat_aseg    11681\n",
       "1.0:1.0              10198\n",
       "no_asig:no_asig       5180\n",
       "2.0:2.0               3248\n",
       "mat_aseg:1.0          2216\n",
       "mat_aseg:2.0          1733\n",
       "3.0:3.0               1399\n",
       "1.0:2.0               1236\n",
       "1.0:mat_aseg          1224\n",
       "mat_aseg:no_asig      1068\n",
       "Name: evento, dtype: int64"
      ]
     },
     "execution_count": 10,
     "metadata": {},
     "output_type": "execute_result"
    }
   ],
   "source": [
    "# Describiendo los eventos\n",
    "\n",
    "# 1. Necesitamos la matrícula asegurada \n",
    "\n",
    "matricula_asegurada = postulaciones[['mrun','rbd','codcurso','criterioprioridad']]\n",
    "matricula_asegurada = matricula_asegurada[matricula_asegurada['criterioprioridad'] == 6]\n",
    "del matricula_asegurada['criterioprioridad']\n",
    "\n",
    "matricula_asegurada_menor = matricula_asegurada.rename(columns={'mrun': 'mrun_menor', 'rbd': 'rbd_mat_aseg_menor', 'codcurso': 'cod_curso_menor_mat_aseg'})\n",
    "matricula_asegurada_mayor = matricula_asegurada.rename(columns={'mrun': 'mrun_hermano_final', 'rbd': 'rbd_mat_aseg_mayor', 'codcurso':'cod_curso_mayor_mat_aseg' })\n",
    "\n",
    "prob_conjunta_1 = pd.merge(prob_conjunta_1,matricula_asegurada_menor, how = 'left', left_on = 'mrun_menor', right_on = 'mrun_menor')\n",
    "prob_conjunta_1 = pd.merge(prob_conjunta_1,matricula_asegurada_mayor, how = 'left', left_on = 'mrun_hermano_final', right_on = 'mrun_hermano_final')\n",
    "\n",
    "# En vez de que aparezca el nº con la preferencia, pondremos matrícula asegurada\n",
    "\n",
    "prob_conjunta_1.loc[(prob_conjunta_1['rbd_menor'] == prob_conjunta_1['rbd_mat_aseg_menor']) & (prob_conjunta_1['cod_curso_menor'] == prob_conjunta_1['cod_curso_menor_mat_aseg']), 'preferencia_menor'] = 'mat_aseg'\n",
    "prob_conjunta_1.loc[(prob_conjunta_1['rbd_mayor'] == prob_conjunta_1['rbd_mat_aseg_mayor']) & (prob_conjunta_1['cod_curso_mayor'] == prob_conjunta_1['cod_curso_mayor_mat_aseg']), 'preferencia_mayor'] = 'mat_aseg'\n",
    "\n",
    "# Creando variable que combina ambas preferencias\n",
    "\n",
    "# Convert 'preferencia_menor' and 'preferencia_mayor' columns to strings\n",
    "prob_conjunta_1['preferencia_menor'] = prob_conjunta_1['preferencia_menor'].astype(str)\n",
    "prob_conjunta_1['preferencia_mayor'] = prob_conjunta_1['preferencia_mayor'].astype(str)\n",
    "\n",
    "prob_conjunta_1.loc[prob_conjunta_1['preferencia_menor'] == 'nan', 'preferencia_menor'] = 'no_asig'\n",
    "prob_conjunta_1.loc[prob_conjunta_1['preferencia_mayor'] == 'nan', 'preferencia_mayor'] = 'no_asig'\n",
    "\n",
    "# Concatenate 'preferencia_mayor' and 'preferencia_menor' columns with ':' separator\n",
    "prob_conjunta_1['evento'] = prob_conjunta_1['preferencia_mayor'] + ':' + prob_conjunta_1['preferencia_menor']\n",
    "\n",
    "# Viendo cómo se caracterizan los dos eventos más probables\n",
    "prob_conjunta_1.loc[prob_conjunta_1['auxiliar'] == 1, 'evento'].value_counts().head(10)\n"
   ]
  },
  {
   "cell_type": "markdown",
   "metadata": {},
   "source": [
    "## Sin postulación en bloque"
   ]
  },
  {
   "cell_type": "markdown",
   "metadata": {},
   "source": [
    "### Creando la data"
   ]
  },
  {
   "cell_type": "code",
   "execution_count": 11,
   "metadata": {},
   "outputs": [
    {
     "name": "stderr",
     "output_type": "stream",
     "text": [
      "/var/folders/nx/hjv6fkdn3fnd8hv6fsj5qw0r0000gn/T/ipykernel_30321/4063525290.py:31: FutureWarning: The frame.append method is deprecated and will be removed from pandas in a future version. Use pandas.concat instead.\n",
      "  conjunto_final = conjunto_postulaciones.append(conjunto_no_asignado)\n"
     ]
    }
   ],
   "source": [
    "# Filtramos la data\n",
    "\n",
    "postulaciones_menor = postulaciones.loc[(postulaciones.hermano_mayor == 0)]\n",
    "\n",
    "# Eliminamos riesgo porque los volveremos a obtener\n",
    "\n",
    "del postulaciones_menor['risk']\n",
    "\n",
    "# Eliminamos tipo porque lo volveremos a obtener\n",
    "\n",
    "del postulaciones_menor['tipo']\n",
    "\n",
    "# Pegamos las postulaciones del hermano mayor, para que cada el set de postulaciones del menor se repita para cada postulación del mayor\n",
    "\n",
    "postulaciones_mayor_para_hermano = postulaciones_mayor[['mrun','prob_asig','rbd']]\n",
    "postulaciones_mayor_para_hermano = postulaciones_mayor_para_hermano.rename(columns={'mrun': 'mrun_hermano_final', 'prob_asig': 'prob_asig_mayor', 'rbd': 'rbd_mayor'})\n",
    "\n",
    "conjunto_postulaciones = pd.merge(postulaciones_menor, postulaciones_mayor_para_hermano, how = 'left', left_on = ['mrun_hermano_final'], right_on = ['mrun_hermano_final'], indicator = True)\n",
    "conjunto_postulaciones['_merge'].value_counts()\n",
    "# Todas las obs pegan :)\n",
    "del conjunto_postulaciones['_merge']\n",
    "\n",
    "# Hacemos append de las postulaciones del menor para sumar el caso en que el mayor no es asignado\n",
    "\n",
    "mayor_no_asignado = mayor_no_asignado.rename(columns={'mrun': 'mrun_hermano_final', 'prob_no_asignado': 'prob_no_asignado_mayor'})\n",
    "conjunto_no_asignado = pd.merge(postulaciones_menor, mayor_no_asignado, how = 'left', left_on = ['mrun_hermano_final'], right_on = ['mrun_hermano_final'], indicator = True)\n",
    "conjunto_no_asignado['_merge'].value_counts()\n",
    "# Todas las obs pegan :)\n",
    "del conjunto_no_asignado['_merge']\n",
    "\n",
    "conjunto_final = conjunto_postulaciones.append(conjunto_no_asignado)\n",
    "\n",
    "# Ordenamos la data\n",
    "\n",
    "conjunto_final = conjunto_final.sort_values(['mrun','rbd_mayor','preferencia_postulante']).reset_index(drop=True)\n"
   ]
  },
  {
   "cell_type": "markdown",
   "metadata": {},
   "source": [
    "### Prioridad dinámica"
   ]
  },
  {
   "cell_type": "code",
   "execution_count": 12,
   "metadata": {},
   "outputs": [],
   "source": [
    "# Reemplazamos prioridad por dinámica cuando corresponda\n",
    "\n",
    "# 1. Reemplazamos la variable criterioprioridad \n",
    "# Se reemplaza por 4 cuando criterioprioridad < 4 y es el rbd correspondiente\n",
    "\n",
    "conjunto_final.loc[(conjunto_final['criterioprioridad'] < 4) & (conjunto_final['rbd_mayor'] == conjunto_final['rbd']), 'criterioprioridad'] = 4\n",
    "conjunto_final['criterioprioridad'].value_counts()\n",
    "\n",
    "# 2. Pegamos con la base tipos\n",
    "\n",
    "tipos = pd.read_csv('/Users/javieragazmuri/ConsiliumBots Dropbox/Javiera Gazmuri/Archivos de javiera@consiliumbots.com/ejemploJavi/tipos_data-data2022_5r_exp0.csv')\n",
    "\n",
    "tipos = pd.read_csv(Path + 'intermediate/simulation_probabilities/tipos_data-_oficialEqSAEAnterior_500r_exp0.csv')\n",
    "\n",
    "tipos = tipos.rename(columns={'criterioPrioridad': 'criterioprioridad'})\n",
    "del tipos['criterioPrioridad_label']\n",
    "del tipos['tipo_label']\n",
    "\n",
    "conjunto_final = pd.merge(conjunto_final, tipos, how = 'left', left_on = ['criterioprioridad','prioritario','alto_rendimiento'], right_on = ['criterioprioridad','prioritario','alto_rendimiento'], indicator = True)\n",
    "conjunto_final['_merge'].value_counts()\n",
    "del conjunto_final['_merge']\n",
    "\n",
    "conjunto_final = pd.merge(conjunto_final, riesgos, how = 'left', left_on =['rbd','codcurso','tipo'], right_on = ['rbd','cod_curso','tipo'], indicator = True)\n",
    "conjunto_final['_merge'].value_counts()\n",
    "conjunto_final.loc[(conjunto_final['_merge'] == 'left_only'), 'risk'] = 0\n",
    "del conjunto_final['_merge']\n"
   ]
  },
  {
   "cell_type": "markdown",
   "metadata": {},
   "source": [
    "### Cálculo probabilidades"
   ]
  },
  {
   "cell_type": "code",
   "execution_count": 13,
   "metadata": {},
   "outputs": [],
   "source": [
    "# Corremos la fórmula\n",
    "\n",
    "# Calculando probabilidades de asignación\n",
    "\n",
    "conjunto_final['prob_asig_menor_t'] = np.nan\n",
    "# Variable auxiliar\n",
    "conjunto_final['prob_acum_menor'] = np.nan\n",
    "\n",
    "# Loop\n",
    "\n",
    "for i in range(0,len(conjunto_final)):\n",
    "    if conjunto_final.loc[i,'preferencia_postulante'] == 1:\n",
    "        conjunto_final.loc[i,'prob_asig_menor_t'] = 1 - conjunto_final.loc[i,'risk']\n",
    "        conjunto_final.loc[i,'prob_acum_menor'] = conjunto_final.loc[i,'prob_asig_menor_t']\n",
    "    else:\n",
    "        conjunto_final.loc[i,'prob_asig_menor_t'] = (1 - conjunto_final.loc[i-1,'prob_acum_menor']) * (1 - conjunto_final.loc[i,'risk'])\n",
    "        conjunto_final.loc[i,'prob_acum_menor'] = conjunto_final.loc[i,'prob_asig_menor_t'] + conjunto_final.loc[i-1,'prob_acum_menor']"
   ]
  },
  {
   "cell_type": "code",
   "execution_count": 14,
   "metadata": {},
   "outputs": [
    {
     "data": {
      "text/plain": [
       "both          159891\n",
       "left_only          0\n",
       "right_only         0\n",
       "Name: _merge, dtype: int64"
      ]
     },
     "execution_count": 14,
     "metadata": {},
     "output_type": "execute_result"
    }
   ],
   "source": [
    "# Obteniendo las probabilidades finales\n",
    "\n",
    "conjunto_final['prob_asig_menor'] = conjunto_final['prob_asig_mayor'] * conjunto_final['prob_asig_menor_t'] \n",
    "\n",
    "prob_asignaciones_menor = conjunto_final.groupby(['mrun','rbd']).agg({'prob_asig_menor':'sum'}).reset_index()\n",
    "\n",
    "postulaciones_menor = pd.merge(postulaciones_menor, prob_asignaciones_menor, how = 'left', left_on =['mrun','rbd'], right_on = ['mrun','rbd'], indicator = True)\n",
    "postulaciones_menor['_merge'].value_counts()"
   ]
  },
  {
   "cell_type": "code",
   "execution_count": 15,
   "metadata": {},
   "outputs": [],
   "source": [
    "# Probabilidad de no asignación\n",
    "\n",
    "menor_no_asignado = postulaciones_menor.groupby('mrun').agg({'prob_asig_menor':'sum', 'mrun_hermano_final':'mean'}).reset_index()\n",
    "\n",
    "menor_no_asignado['prob_no_asignado'] = 1 - menor_no_asignado['prob_asig_menor']\n",
    "# Algunos aparecen con probabilidad negativa porque en realidad es 0,00000000x\n",
    "menor_no_asignado.loc[(menor_no_asignado['prob_no_asignado'] < 0), 'prob_no_asignado'] = 0\n",
    "del menor_no_asignado['prob_asig_menor']\n",
    "\n",
    "menor_no_asignado = menor_no_asignado.rename(columns={'mrun': 'mrun_menor'})"
   ]
  },
  {
   "cell_type": "markdown",
   "metadata": {},
   "source": [
    "### Prob. conjuntas"
   ]
  },
  {
   "cell_type": "code",
   "execution_count": 16,
   "metadata": {},
   "outputs": [
    {
     "name": "stderr",
     "output_type": "stream",
     "text": [
      "/var/folders/nx/hjv6fkdn3fnd8hv6fsj5qw0r0000gn/T/ipykernel_30321/3091031873.py:6: FutureWarning: The frame.append method is deprecated and will be removed from pandas in a future version. Use pandas.concat instead.\n",
      "  prob_menor = prob_menor.append(menor_no_asignado)\n",
      "/var/folders/nx/hjv6fkdn3fnd8hv6fsj5qw0r0000gn/T/ipykernel_30321/3091031873.py:20: FutureWarning: The frame.append method is deprecated and will be removed from pandas in a future version. Use pandas.concat instead.\n",
      "  prob_mayor = prob_mayor.append(mayor_no_asignado)\n"
     ]
    }
   ],
   "source": [
    "# Menor\n",
    "\n",
    "prob_menor = postulaciones_menor[['mrun','rbd','codcurso','preferencia_postulante','prob_asig_menor','mrun_hermano_final']]\n",
    "prob_menor = prob_menor.rename(columns={'mrun': 'mrun_menor', 'preferencia_postulante': 'preferencia_menor','rbd':'rbd_menor', 'codcurso': 'cod_curso_menor'})\n",
    "\n",
    "prob_menor = prob_menor.append(menor_no_asignado)\n",
    "\n",
    "prob_menor = prob_menor.sort_values(['mrun_menor','preferencia_menor']).reset_index(drop=True)\n",
    "\n",
    "missing_rbd_mask = prob_menor['preferencia_menor'].isnull()\n",
    "\n",
    "prob_menor.loc[missing_rbd_mask, 'prob_asig_menor'] = prob_menor.loc[missing_rbd_mask, 'prob_no_asignado']\n",
    "del prob_menor['prob_no_asignado']\n",
    "\n",
    "# Mayor\n",
    "\n",
    "prob_mayor = postulaciones_mayor[['mrun','rbd','codcurso','preferencia_postulante','prob_asig']]\n",
    "mayor_no_asignado = mayor_no_asignado.rename(columns={'mrun_hermano_final': 'mrun'})\n",
    "\n",
    "prob_mayor = prob_mayor.append(mayor_no_asignado)\n",
    "\n",
    "prob_mayor = prob_mayor.sort_values(['mrun','preferencia_postulante']).reset_index(drop=True)\n",
    "\n",
    "missing_rbd_mask = prob_mayor['preferencia_postulante'].isnull()\n",
    "\n",
    "prob_mayor.loc[missing_rbd_mask, 'prob_asig'] = prob_mayor.loc[missing_rbd_mask, 'prob_no_asignado_mayor']\n",
    "del prob_mayor['prob_no_asignado_mayor']\n",
    "\n",
    "prob_mayor = prob_mayor.rename(columns={'mrun': 'mrun_hermano_final', 'preferencia_postulante': 'preferencia_mayor','prob_asig': 'prob_asig_mayor', 'rbd':'rbd_mayor','codcurso':'cod_curso_mayor'})\n",
    "\n",
    "# Merging datasets\n",
    "\n",
    "prob_conjunta_2 = pd.merge(prob_menor, prob_mayor, how = 'left', left_on = 'mrun_hermano_final', right_on = 'mrun_hermano_final', indicator = True)\n",
    "prob_conjunta_2['_merge'].value_counts()\n",
    "del prob_conjunta_2['_merge']\n",
    "\n",
    "# Probabilidad conjunta\n",
    "\n",
    "prob_conjunta_2['prob_conjunta'] = prob_conjunta_2['prob_asig_menor'] * prob_conjunta_2['prob_asig_mayor']\n",
    "\n",
    "prob_conjunta_2 = prob_conjunta_2.sort_values(['mrun_menor','prob_conjunta'], ascending = False).reset_index(drop=True)\n",
    "\n",
    "prob_conjunta_2['auxiliar'] = 1\n",
    "prob_conjunta_2['auxiliar'] = prob_conjunta_2.groupby(['mrun_menor']).cumcount() + 1\n",
    "\n",
    "# A veces auxiliar toma un valor pero en realidad la prob_conjunta = 0 \n",
    "prob_conjunta_2.loc[(prob_conjunta_2['prob_conjunta'] == 0), 'auxiliar'] = 0\n",
    "\n",
    "# Con auxiliar = 1 y = 2 podemos identificar los dos eventos con mayor probabilidad."
   ]
  },
  {
   "cell_type": "markdown",
   "metadata": {},
   "source": [
    "### Estadística"
   ]
  },
  {
   "cell_type": "code",
   "execution_count": 17,
   "metadata": {},
   "outputs": [
    {
     "data": {
      "text/plain": [
       "1.0:1.0              10851\n",
       "mat_aseg:mat_aseg     9146\n",
       "no_asig:no_asig       5129\n",
       "mat_aseg:1.0          4192\n",
       "2.0:2.0               2417\n",
       "mat_aseg:2.0          2024\n",
       "2.0:1.0               1960\n",
       "1.0:mat_aseg          1151\n",
       "mat_aseg:no_asig      1064\n",
       "3.0:3.0                904\n",
       "Name: evento, dtype: int64"
      ]
     },
     "execution_count": 17,
     "metadata": {},
     "output_type": "execute_result"
    }
   ],
   "source": [
    "# Describiendo los eventos\n",
    "\n",
    "# 1. Necesitamos la matrícula asegurada \n",
    "\n",
    "matricula_asegurada = postulaciones[['mrun','rbd','codcurso','criterioprioridad']]\n",
    "matricula_asegurada = matricula_asegurada[matricula_asegurada['criterioprioridad'] == 6]\n",
    "del matricula_asegurada['criterioprioridad']\n",
    "\n",
    "matricula_asegurada_menor = matricula_asegurada.rename(columns={'mrun': 'mrun_menor', 'rbd': 'rbd_mat_aseg_menor', 'codcurso': 'cod_curso_menor_mat_aseg'})\n",
    "matricula_asegurada_mayor = matricula_asegurada.rename(columns={'mrun': 'mrun_hermano_final', 'rbd': 'rbd_mat_aseg_mayor', 'codcurso':'cod_curso_mayor_mat_aseg'})\n",
    "\n",
    "prob_conjunta_2 = pd.merge(prob_conjunta_2,matricula_asegurada_menor, how = 'left', left_on = 'mrun_menor', right_on = 'mrun_menor')\n",
    "prob_conjunta_2 = pd.merge(prob_conjunta_2,matricula_asegurada_mayor, how = 'left', left_on = 'mrun_hermano_final', right_on = 'mrun_hermano_final')\n",
    "\n",
    "# En vez de que aparezca el nº con la preferencia, pondremos matrícula asegurada\n",
    "\n",
    "prob_conjunta_2.loc[(prob_conjunta_2['rbd_menor'] == prob_conjunta_2['rbd_mat_aseg_menor']) & (prob_conjunta_2['cod_curso_menor'] == prob_conjunta_2['cod_curso_menor_mat_aseg']), 'preferencia_menor'] = 'mat_aseg'\n",
    "prob_conjunta_2.loc[(prob_conjunta_2['rbd_mayor'] == prob_conjunta_2['rbd_mat_aseg_mayor']) & (prob_conjunta_2['cod_curso_mayor'] == prob_conjunta_2['cod_curso_mayor_mat_aseg']), 'preferencia_mayor'] = 'mat_aseg'\n",
    "\n",
    "# Creando variable que combina ambas preferencias\n",
    "\n",
    "# Convert 'preferencia_menor' and 'preferencia_mayor' columns to strings\n",
    "prob_conjunta_2['preferencia_menor'] = prob_conjunta_2['preferencia_menor'].astype(str)\n",
    "prob_conjunta_2['preferencia_mayor'] = prob_conjunta_2['preferencia_mayor'].astype(str)\n",
    "\n",
    "prob_conjunta_2.loc[prob_conjunta_2['preferencia_menor'] == 'nan', 'preferencia_menor'] = 'no_asig'\n",
    "prob_conjunta_2.loc[prob_conjunta_2['preferencia_mayor'] == 'nan', 'preferencia_mayor'] = 'no_asig'\n",
    "\n",
    "# Concatenate 'preferencia_mayor' and 'preferencia_menor' columns with ':' separator\n",
    "prob_conjunta_2['evento'] = prob_conjunta_2['preferencia_mayor'] + ':' + prob_conjunta_2['preferencia_menor']\n",
    "\n",
    "# Viendo cómo se caracterizan los dos eventos más probables\n",
    "prob_conjunta_2.loc[prob_conjunta_2['auxiliar'] == 1, 'evento'].value_counts().head(10)\n"
   ]
  },
  {
   "cell_type": "markdown",
   "metadata": {},
   "source": [
    "# Totalidad eventos"
   ]
  },
  {
   "cell_type": "code",
   "execution_count": 18,
   "metadata": {},
   "outputs": [
    {
     "data": {
      "text/plain": [
       "1.0:1.0              16575\n",
       "mat_aseg:mat_aseg    11904\n",
       "mat_aseg:1.0         11024\n",
       "2.0:1.0               8789\n",
       "mat_aseg:2.0          5281\n",
       "2.0:2.0               3727\n",
       "1.0:2.0               3394\n",
       "1.0:mat_aseg          3320\n",
       "no_asig:no_asig       3053\n",
       "no_asig:1.0           2516\n",
       "Name: evento, dtype: int64"
      ]
     },
     "execution_count": 18,
     "metadata": {},
     "output_type": "execute_result"
    }
   ],
   "source": [
    "# Diferencia probabilidades conjuntas\n",
    "\n",
    "prob_conjunta_sin_bloque = prob_conjunta_2[['mrun_menor', 'evento', 'prob_conjunta','auxiliar']]\n",
    "prob_conjunta_sin_bloque = prob_conjunta_sin_bloque.rename(columns={'prob_conjunta': 'prob_conjunta_sinbloque', 'auxiliar':'auxiliar_sinbloque'})\n",
    "\n",
    "ambas_prob = pd.merge(prob_conjunta_1, prob_conjunta_sin_bloque, how = 'left', left_on = ['mrun_menor', 'evento'], right_on = ['mrun_menor', 'evento'], indicator = True)\n",
    "ambas_prob['_merge'].value_counts()\n",
    "\n",
    "ambas_prob['dif_prob'] = abs(ambas_prob['prob_conjunta'] - ambas_prob['prob_conjunta_sinbloque'])\n",
    "\n",
    "ambas_prob = ambas_prob.sort_values(['mrun_menor','dif_prob'], ascending = False).reset_index(drop=True)\n",
    "\n",
    "ambas_prob['auxiliar_diferencia'] = 1\n",
    "ambas_prob['auxiliar_diferencia'] = ambas_prob.groupby(['mrun_menor']).cumcount() + 1\n",
    "\n",
    "# Viendo cómo se caracterizan los eventos con mayor diferencia\n",
    "ambas_prob.loc[ambas_prob['auxiliar_diferencia'].isin([1, 2]), 'evento'].value_counts().head(10)"
   ]
  },
  {
   "cell_type": "markdown",
   "metadata": {},
   "source": [
    "## Eventos estáticos"
   ]
  },
  {
   "cell_type": "markdown",
   "metadata": {},
   "source": [
    "### Eventos separados"
   ]
  },
  {
   "cell_type": "code",
   "execution_count": 22,
   "metadata": {},
   "outputs": [
    {
     "name": "stderr",
     "output_type": "stream",
     "text": [
      "/var/folders/nx/hjv6fkdn3fnd8hv6fsj5qw0r0000gn/T/ipykernel_30321/2118731433.py:9: SettingWithCopyWarning: \n",
      "A value is trying to be set on a copy of a slice from a DataFrame.\n",
      "Try using .loc[row_indexer,col_indexer] = value instead\n",
      "\n",
      "See the caveats in the documentation: https://pandas.pydata.org/pandas-docs/stable/user_guide/indexing.html#returning-a-view-versus-a-copy\n",
      "  base_eventos['n_evento'] = 0\n"
     ]
    },
    {
     "data": {
      "text/plain": [
       "0    957354\n",
       "1     47156\n",
       "3     35982\n",
       "4     18936\n",
       "2      6500\n",
       "Name: n_evento, dtype: int64"
      ]
     },
     "execution_count": 22,
     "metadata": {},
     "output_type": "execute_result"
    }
   ],
   "source": [
    "# Reglas:\n",
    "# 1. Evento más probable con postulación familiar\n",
    "# 2. Evento más probable con postulación independiente (si no está en anteriores)\n",
    "# 3. 1-1 (si no está en anteriores)\n",
    "# 4. más probable colegios distintos (prob. bloque o independiente, depende cual es mayor) (si no está en anteriores)\n",
    "\n",
    "base_eventos =  ambas_prob[['mrun_menor','rbd_menor','cod_curso_menor','preferencia_menor', 'mrun_hermano_final', 'rbd_mayor','cod_curso_mayor','preferencia_mayor','evento','prob_conjunta','prob_conjunta_sinbloque']]\n",
    "\n",
    "base_eventos['n_evento'] = 0\n",
    "\n",
    "# Evento 1\n",
    "\n",
    "base_eventos = base_eventos.sort_values(['mrun_menor','prob_conjunta'], ascending = False).reset_index(drop=True)\n",
    "\n",
    "base_eventos['aux_bloque'] = 1\n",
    "base_eventos['aux_bloque'] = base_eventos.groupby(['mrun_menor']).cumcount() + 1\n",
    "base_eventos.loc[(base_eventos['prob_conjunta'] == 0), 'aux_bloque'] = 0\n",
    "\n",
    "# Reemplazar nº evento\n",
    "base_eventos.loc[(base_eventos['aux_bloque'] == 1), 'n_evento'] = 1\n",
    "\n",
    "# Evento 2\n",
    "\n",
    "base_eventos = base_eventos.sort_values(['mrun_menor','prob_conjunta_sinbloque'], ascending = False).reset_index(drop=True)\n",
    "\n",
    "base_eventos['aux_sinbloque'] = 1\n",
    "base_eventos['aux_sinbloque'] = base_eventos.groupby(['mrun_menor']).cumcount() + 1\n",
    "base_eventos.loc[(base_eventos['prob_conjunta_sinbloque'] == 0), 'aux_sinbloque'] = 0\n",
    "\n",
    "# Reemplazar nº evento\n",
    "base_eventos.loc[((base_eventos['aux_sinbloque'] == 1) & (base_eventos['n_evento'] == 0)), 'n_evento'] = 2\n",
    "\n",
    "# Evento 3\n",
    "\n",
    "base_eventos.loc[((base_eventos['evento'] == \"1.0:1.0\") & (base_eventos['n_evento'] == 0)), 'n_evento'] = 3\n",
    "\n",
    "# Evento 4\n",
    "base_eventos['evento_cruzado'] = 0\n",
    "base_eventos.loc[((base_eventos['rbd_menor'] != base_eventos['rbd_mayor']) & (base_eventos['rbd_menor'].notnull()) & (base_eventos['rbd_mayor'].notnull())) , 'evento_cruzado'] = 1\n",
    "\n",
    "# Mayor del bloque\n",
    "base_eventos = base_eventos.sort_values(['mrun_menor','evento_cruzado','prob_conjunta'], ascending = False).reset_index(drop=True)\n",
    "\n",
    "base_eventos['aux_cruzado_bloq'] = 1\n",
    "base_eventos['aux_cruzado_bloq'] = base_eventos.groupby(['mrun_menor']).cumcount() + 1\n",
    "base_eventos.loc[((base_eventos['prob_conjunta'] == 0) | (base_eventos['evento_cruzado'] == 0)), 'aux_cruzado_bloq'] = 0\n",
    "\n",
    "# Mayor sin bloque\n",
    "base_eventos = base_eventos.sort_values(['mrun_menor','evento_cruzado','prob_conjunta_sinbloque'], ascending = False).reset_index(drop=True)\n",
    "\n",
    "base_eventos['aux_cruzado_nobloq'] = 1\n",
    "base_eventos['aux_cruzado_nobloq'] = base_eventos.groupby(['mrun_menor']).cumcount() + 1\n",
    "base_eventos.loc[((base_eventos['prob_conjunta_sinbloque'] == 0) | (base_eventos['evento_cruzado'] == 0)), 'aux_cruzado_nobloq'] = 0\n",
    "\n",
    "# Mayor prob. cruzada\n",
    "base_eventos['prob_cruzada'] = 0\n",
    "base_eventos.loc[(base_eventos['aux_cruzado_bloq'] == 1), 'prob_cruzada'] = base_eventos['prob_conjunta']\n",
    "base_eventos.loc[(base_eventos['aux_cruzado_nobloq'] == 1), 'prob_cruzada'] = base_eventos['prob_conjunta_sinbloque']\n",
    "\n",
    "base_eventos['prob_cruzada_final'] = base_eventos.groupby('mrun_menor')['prob_cruzada'].transform('max')\n",
    "\n",
    "# Reemplazo variable de interés\n",
    "base_eventos.loc[((base_eventos['prob_cruzada_final'] == base_eventos['prob_cruzada']) & (base_eventos['prob_cruzada'] != 0) & (base_eventos['n_evento'] == 0)), 'n_evento'] = 4\n",
    "\n",
    "base_eventos['n_evento'].value_counts()"
   ]
  },
  {
   "cell_type": "markdown",
   "metadata": {},
   "source": [
    "### Eventos agrupados"
   ]
  },
  {
   "cell_type": "code",
   "execution_count": 23,
   "metadata": {},
   "outputs": [],
   "source": [
    "\n",
    "# Juntos\n",
    "juntos = base_eventos[(base_eventos['n_evento'] == 0) & (base_eventos['rbd_menor'] == base_eventos['rbd_mayor'])]\n",
    "juntos = juntos.groupby(['mrun_menor','mrun_hermano_final']).agg({'prob_conjunta':'sum', 'prob_conjunta_sinbloque' : 'sum'}).reset_index()\n",
    "\n",
    "juntos['n_evento'] = 5\n",
    "juntos['evento'] = \"Juntos\"\n",
    "\n",
    "# Separados\n",
    "separados = base_eventos[(base_eventos['n_evento'] == 0) & (base_eventos['rbd_menor'] != base_eventos['rbd_mayor']) & (base_eventos['rbd_menor'].notnull()) & (base_eventos['rbd_mayor'].notnull())]\n",
    "separados = separados.groupby(['mrun_menor','mrun_hermano_final']).agg({'prob_conjunta':'sum', 'prob_conjunta_sinbloque' : 'sum'}).reset_index()\n",
    "\n",
    "separados['n_evento'] = 6\n",
    "separados['evento'] = \"Separados\"\n",
    "\n",
    "# Al menos uno no asignado\n",
    "no_asignados = base_eventos[(base_eventos['n_evento'] == 0) & (base_eventos['rbd_menor'].isnull() | base_eventos['rbd_mayor'].isnull())]\n",
    "no_asignados = no_asignados.groupby(['mrun_menor','mrun_hermano_final']).agg({'prob_conjunta':'sum', 'prob_conjunta_sinbloque' : 'sum'}).reset_index()\n",
    "\n",
    "no_asignados['n_evento'] = 7\n",
    "no_asignados['evento'] = \"Al menos uno no asignado\""
   ]
  },
  {
   "cell_type": "markdown",
   "metadata": {},
   "source": [
    "### Todos eventos"
   ]
  },
  {
   "cell_type": "code",
   "execution_count": 24,
   "metadata": {},
   "outputs": [],
   "source": [
    "estaticos = base_eventos[base_eventos['n_evento'] != 0]\n",
    "estaticos = estaticos[['mrun_menor', 'rbd_menor','cod_curso_menor','preferencia_menor','mrun_hermano_final', 'rbd_mayor','cod_curso_mayor', 'preferencia_mayor', 'n_evento', 'evento', 'prob_conjunta', 'prob_conjunta_sinbloque']]\n",
    "\n",
    "total_eventos = pd.concat([estaticos, juntos, separados, no_asignados], ignore_index=True)\n",
    "total_eventos = total_eventos.sort_values(['mrun_menor','n_evento']).reset_index(drop=True)\n",
    "\n",
    "# En % y sin decimales\n",
    "\n",
    "total_eventos['prob_conjunta'] = total_eventos['prob_conjunta'] * 100\n",
    "total_eventos['prob_conjunta'] = total_eventos['prob_conjunta'].apply(lambda x: round(x, 0))\n",
    "\n",
    "total_eventos['prob_conjunta_sinbloque'] = total_eventos['prob_conjunta_sinbloque'] * 100\n",
    "total_eventos['prob_conjunta_sinbloque'] = total_eventos['prob_conjunta_sinbloque'].apply(lambda x: round(x, 0))\n"
   ]
  },
  {
   "cell_type": "code",
   "execution_count": 28,
   "metadata": {},
   "outputs": [],
   "source": [
    "# Explicación eventos\n",
    "\n",
    "total_eventos['explicacion'] = \"\"\n",
    "\n",
    "# Matrícula asegurada\n",
    "\n",
    "total_eventos['exp_mat_menor'] = \" \"\n",
    "total_eventos['exp_mat_mayor'] = \" \"\n",
    "\n",
    "\n",
    "total_eventos.loc[total_eventos['preferencia_menor'] == 'mat_aseg', 'exp_mat_menor'] = \" (su establecimiento de origen)\"\n",
    "total_eventos.loc[total_eventos['preferencia_mayor'] == 'mat_aseg', 'exp_mat_mayor'] = \" (su establecimiento de origen)\"\n",
    "\n",
    "# Juntos, no en matrícula asegurada\n",
    "\n",
    "total_eventos.loc[(total_eventos['rbd_menor'] == total_eventos['rbd_mayor']) & (total_eventos['preferencia_menor'] != 'mat_aseg') & (total_eventos['preferencia_mayor'] != 'mat_aseg'), 'explicacion'] = \"En este resultado, ambos postulantes quedan asignados en el establecimiento \" + total_eventos['rbd_menor'].astype(str) + \", con \" + total_eventos['prob_conjunta'].astype(str) + \"% de probabilidad si elige la opción familiar y \" + total_eventos['prob_conjunta_sinbloque'].astype(str) + \"% si elige postulación independiente.\"\n",
    "\n",
    "# Juntos, en matrícula asegurada\n",
    "\n",
    "total_eventos.loc[(total_eventos['rbd_menor'] == total_eventos['rbd_mayor']) & (total_eventos['preferencia_menor'] == 'mat_aseg') & (total_eventos['preferencia_mayor'] == 'mat_aseg'), 'explicacion'] = \"En este resultado, ambos postulantes quedan asignados en el establecimiento \" + total_eventos['rbd_menor'].astype(str) + total_eventos['exp_mat_menor'] + \", con \" + total_eventos['prob_conjunta'].astype(str) + \"% de probabilidad si elige la opción familiar y \" + total_eventos['prob_conjunta_sinbloque'].astype(str) + \"% si elige postulación independiente.\"\n",
    "\n",
    "# Separados\n",
    "\n",
    "total_eventos.loc[total_eventos['rbd_menor'] != total_eventos['rbd_mayor'], 'explicacion'] = \"En este resultado, {mayor} queda asignado en \" + total_eventos['rbd_mayor'].astype(str) + \" y {menor} queda asignado en \" + total_eventos['rbd_menor'].astype(str) + "
   ]
  },
  {
   "cell_type": "markdown",
   "metadata": {},
   "source": [
    "## Eventos dinámicos"
   ]
  },
  {
   "cell_type": "code",
   "execution_count": 52,
   "metadata": {},
   "outputs": [],
   "source": [
    "# Entre los eventos que se muestran, el con mayor probabilidad (sin bloque) cruzado (separados)\n",
    "\n",
    "total_eventos['evento_cruzado'] = 0\n",
    "total_eventos.loc[((total_eventos['rbd_menor'] != total_eventos['rbd_mayor']) & (total_eventos['rbd_menor'].notnull()) & (total_eventos['rbd_mayor'].notnull())) , 'evento_cruzado'] = 1\n",
    "\n",
    "total_eventos['prob_cruzada'] = total_eventos['evento_cruzado'] * total_eventos['prob_conjunta_sinbloque']\n",
    "total_eventos['prob_cruzada'] = total_eventos.groupby('mrun_menor')['prob_cruzada'].transform('max')\n",
    "\n",
    "total_eventos.loc[total_eventos['prob_conjunta_sinbloque'] != total_eventos['prob_cruzada'], 'evento_cruzado'] = 0\n",
    "\n",
    "total_eventos[['pref_mayor', 'pref_menor']] = total_eventos['evento'].str.split(':', expand=True)\n",
    "\n",
    "# Variable: hermano que postula el próximo año\n",
    "\n",
    "total_eventos['hermano_postula'] = 'nan'\n",
    "total_eventos.loc[(total_eventos['pref_mayor'] > total_eventos['pref_menor']) & (total_eventos['evento_cruzado'] == 1), 'hermano_postula'] = 'mayor'\n",
    "total_eventos.loc[(total_eventos['pref_mayor'] < total_eventos['pref_menor']) & (total_eventos['evento_cruzado'] == 1), 'hermano_postula'] = 'menor'\n",
    "\n",
    "# Variable: colegio al que postula\n",
    "\n",
    "total_eventos['rbd_postula'] = 'nan'\n",
    "total_eventos.loc[total_eventos['hermano_postula'] == 'mayor', 'rbd_postula'] = total_eventos['rbd_menor']\n",
    "total_eventos.loc[total_eventos['hermano_postula'] == 'menor', 'rbd_postula'] = total_eventos['rbd_mayor']\n",
    "\n",
    "# Checking: necesitamos que ese colegio esté en las preferencias (superior) del hermano correspondiente\n",
    "\n"
   ]
  }
 ],
 "metadata": {
  "kernelspec": {
   "display_name": "Python 3",
   "language": "python",
   "name": "python3"
  },
  "language_info": {
   "codemirror_mode": {
    "name": "ipython",
    "version": 3
   },
   "file_extension": ".py",
   "mimetype": "text/x-python",
   "name": "python",
   "nbconvert_exporter": "python",
   "pygments_lexer": "ipython3",
   "version": "3.8.2"
  },
  "orig_nbformat": 4
 },
 "nbformat": 4,
 "nbformat_minor": 2
}
