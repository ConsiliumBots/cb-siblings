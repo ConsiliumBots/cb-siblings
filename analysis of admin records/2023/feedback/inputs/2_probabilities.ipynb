{
 "cells": [
  {
   "cell_type": "code",
   "execution_count": 60,
   "metadata": {},
   "outputs": [],
   "source": [
    "import os\n",
    "import pandas as pd\n",
    "import numpy as np\n",
    "\n",
    "Path = '/Users/javieragazmuri/ConsiliumBots Dropbox/ConsiliumBots/Projects/Chile/Siblings/data/'\n",
    "\n",
    "postulaciones = pd.read_csv(Path + 'intermediate/simulation_probabilities/inputs_for_joint_probabilities.csv')\n",
    "\n",
    "riesgos = pd.read_csv(Path + 'intermediate/simulation_probabilities/riesgos_data-_oficialEqSAEAnterior_500r_exp0.csv')\n",
    "\n",
    "postulaciones = pd.merge(postulaciones, riesgos, how = 'left', left_on =['rbd','codcurso','tipo'], right_on = ['rbd','cod_curso','tipo'], indicator = True)\n",
    "postulaciones['_merge'].value_counts()\n",
    "\n",
    "postulaciones.loc[(postulaciones['_merge'] == 'left_only'), 'risk'] = 0\n",
    "del postulaciones['_merge']"
   ]
  },
  {
   "cell_type": "markdown",
   "metadata": {},
   "source": [
    "# Prob. Mayor"
   ]
  },
  {
   "cell_type": "code",
   "execution_count": 61,
   "metadata": {},
   "outputs": [],
   "source": [
    "# Filtramos la data\n",
    "\n",
    "postulaciones_mayor = postulaciones.loc[(postulaciones.hermano_mayor == 1)]\n",
    "\n",
    "# Calculando probabilidades de asignación\n",
    "\n",
    "postulaciones_mayor = postulaciones_mayor.sort_values(['mrun','preferencia_postulante']).reset_index(drop=True)\n",
    "postulaciones_mayor['prob_asig'] = np.nan\n",
    "# Variable auxiliar\n",
    "postulaciones_mayor['prob_acum'] = np.nan\n",
    "\n",
    "# Loop\n",
    "\n",
    "for i in range(0,len(postulaciones_mayor)):\n",
    "    if postulaciones_mayor.loc[i,'preferencia_postulante'] == 1:\n",
    "        postulaciones_mayor.loc[i,'prob_asig'] = 1 - postulaciones_mayor.loc[i,'risk']\n",
    "        postulaciones_mayor.loc[i,'prob_acum'] = postulaciones_mayor.loc[i,'prob_asig']\n",
    "    else:\n",
    "        postulaciones_mayor.loc[i,'prob_asig'] = (1 - postulaciones_mayor.loc[i-1,'prob_acum']) * (1 - postulaciones_mayor.loc[i,'risk'])\n",
    "        postulaciones_mayor.loc[i,'prob_acum'] = postulaciones_mayor.loc[i,'prob_asig'] + postulaciones_mayor.loc[i-1,'prob_acum']\n",
    "\n",
    "mayor_no_asignado = postulaciones_mayor.groupby('mrun').agg({'prob_asig':'sum'}).reset_index()\n",
    "\n",
    "mayor_no_asignado['prob_no_asignado'] = 1 - mayor_no_asignado['prob_asig']\n",
    "del mayor_no_asignado['prob_asig']\n"
   ]
  },
  {
   "cell_type": "markdown",
   "metadata": {},
   "source": [
    "# Prob. Menor"
   ]
  },
  {
   "cell_type": "markdown",
   "metadata": {},
   "source": [
    "## Creando la data"
   ]
  },
  {
   "cell_type": "code",
   "execution_count": 62,
   "metadata": {},
   "outputs": [
    {
     "name": "stderr",
     "output_type": "stream",
     "text": [
      "/var/folders/nx/hjv6fkdn3fnd8hv6fsj5qw0r0000gn/T/ipykernel_5809/4063525290.py:31: FutureWarning: The frame.append method is deprecated and will be removed from pandas in a future version. Use pandas.concat instead.\n",
      "  conjunto_final = conjunto_postulaciones.append(conjunto_no_asignado)\n"
     ]
    }
   ],
   "source": [
    "# Filtramos la data\n",
    "\n",
    "postulaciones_menor = postulaciones.loc[(postulaciones.hermano_mayor == 0)]\n",
    "\n",
    "# Eliminamos riesgo porque los volveremos a obtener\n",
    "\n",
    "del postulaciones_menor['risk']\n",
    "\n",
    "# Eliminamos tipo porque lo volveremos a obtener\n",
    "\n",
    "del postulaciones_menor['tipo']\n",
    "\n",
    "# Pegamos las postulaciones del hermano mayor, para que cada el set de postulaciones del menor se repita para cada postulación del mayor\n",
    "\n",
    "postulaciones_mayor_para_hermano = postulaciones_mayor[['mrun','prob_asig','rbd']]\n",
    "postulaciones_mayor_para_hermano = postulaciones_mayor_para_hermano.rename(columns={'mrun': 'mrun_hermano_final', 'prob_asig': 'prob_asig_mayor', 'rbd': 'rbd_mayor'})\n",
    "\n",
    "conjunto_postulaciones = pd.merge(postulaciones_menor, postulaciones_mayor_para_hermano, how = 'left', left_on = ['mrun_hermano_final'], right_on = ['mrun_hermano_final'], indicator = True)\n",
    "conjunto_postulaciones['_merge'].value_counts()\n",
    "# Todas las obs pegan :)\n",
    "del conjunto_postulaciones['_merge']\n",
    "\n",
    "# Hacemos append de las postulaciones del menor para sumar el caso en que el mayor no es asignado\n",
    "\n",
    "mayor_no_asignado = mayor_no_asignado.rename(columns={'mrun': 'mrun_hermano_final', 'prob_no_asignado': 'prob_no_asignado_mayor'})\n",
    "conjunto_no_asignado = pd.merge(postulaciones_menor, mayor_no_asignado, how = 'left', left_on = ['mrun_hermano_final'], right_on = ['mrun_hermano_final'], indicator = True)\n",
    "conjunto_no_asignado['_merge'].value_counts()\n",
    "# Todas las obs pegan :)\n",
    "del conjunto_no_asignado['_merge']\n",
    "\n",
    "conjunto_final = conjunto_postulaciones.append(conjunto_no_asignado)\n",
    "\n",
    "# Ordenamos la data\n",
    "\n",
    "conjunto_final = conjunto_final.sort_values(['mrun','rbd_mayor','preferencia_postulante']).reset_index(drop=True)\n"
   ]
  },
  {
   "cell_type": "markdown",
   "metadata": {},
   "source": [
    "## 1. Prioridad dinámica"
   ]
  },
  {
   "cell_type": "code",
   "execution_count": 63,
   "metadata": {},
   "outputs": [],
   "source": [
    "# Reemplazamos prioridad por dinámica cuando corresponda\n",
    "\n",
    "# 1. Reemplazamos la variable criterioprioridad \n",
    "# Se reemplaza por 4 cuando criterioprioridad < 4 y es el rbd correspondiente\n",
    "\n",
    "conjunto_final.loc[(conjunto_final['criterioprioridad'] < 4) & (conjunto_final['rbd_mayor'] == conjunto_final['rbd']), 'criterioprioridad'] = 4\n",
    "conjunto_final['criterioprioridad'].value_counts()\n",
    "\n",
    "# 2. Pegamos con la base tipos\n",
    "\n",
    "tipos = pd.read_csv('/Users/javieragazmuri/ConsiliumBots Dropbox/Javiera Gazmuri/Archivos de javiera@consiliumbots.com/ejemploJavi/tipos_data-data2022_5r_exp0.csv')\n",
    "\n",
    "tipos = pd.read_csv(Path + 'intermediate/simulation_probabilities/tipos_data-_oficialEqSAEAnterior_500r_exp0.csv')\n",
    "\n",
    "tipos = tipos.rename(columns={'criterioPrioridad': 'criterioprioridad'})\n",
    "del tipos['criterioPrioridad_label']\n",
    "del tipos['tipo_label']\n",
    "\n",
    "conjunto_final = pd.merge(conjunto_final, tipos, how = 'left', left_on = ['criterioprioridad','prioritario','alto_rendimiento'], right_on = ['criterioprioridad','prioritario','alto_rendimiento'], indicator = True)\n",
    "conjunto_final['_merge'].value_counts()\n",
    "del conjunto_final['_merge']\n",
    "\n",
    "conjunto_final = pd.merge(conjunto_final, riesgos, how = 'left', left_on =['rbd','codcurso','tipo'], right_on = ['rbd','cod_curso','tipo'], indicator = True)\n",
    "conjunto_final['_merge'].value_counts()\n",
    "conjunto_final.loc[(conjunto_final['_merge'] == 'left_only'), 'risk'] = 0\n",
    "del conjunto_final['_merge']\n"
   ]
  },
  {
   "cell_type": "markdown",
   "metadata": {},
   "source": [
    "## 2. Postulación familiar (para no activar postulación familiar, no se corre)"
   ]
  },
  {
   "cell_type": "code",
   "execution_count": 49,
   "metadata": {},
   "outputs": [],
   "source": [
    "# Re-ordenamos preferencias por postulación en bloque\n",
    "\n",
    "conjunto_final['dummy'] = 0\n",
    "conjunto_final.loc[(conjunto_final['rbd_mayor'] == conjunto_final['rbd']), 'dummy'] = 1\n",
    "\n",
    "# Indicador de que la postulacion del mayor esta en la del menor\n",
    "conjunto_final['mrun_con_dummy'] = conjunto_final.groupby(['mrun','rbd_mayor'])['dummy'].transform('max')\n",
    "\n",
    "# Variable que sirve para ver si es que el menor postulo a ese colegio en su primera preferencia\n",
    "conjunto_final['num_preferencia'] = 0\n",
    "conjunto_final.loc[(conjunto_final['rbd_mayor'] == conjunto_final['rbd']), 'num_preferencia'] = conjunto_final['preferencia_postulante']\n",
    "\n",
    "conjunto_final['max_num_preferencia'] = conjunto_final.groupby(['mrun','rbd_mayor'])['num_preferencia'].transform('max')\n",
    "\n",
    "# Reordenando\n",
    "conjunto_final.loc[(conjunto_final['max_num_preferencia'] != 1) & (conjunto_final['max_num_preferencia'] != np.nan) & (conjunto_final['mrun_con_dummy']==1), 'preferencia_postulante'] = conjunto_final['preferencia_postulante'] + 1\n",
    "conjunto_final.loc[(conjunto_final['max_num_preferencia'] != 1) & (conjunto_final['max_num_preferencia'] != np.nan) & (conjunto_final['mrun_con_dummy']==1) & (conjunto_final['rbd_mayor'] == conjunto_final['rbd']), 'preferencia_postulante'] = 1\n",
    "\n",
    "# Creando nueva variable de preferencia_postulante\n",
    "conjunto_final = conjunto_final.sort_values(['mrun','rbd_mayor','preferencia_postulante']).reset_index(drop=True)\n",
    "\n",
    "conjunto_final['new_pref'] = 1\n",
    "conjunto_final['new_pref'] = conjunto_final.groupby(['mrun','rbd_mayor']).cumcount() + 1\n",
    "\n",
    "missing_rbd_mask = conjunto_final['rbd_mayor'].isnull()\n",
    "\n",
    "conjunto_final.loc[missing_rbd_mask, 'new_pref'] = conjunto_final.loc[missing_rbd_mask, 'preferencia_postulante']\n",
    "\n",
    "del conjunto_final['preferencia_postulante']\n",
    "conjunto_final = conjunto_final.rename(columns={'new_pref': 'preferencia_postulante'})"
   ]
  },
  {
   "cell_type": "markdown",
   "metadata": {},
   "source": [
    "## 3. Cálculo probabilidades"
   ]
  },
  {
   "cell_type": "code",
   "execution_count": 64,
   "metadata": {},
   "outputs": [],
   "source": [
    "# Corremos la fórmula\n",
    "\n",
    "# Calculando probabilidades de asignación\n",
    "\n",
    "conjunto_final['prob_asig_menor_t'] = np.nan\n",
    "# Variable auxiliar\n",
    "conjunto_final['prob_acum_menor'] = np.nan\n",
    "\n",
    "# Loop\n",
    "\n",
    "for i in range(0,len(conjunto_final)):\n",
    "    if conjunto_final.loc[i,'preferencia_postulante'] == 1:\n",
    "        conjunto_final.loc[i,'prob_asig_menor_t'] = 1 - conjunto_final.loc[i,'risk']\n",
    "        conjunto_final.loc[i,'prob_acum_menor'] = conjunto_final.loc[i,'prob_asig_menor_t']\n",
    "    else:\n",
    "        conjunto_final.loc[i,'prob_asig_menor_t'] = (1 - conjunto_final.loc[i-1,'prob_acum_menor']) * (1 - conjunto_final.loc[i,'risk'])\n",
    "        conjunto_final.loc[i,'prob_acum_menor'] = conjunto_final.loc[i,'prob_asig_menor_t'] + conjunto_final.loc[i-1,'prob_acum_menor']\n",
    "\n"
   ]
  },
  {
   "cell_type": "code",
   "execution_count": 65,
   "metadata": {},
   "outputs": [
    {
     "data": {
      "text/plain": [
       "both          193358\n",
       "left_only          0\n",
       "right_only         0\n",
       "Name: _merge, dtype: int64"
      ]
     },
     "execution_count": 65,
     "metadata": {},
     "output_type": "execute_result"
    }
   ],
   "source": [
    "# Obteniendo las probabilidades finales\n",
    "\n",
    "conjunto_final['prob_asig_menor'] = conjunto_final['prob_asig_mayor'] * conjunto_final['prob_asig_menor_t'] \n",
    "\n",
    "prob_asignaciones_menor = conjunto_final.groupby(['mrun','rbd']).agg({'prob_asig_menor':'sum'}).reset_index()\n",
    "\n",
    "postulaciones_menor = pd.merge(postulaciones_menor, prob_asignaciones_menor, how = 'left', left_on =['mrun','rbd'], right_on = ['mrun','rbd'], indicator = True)\n",
    "postulaciones_menor['_merge'].value_counts()"
   ]
  },
  {
   "cell_type": "code",
   "execution_count": 66,
   "metadata": {},
   "outputs": [],
   "source": [
    "# Probabilidad de no asignación\n",
    "\n",
    "menor_no_asignado = postulaciones_menor.groupby('mrun').agg({'prob_asig_menor':'sum', 'mrun_hermano_final':'mean'}).reset_index()\n",
    "\n",
    "menor_no_asignado['prob_no_asignado'] = 1 - menor_no_asignado['prob_asig_menor']\n",
    "del menor_no_asignado['prob_asig_menor']\n",
    "\n",
    "menor_no_asignado = menor_no_asignado.rename(columns={'mrun': 'mrun_menor'})\n"
   ]
  },
  {
   "cell_type": "markdown",
   "metadata": {},
   "source": [
    "# Prob. conjuntas"
   ]
  },
  {
   "cell_type": "code",
   "execution_count": 67,
   "metadata": {},
   "outputs": [
    {
     "name": "stderr",
     "output_type": "stream",
     "text": [
      "/var/folders/nx/hjv6fkdn3fnd8hv6fsj5qw0r0000gn/T/ipykernel_5809/2323021080.py:6: FutureWarning: The frame.append method is deprecated and will be removed from pandas in a future version. Use pandas.concat instead.\n",
      "  prob_menor = prob_menor.append(menor_no_asignado)\n",
      "/var/folders/nx/hjv6fkdn3fnd8hv6fsj5qw0r0000gn/T/ipykernel_5809/2323021080.py:20: FutureWarning: The frame.append method is deprecated and will be removed from pandas in a future version. Use pandas.concat instead.\n",
      "  prob_mayor = prob_mayor.append(mayor_no_asignado)\n"
     ]
    }
   ],
   "source": [
    "# Menor\n",
    "\n",
    "prob_menor = postulaciones_menor[['mrun','rbd','codcurso','preferencia_postulante','prob_asig_menor','mrun_hermano_final']]\n",
    "prob_menor = prob_menor.rename(columns={'mrun': 'mrun_menor', 'preferencia_postulante': 'preferencia_menor','rbd':'rbd_menor', 'codcurso': 'cod_curso_menor'})\n",
    "\n",
    "prob_menor = prob_menor.append(menor_no_asignado)\n",
    "\n",
    "prob_menor = prob_menor.sort_values(['mrun_menor','preferencia_menor']).reset_index(drop=True)\n",
    "\n",
    "missing_rbd_mask = prob_menor['preferencia_menor'].isnull()\n",
    "\n",
    "prob_menor.loc[missing_rbd_mask, 'prob_asig_menor'] = prob_menor.loc[missing_rbd_mask, 'prob_no_asignado']\n",
    "del prob_menor['prob_no_asignado']\n",
    "\n",
    "# Mayor\n",
    "\n",
    "prob_mayor = postulaciones_mayor[['mrun','rbd','codcurso','preferencia_postulante','prob_asig']]\n",
    "mayor_no_asignado = mayor_no_asignado.rename(columns={'mrun_hermano_final': 'mrun'})\n",
    "\n",
    "prob_mayor = prob_mayor.append(mayor_no_asignado)\n",
    "\n",
    "prob_mayor = prob_mayor.sort_values(['mrun','preferencia_postulante']).reset_index(drop=True)\n",
    "\n",
    "missing_rbd_mask = prob_mayor['preferencia_postulante'].isnull()\n",
    "\n",
    "prob_mayor.loc[missing_rbd_mask, 'prob_asig'] = prob_mayor.loc[missing_rbd_mask, 'prob_no_asignado_mayor']\n",
    "del prob_mayor['prob_no_asignado_mayor']\n",
    "\n",
    "prob_mayor = prob_mayor.rename(columns={'mrun': 'mrun_hermano_final', 'preferencia_postulante': 'preferencia_mayor','prob_asig': 'prob_asig_mayor', 'rbd':'rbd_mayor','codcurso':'cod_curso_mayor'})\n",
    "\n",
    "# Merging datasets\n",
    "\n",
    "prob_conjunta = pd.merge(prob_menor, prob_mayor, how = 'left', left_on = 'mrun_hermano_final', right_on = 'mrun_hermano_final', indicator = True)\n",
    "prob_conjunta['_merge'].value_counts()\n",
    "del prob_conjunta['_merge']\n",
    "\n",
    "# Probabilidad conjunta\n",
    "\n",
    "prob_conjunta['prob_conjunta'] = prob_conjunta['prob_asig_menor'] * prob_conjunta['prob_asig_mayor']\n",
    "\n",
    "prob_conjunta = prob_conjunta.sort_values(['mrun_menor','prob_conjunta'], ascending = False).reset_index(drop=True)\n",
    "\n",
    "prob_conjunta['auxiliar'] = 1\n",
    "prob_conjunta['auxiliar'] = prob_conjunta.groupby(['mrun_menor']).cumcount() + 1\n",
    "\n",
    "# Con auxiliar = 1 y = 2 podemos identificar los dos eventos con mayor probabilidad."
   ]
  },
  {
   "cell_type": "markdown",
   "metadata": {},
   "source": [
    "# Estadística"
   ]
  },
  {
   "cell_type": "code",
   "execution_count": 68,
   "metadata": {},
   "outputs": [
    {
     "data": {
      "text/plain": [
       "1.0:1.0              26371\n",
       "mat_aseg:1.0         14176\n",
       "2.0:1.0              13989\n",
       "mat_aseg:mat_aseg    11124\n",
       "no_asig:no_asig       6082\n",
       "mat_aseg:2.0          5206\n",
       "1.0:mat_aseg          4475\n",
       "2.0:2.0               3926\n",
       "1.0:2.0               3400\n",
       "no_asig:1.0           2894\n",
       "Name: evento, dtype: int64"
      ]
     },
     "execution_count": 68,
     "metadata": {},
     "output_type": "execute_result"
    }
   ],
   "source": [
    "# Describiendo los eventos\n",
    "\n",
    "# 1. Necesitamos la matrícula asegurada \n",
    "\n",
    "matricula_asegurada = postulaciones[['mrun','rbd','criterioprioridad']]\n",
    "matricula_asegurada = matricula_asegurada[matricula_asegurada['criterioprioridad'] == 6]\n",
    "del matricula_asegurada['criterioprioridad']\n",
    "\n",
    "matricula_asegurada_menor = matricula_asegurada.rename(columns={'mrun': 'mrun_menor', 'rbd': 'rbd_mat_aseg_menor'})\n",
    "matricula_asegurada_mayor = matricula_asegurada.rename(columns={'mrun': 'mrun_hermano_final', 'rbd': 'rbd_mat_aseg_mayor'})\n",
    "\n",
    "prob_conjunta = pd.merge(prob_conjunta,matricula_asegurada_menor, how = 'left', left_on = 'mrun_menor', right_on = 'mrun_menor')\n",
    "prob_conjunta = pd.merge(prob_conjunta,matricula_asegurada_mayor, how = 'left', left_on = 'mrun_hermano_final', right_on = 'mrun_hermano_final')\n",
    "\n",
    "# En vez de que aparezca el nº con la preferencia, pondremos matrícula asegurada\n",
    "\n",
    "prob_conjunta.loc[prob_conjunta['rbd_menor'] == prob_conjunta['rbd_mat_aseg_menor'], 'preferencia_menor'] = 'mat_aseg'\n",
    "prob_conjunta.loc[prob_conjunta['rbd_mayor'] == prob_conjunta['rbd_mat_aseg_mayor'], 'preferencia_mayor'] = 'mat_aseg'\n",
    "\n",
    "# Creando variable que combina ambas preferencias\n",
    "\n",
    "# Convert 'preferencia_menor' and 'preferencia_mayor' columns to strings\n",
    "prob_conjunta['preferencia_menor'] = prob_conjunta['preferencia_menor'].astype(str)\n",
    "prob_conjunta['preferencia_mayor'] = prob_conjunta['preferencia_mayor'].astype(str)\n",
    "\n",
    "prob_conjunta.loc[prob_conjunta['preferencia_menor'] == 'nan', 'preferencia_menor'] = 'no_asig'\n",
    "prob_conjunta.loc[prob_conjunta['preferencia_mayor'] == 'nan', 'preferencia_mayor'] = 'no_asig'\n",
    "\n",
    "# Concatenate 'preferencia_mayor' and 'preferencia_menor' columns with ':' separator\n",
    "prob_conjunta['evento'] = prob_conjunta['preferencia_mayor'] + ':' + prob_conjunta['preferencia_menor']\n",
    "\n",
    "# Viendo cómo se caracterizan los dos eventos más probables\n",
    "prob_conjunta.loc[prob_conjunta['auxiliar'].isin([1, 2]), 'evento'].value_counts().head(10)"
   ]
  },
  {
   "cell_type": "code",
   "execution_count": 69,
   "metadata": {},
   "outputs": [
    {
     "data": {
      "image/png": "[encoded data removed]",
      "text/plain": [
       "<Figure size 640x480 with 1 Axes>"
      ]
     },
     "metadata": {},
     "output_type": "display_data"
    }
   ],
   "source": [
    "# Distribución prob. eventos más probables\n",
    "principal_evento = prob_conjunta.loc[(prob_conjunta['auxiliar'] == 1), ]\n",
    "\n",
    "segundo_evento = prob_conjunta.loc[(prob_conjunta['auxiliar'] == 2), ]\n",
    "\n",
    "# Histograma \n",
    "\n",
    "import matplotlib.pyplot as plt\n",
    "import seaborn as sns\n",
    "\n",
    "sns.set_palette('Set1')\n",
    "\n",
    "bin_width = 0.05\n",
    "\n",
    "data_min_p = principal_evento['prob_conjunta'].min()\n",
    "data_max_p = principal_evento['prob_conjunta'].max()\n",
    "num_bins_p = int((data_max_p - data_min_p) / bin_width)\n",
    "\n",
    "data_min_s = segundo_evento['prob_conjunta'].min()\n",
    "data_max_s = segundo_evento['prob_conjunta'].max()\n",
    "num_bins_s = int((data_max_s - data_min_s) / bin_width)\n",
    "\n",
    "\n",
    "plt.hist(principal_evento['prob_conjunta'], bins=num_bins_p, range =(data_min_p, data_max_p), alpha=0.5, label='1er')\n",
    "plt.hist(segundo_evento['prob_conjunta'], bins=num_bins_s, range =(data_min_s, data_max_s), alpha=0.5, label='2do')\n",
    "\n",
    "plt.xlabel('Probability')\n",
    "plt.ylabel('Frequency')\n",
    "plt.title('Postulación independiente')\n",
    "plt.legend()\n",
    "plt.show()\n"
   ]
  },
  {
   "cell_type": "code",
   "execution_count": 56,
   "metadata": {},
   "outputs": [
    {
     "data": {
      "image/png": "[encoded data removed]",
      "text/plain": [
       "<Figure size 640x480 with 1 Axes>"
      ]
     },
     "metadata": {},
     "output_type": "display_data"
    }
   ],
   "source": [
    "# Prob. otros eventos\n",
    "\n",
    "# juntos\n",
    "juntos = prob_conjunta.loc[(prob_conjunta['auxiliar'] > 2) & (prob_conjunta['rbd_menor'] == prob_conjunta['rbd_mayor']), ]\n",
    "juntos = juntos.groupby('mrun_menor').agg({'prob_conjunta':'sum'}).reset_index()\n",
    "\n",
    "# separados\n",
    "separados = prob_conjunta.loc[(prob_conjunta['auxiliar'] > 2) & (prob_conjunta['rbd_menor'] != prob_conjunta['rbd_mayor']), ]\n",
    "separados = separados.groupby('mrun_menor').agg({'prob_conjunta':'sum'}).reset_index()\n",
    "\n",
    "# no asignados\n",
    "no_asignados = prob_conjunta.loc[(prob_conjunta['auxiliar'] > 2) & (prob_conjunta['rbd_menor'].isnull() | prob_conjunta['rbd_mayor'].isnull()), ]\n",
    "no_asignados = no_asignados.groupby('mrun_menor').agg({'prob_conjunta':'sum'}).reset_index()\n",
    "\n",
    "bin_width = 0.05\n",
    "\n",
    "data_min_j = juntos['prob_conjunta'].min()\n",
    "data_max_j = juntos['prob_conjunta'].max()\n",
    "num_bins_j = int((data_max_j - data_min_j) / bin_width)\n",
    "\n",
    "data_min_s = separados['prob_conjunta'].min()\n",
    "data_max_s = separados['prob_conjunta'].max()\n",
    "num_bins_s = int((data_max_s - data_min_s) / bin_width)\n",
    "\n",
    "data_min_n = no_asignados['prob_conjunta'].min()\n",
    "data_max_n = no_asignados['prob_conjunta'].max()\n",
    "num_bins_n = int((data_max_n - data_min_n) / bin_width)\n",
    "\n",
    "\n",
    "plt.hist(juntos['prob_conjunta'], bins=num_bins_j, range =(data_min_j, data_max_j), alpha=0.5, label='Juntos')\n",
    "plt.hist(separados['prob_conjunta'], bins=num_bins_s, range =(data_min_s, data_max_s) , alpha=0.5, label='Separados')\n",
    "plt.hist(no_asignados['prob_conjunta'], bins=num_bins_n, range =(data_min_n, data_max_n), alpha=0.5, label='No asignados')\n",
    "\n",
    "plt.xlabel('Probability')\n",
    "plt.ylabel('Frequency')\n",
    "plt.title('Postulación en bloque')\n",
    "plt.legend()\n",
    "plt.show()\n"
   ]
  }
 ],
 "metadata": {
  "kernelspec": {
   "display_name": "Python 3",
   "language": "python",
   "name": "python3"
  },
  "language_info": {
   "codemirror_mode": {
    "name": "ipython",
    "version": 3
   },
   "file_extension": ".py",
   "mimetype": "text/x-python",
   "name": "python",
   "nbconvert_exporter": "python",
   "pygments_lexer": "ipython3",
   "version": "3.8.2"
  },
  "orig_nbformat": 4
 },
 "nbformat": 4,
 "nbformat_minor": 2
}
