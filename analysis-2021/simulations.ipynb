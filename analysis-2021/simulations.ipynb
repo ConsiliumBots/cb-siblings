{
 "cells": [
  {
   "cell_type": "markdown",
   "metadata": {},
   "source": [
    "## Análisis de postulación en bloque"
   ]
  },
  {
   "cell_type": "code",
   "execution_count": 1,
   "metadata": {},
   "outputs": [
    {
     "name": "stdout",
     "output_type": "stream",
     "text": [
      "MacBook-Air-de-Javiera.local\n"
     ]
    }
   ],
   "source": [
    "import os\n",
    "import pandas as pd\n",
    "import platform\n",
    "import socket\n",
    "from schoolchoice_da import da\n",
    "\n",
    "usuario = platform.node()\n",
    "print(usuario)"
   ]
  },
  {
   "cell_type": "markdown",
   "metadata": {},
   "source": [
    "### Simulaciones"
   ]
  },
  {
   "cell_type": "code",
   "execution_count": 5,
   "metadata": {},
   "outputs": [
    {
     "name": "stdout",
     "output_type": "stream",
     "text": [
      "*******************************************************\n",
      "*******************************************************\n",
      ">>> SCHOOL MATCHING ALGORITHM  <<<\n",
      ">>> TETHER EDUCATION INC.  <<<\n",
      "*******************************************************\n",
      "*******************************************************\n",
      "*******************************************************\n",
      "*******************************************************\n",
      ">>> CONFIGURATION DETAILS <<<\n",
      "Order:  descending\n",
      "Dynamic Sibling Priority:  False\n",
      "Family Application:  True\n",
      "Students with Secured Enrollment:  True\n",
      "Forced Secured Enrollment:  True\n",
      "Transfer Capacity:  False\n",
      "*******************************************************\n",
      "*******************************************************\n",
      ">> Loading and preparing data\n",
      ">> Starting matching algorithm\n",
      ">> Getting results\n",
      "*******************************************************\n",
      "*******************************************************\n",
      ">>> SCHOOL MATCHING ALGORITHM   <<<\n",
      ">>> TETHER EDUCATION INC.  <<<\n",
      "*******************************************************\n",
      "*******************************************************\n"
     ]
    }
   ],
   "source": [
    "Inputs_Path = '/Users/javieragazmuri/ConsiliumBots Dropbox/ConsiliumBots/Projects/Chile/Siblings/data/inputs/analysis-2021/SAE_2021/Simulaciones/'\n",
    "Outputs_Path = '/Users/javieragazmuri/ConsiliumBots Dropbox/ConsiliumBots/Projects/Chile/Siblings/data/inputs/analysis-2021/SAE_2021/Simulaciones/'\n",
    "\n",
    "vacancies = pd.read_csv(Inputs_Path + 'vacancies.csv')\n",
    "applicants = pd.read_csv(Inputs_Path + 'applicants.csv')\n",
    "applications = pd.read_csv(Inputs_Path + 'applications.csv')\n",
    "priority_profiles = pd.read_csv(Inputs_Path + 'priority_profiles.csv')\n",
    "quota_order = pd.read_csv(Inputs_Path + 'quota_order.csv')\n",
    "siblings = pd.read_csv(Inputs_Path + 'siblings.csv')\n",
    "links = pd.read_csv(Inputs_Path + 'links.csv')\n",
    "\n",
    "arguments = {'sibling_priority_activation' :        False,\n",
    "            'linked_postulation_activation' :       True,\n",
    "            'secured_enrollment_assignment' :       True,\n",
    "            'forced_secured_enrollment_assignment' :True,\n",
    "            'transfer_capacity_activation' :        False}\n",
    "\n",
    "results = da(vacancies=vacancies,\n",
    "            applicants=applicants,\n",
    "            applications=applications,\n",
    "            priority_profiles=priority_profiles,\n",
    "            quota_order=quota_order,\n",
    "            siblings=siblings,\n",
    "            links=links,\n",
    "            **arguments)\n",
    "\n",
    "results.to_csv(Outputs_Path+'results_false_true.csv',index=False)"
   ]
  }
 ],
 "metadata": {
  "kernelspec": {
   "display_name": "Python 3.8.2 64-bit",
   "language": "python",
   "name": "python3"
  },
  "language_info": {
   "codemirror_mode": {
    "name": "ipython",
    "version": 3
   },
   "file_extension": ".py",
   "mimetype": "text/x-python",
   "name": "python",
   "nbconvert_exporter": "python",
   "pygments_lexer": "ipython3",
   "version": "3.8.2"
  },
  "orig_nbformat": 4,
  "vscode": {
   "interpreter": {
    "hash": "aee8b7b246df8f9039afb4144a1f6fd8d2ca17a180786b69acc140d282b71a49"
   }
  }
 },
 "nbformat": 4,
 "nbformat_minor": 2
}
