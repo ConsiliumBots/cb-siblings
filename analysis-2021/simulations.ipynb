{
 "cells": [
  {
   "cell_type": "markdown",
   "metadata": {},
   "source": [
    "## Análisis de postulación en bloque"
   ]
  },
  {
   "cell_type": "code",
   "execution_count": 9,
   "metadata": {},
   "outputs": [
    {
     "name": "stdout",
     "output_type": "stream",
     "text": [
      "MacBook-Air-de-Javiera.local\n"
     ]
    }
   ],
   "source": [
    "import os\n",
    "import pandas as pd\n",
    "import platform\n",
    "import socket\n",
    "from schoolchoice_da import da\n",
    "\n",
    "usuario = platform.node()\n",
    "print(usuario)"
   ]
  },
  {
   "cell_type": "markdown",
   "metadata": {},
   "source": [
    "### Simulaciones"
   ]
  },
  {
   "cell_type": "code",
   "execution_count": 11,
   "metadata": {},
   "outputs": [
    {
     "data": {
      "text/html": [
       "<div>\n",
       "<style scoped>\n",
       "    .dataframe tbody tr th:only-of-type {\n",
       "        vertical-align: middle;\n",
       "    }\n",
       "\n",
       "    .dataframe tbody tr th {\n",
       "        vertical-align: top;\n",
       "    }\n",
       "\n",
       "    .dataframe thead th {\n",
       "        text-align: right;\n",
       "    }\n",
       "</style>\n",
       "<table border=\"1\" class=\"dataframe\">\n",
       "  <thead>\n",
       "    <tr style=\"text-align: right;\">\n",
       "      <th></th>\n",
       "      <th>mrun_1</th>\n",
       "      <th>mrun_2</th>\n",
       "      <th>mismo_nivel</th>\n",
       "      <th>es_hermano</th>\n",
       "      <th>postula_en_bloque</th>\n",
       "    </tr>\n",
       "  </thead>\n",
       "  <tbody>\n",
       "    <tr>\n",
       "      <th>0</th>\n",
       "      <td>198</td>\n",
       "      <td>23364971</td>\n",
       "      <td>0</td>\n",
       "      <td>1</td>\n",
       "      <td>0</td>\n",
       "    </tr>\n",
       "    <tr>\n",
       "      <th>1</th>\n",
       "      <td>198</td>\n",
       "      <td>24141853</td>\n",
       "      <td>0</td>\n",
       "      <td>1</td>\n",
       "      <td>0</td>\n",
       "    </tr>\n",
       "    <tr>\n",
       "      <th>2</th>\n",
       "      <td>496</td>\n",
       "      <td>25252310</td>\n",
       "      <td>0</td>\n",
       "      <td>1</td>\n",
       "      <td>0</td>\n",
       "    </tr>\n",
       "    <tr>\n",
       "      <th>3</th>\n",
       "      <td>610</td>\n",
       "      <td>17468140</td>\n",
       "      <td>0</td>\n",
       "      <td>1</td>\n",
       "      <td>1</td>\n",
       "    </tr>\n",
       "    <tr>\n",
       "      <th>4</th>\n",
       "      <td>2168</td>\n",
       "      <td>15843128</td>\n",
       "      <td>0</td>\n",
       "      <td>1</td>\n",
       "      <td>1</td>\n",
       "    </tr>\n",
       "  </tbody>\n",
       "</table>\n",
       "</div>"
      ],
      "text/plain": [
       "   mrun_1    mrun_2  mismo_nivel  es_hermano  postula_en_bloque\n",
       "0     198  23364971            0           1                  0\n",
       "1     198  24141853            0           1                  0\n",
       "2     496  25252310            0           1                  0\n",
       "3     610  17468140            0           1                  1\n",
       "4    2168  15843128            0           1                  1"
      ]
     },
     "execution_count": 11,
     "metadata": {},
     "output_type": "execute_result"
    }
   ],
   "source": [
    "Inputs_Path = '/Users/javieragazmuri/ConsiliumBots Dropbox/ConsiliumBots/Projects/Chile/Siblings/data/inputs/analysis-2021/SAE_2021/Simulaciones/'\n",
    "Outputs_Path = '/Users/javieragazmuri/ConsiliumBots Dropbox/ConsiliumBots/Projects/Chile/Siblings/data/inputs/analysis-2021/SAE_2021/Simulaciones/'\n",
    "\n",
    "vacancies = pd.read_csv(Inputs_Path + 'vacancies.csv')\n",
    "applicants = pd.read_csv(Inputs_Path + 'applicants.csv')\n",
    "applications = pd.read_csv(Inputs_Path + 'applications.csv')\n",
    "priority_profiles = pd.read_csv(Inputs_Path + 'priority_profiles.csv')\n",
    "quota_order = pd.read_csv(Inputs_Path + 'quota_order.csv')\n",
    "siblings = pd.read_csv(Inputs_Path + 'siblings.csv')\n",
    "links = pd.read_csv(Inputs_Path + 'links.csv')\n",
    "\n",
    "arguments = {'sibling_priority_activation' :        False,\n",
    "            'linked_postulation_activation' :       False,\n",
    "            'secured_enrollment_assignment' :       False,\n",
    "            'forced_secured_enrollment_assignment' :False,\n",
    "            'transfer_capacity_activation' :        False}\n",
    "\n",
    "results = da(vacancies=vacancies,\n",
    "            applicants=applicants,\n",
    "            applications=applications,\n",
    "            priority_profiles=priority_profiles,\n",
    "            quota_order=quota_order,\n",
    "            siblings=siblings,\n",
    "            links=links,\n",
    "            **arguments)\n",
    "\n",
    "results.to_csv(Outputs_Path+'results.csv',index=False)"
   ]
  }
 ],
 "metadata": {
  "kernelspec": {
   "display_name": "Python 3.8.2 64-bit",
   "language": "python",
   "name": "python3"
  },
  "language_info": {
   "codemirror_mode": {
    "name": "ipython",
    "version": 3
   },
   "file_extension": ".py",
   "mimetype": "text/x-python",
   "name": "python",
   "nbconvert_exporter": "python",
   "pygments_lexer": "ipython3",
   "version": "3.8.2"
  },
  "orig_nbformat": 4,
  "vscode": {
   "interpreter": {
    "hash": "aee8b7b246df8f9039afb4144a1f6fd8d2ca17a180786b69acc140d282b71a49"
   }
  }
 },
 "nbformat": 4,
 "nbformat_minor": 2
}
