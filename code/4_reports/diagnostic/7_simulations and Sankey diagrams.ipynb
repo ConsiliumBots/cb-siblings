{
 "cells": [
  {
   "attachments": {},
   "cell_type": "markdown",
   "metadata": {},
   "source": [
    "# Análisis de postulación en bloque"
   ]
  },
  {
   "cell_type": "code",
   "execution_count": 1,
   "metadata": {},
   "outputs": [
    {
     "name": "stdout",
     "output_type": "stream",
     "text": [
      "MacBook-Air-de-Javiera-2.local\n"
     ]
    }
   ],
   "source": [
    "import os\n",
    "import pandas as pd\n",
    "import platform\n",
    "import socket\n",
    "from schoolchoice_da import da\n",
    "\n",
    "usuario = platform.node()\n",
    "print(usuario)"
   ]
  },
  {
   "attachments": {},
   "cell_type": "markdown",
   "metadata": {},
   "source": [
    "## Simulaciones"
   ]
  },
  {
   "cell_type": "code",
   "execution_count": null,
   "metadata": {},
   "outputs": [],
   "source": [
    "Inputs_Path = '/Users/javieragazmuri/ConsiliumBots Dropbox/ConsiliumBots/Projects/Chile/Siblings/data/inputs/analysis-2021/SAE_2021/Simulaciones/'\n",
    "Outputs_Path = '/Users/javieragazmuri/ConsiliumBots Dropbox/ConsiliumBots/Projects/Chile/Siblings/data/inputs/analysis-2021/SAE_2021/Simulaciones/'\n",
    "\n",
    "vacancies = pd.read_csv(Inputs_Path + 'vacancies.csv')\n",
    "applicants = pd.read_csv(Inputs_Path + 'applicants.csv')\n",
    "applications = pd.read_csv(Inputs_Path + 'applications.csv')\n",
    "priority_profiles = pd.read_csv(Inputs_Path + 'priority_profiles.csv')\n",
    "quota_order = pd.read_csv(Inputs_Path + 'quota_order.csv')\n",
    "siblings = pd.read_csv(Inputs_Path + 'siblings.csv')\n",
    "links = pd.read_csv(Inputs_Path + 'links.csv')\n",
    "\n",
    "arguments = {'sibling_priority_activation' :        False,   # Prioridad hermano dinámica\n",
    "            'linked_postulation_activation' :       False,   # Postulación en bloque\n",
    "            'secured_enrollment_assignment' :       True,\n",
    "            'forced_secured_enrollment_assignment' :True,\n",
    "            'transfer_capacity_activation' :        False}\n",
    "\n",
    "results = da(vacancies=vacancies,\n",
    "            applicants=applicants,\n",
    "            applications=applications,\n",
    "            priority_profiles=priority_profiles,\n",
    "            quota_order=quota_order,\n",
    "            siblings=siblings,\n",
    "            links=links,\n",
    "            **arguments)\n",
    "\n",
    "results.to_csv(Outputs_Path+'results_false_false.csv',index=False)"
   ]
  },
  {
   "attachments": {},
   "cell_type": "markdown",
   "metadata": {},
   "source": [
    "## Sankey diagrams"
   ]
  },
  {
   "attachments": {},
   "cell_type": "markdown",
   "metadata": {},
   "source": [
    "### Postulaciones"
   ]
  },
  {
   "attachments": {},
   "cell_type": "markdown",
   "metadata": {},
   "source": [
    "#### No postulan en bloque"
   ]
  },
  {
   "cell_type": "code",
   "execution_count": 5,
   "metadata": {},
   "outputs": [
    {
     "data": {
      "application/vnd.plotly.v1+json": {
       "config": {
        "plotlyServerURL": "https://plot.ly"
       },
       "data": [
        {
         "link": {
          "color": [
           "rgba(253,127,111,0.8)",
           "rgba(253,127,111,0.8)",
           "rgba(253,127,111, 0.8)",
           "rgba(253,127,111, 0.8)",
           "rgba(253,127,111, 0.8)",
           "rgba(253,127,111, 0.8)",
           "rgba(253,127,111, 0.8)",
           "rgba(253,127,111, 0.8)",
           "rgba(253,127,111, 0.8)",
           "rgba(178,224,97, 0.8)",
           "rgba(178,224,97, 0.8)",
           "rgba(178,224,97, 0.8)",
           "rgba(178,224,97, 0.8)",
           "rgba(178,224,97, 0.8)",
           "rgba(178,224,97, 0.8)",
           "rgba(178,224,97, 0.8)",
           "rgba(139,211,199, 0.8)",
           "rgba(139,211,199, 0.8)",
           "rgba(139,211,199, 0.8)",
           "rgba(139,211,199, 0.8)",
           "rgba(139,211,199, 0.8)",
           "rgba(139,211,199, 0.8)",
           "rgba(139,211,199, 0.8)",
           "rgba(139,211,199, 0.8)",
           "rgba(139,211,199, 0.8)",
           "rgba(139,211,199, 0.8)"
          ],
          "source": [
           0,
           0,
           0,
           0,
           0,
           0,
           0,
           0,
           0,
           1,
           1,
           1,
           1,
           1,
           1,
           1,
           2,
           2,
           2,
           2,
           2,
           2,
           2,
           2,
           2,
           2
          ],
          "target": [
           3,
           4,
           5,
           6,
           7,
           8,
           9,
           10,
           13,
           3,
           4,
           5,
           6,
           7,
           8,
           13,
           3,
           4,
           5,
           6,
           7,
           8,
           9,
           10,
           12,
           13
          ],
          "value": [
           2070,
           378,
           81,
           14,
           8,
           2,
           1,
           1,
           4952,
           525,
           1765,
           240,
           34,
           13,
           4,
           4926,
           397,
           580,
           1172,
           125,
           19,
           8,
           1,
           2,
           1,
           5202
          ]
         },
         "node": {
          "color": [
           "rgba(253,127,111, 0.8)",
           "rgba(178,224,97,0.8)",
           "rgba(139,211,199,0.8)",
           "rgba(253,127,111,0.8)",
           "rgba(178,224,97,0.8)",
           "rgba(139,211,199,0.8)",
           "rgba(190,185,219,0.8)",
           "rgba(190,185,219,0.8)",
           "rgba(190,185,219,0.8)",
           "rgba(190,185,219,0.8)",
           "rgba(190,185,219,0.8)",
           "rgba(190,185,219,0.8)",
           "rgba(190,185,219,0.8)",
           "rgba(190,185,219,0.8)",
           "rgba(190,185,219,0.8)",
           "rgba(190,185,219,0.8)"
          ],
          "label": [
           "1",
           "2",
           "3",
           "1",
           "2",
           "3",
           "4",
           "5",
           "6",
           "7",
           "8",
           "9",
           "10 o más",
           "No se encuentra"
          ],
          "line": {
           "width": 0
          },
          "pad": 15,
          "thickness": 20
         },
         "type": "sankey"
        }
       ],
       "layout": {
        "font": {
         "size": 10
        },
        "template": {
         "data": {
          "bar": [
           {
            "error_x": {
             "color": "#2a3f5f"
            },
            "error_y": {
             "color": "#2a3f5f"
            },
            "marker": {
             "line": {
              "color": "#E5ECF6",
              "width": 0.5
             },
             "pattern": {
              "fillmode": "overlay",
              "size": 10,
              "solidity": 0.2
             }
            },
            "type": "bar"
           }
          ],
          "barpolar": [
           {
            "marker": {
             "line": {
              "color": "#E5ECF6",
              "width": 0.5
             },
             "pattern": {
              "fillmode": "overlay",
              "size": 10,
              "solidity": 0.2
             }
            },
            "type": "barpolar"
           }
          ],
          "carpet": [
           {
            "aaxis": {
             "endlinecolor": "#2a3f5f",
             "gridcolor": "white",
             "linecolor": "white",
             "minorgridcolor": "white",
             "startlinecolor": "#2a3f5f"
            },
            "baxis": {
             "endlinecolor": "#2a3f5f",
             "gridcolor": "white",
             "linecolor": "white",
             "minorgridcolor": "white",
             "startlinecolor": "#2a3f5f"
            },
            "type": "carpet"
           }
          ],
          "choropleth": [
           {
            "colorbar": {
             "outlinewidth": 0,
             "ticks": ""
            },
            "type": "choropleth"
           }
          ],
          "contour": [
           {
            "colorbar": {
             "outlinewidth": 0,
             "ticks": ""
            },
            "colorscale": [
             [
              0,
              "#0d0887"
             ],
             [
              0.1111111111111111,
              "#46039f"
             ],
             [
              0.2222222222222222,
              "#7201a8"
             ],
             [
              0.3333333333333333,
              "#9c179e"
             ],
             [
              0.4444444444444444,
              "#bd3786"
             ],
             [
              0.5555555555555556,
              "#d8576b"
             ],
             [
              0.6666666666666666,
              "#ed7953"
             ],
             [
              0.7777777777777778,
              "#fb9f3a"
             ],
             [
              0.8888888888888888,
              "#fdca26"
             ],
             [
              1,
              "#f0f921"
             ]
            ],
            "type": "contour"
           }
          ],
          "contourcarpet": [
           {
            "colorbar": {
             "outlinewidth": 0,
             "ticks": ""
            },
            "type": "contourcarpet"
           }
          ],
          "heatmap": [
           {
            "colorbar": {
             "outlinewidth": 0,
             "ticks": ""
            },
            "colorscale": [
             [
              0,
              "#0d0887"
             ],
             [
              0.1111111111111111,
              "#46039f"
             ],
             [
              0.2222222222222222,
              "#7201a8"
             ],
             [
              0.3333333333333333,
              "#9c179e"
             ],
             [
              0.4444444444444444,
              "#bd3786"
             ],
             [
              0.5555555555555556,
              "#d8576b"
             ],
             [
              0.6666666666666666,
              "#ed7953"
             ],
             [
              0.7777777777777778,
              "#fb9f3a"
             ],
             [
              0.8888888888888888,
              "#fdca26"
             ],
             [
              1,
              "#f0f921"
             ]
            ],
            "type": "heatmap"
           }
          ],
          "heatmapgl": [
           {
            "colorbar": {
             "outlinewidth": 0,
             "ticks": ""
            },
            "colorscale": [
             [
              0,
              "#0d0887"
             ],
             [
              0.1111111111111111,
              "#46039f"
             ],
             [
              0.2222222222222222,
              "#7201a8"
             ],
             [
              0.3333333333333333,
              "#9c179e"
             ],
             [
              0.4444444444444444,
              "#bd3786"
             ],
             [
              0.5555555555555556,
              "#d8576b"
             ],
             [
              0.6666666666666666,
              "#ed7953"
             ],
             [
              0.7777777777777778,
              "#fb9f3a"
             ],
             [
              0.8888888888888888,
              "#fdca26"
             ],
             [
              1,
              "#f0f921"
             ]
            ],
            "type": "heatmapgl"
           }
          ],
          "histogram": [
           {
            "marker": {
             "pattern": {
              "fillmode": "overlay",
              "size": 10,
              "solidity": 0.2
             }
            },
            "type": "histogram"
           }
          ],
          "histogram2d": [
           {
            "colorbar": {
             "outlinewidth": 0,
             "ticks": ""
            },
            "colorscale": [
             [
              0,
              "#0d0887"
             ],
             [
              0.1111111111111111,
              "#46039f"
             ],
             [
              0.2222222222222222,
              "#7201a8"
             ],
             [
              0.3333333333333333,
              "#9c179e"
             ],
             [
              0.4444444444444444,
              "#bd3786"
             ],
             [
              0.5555555555555556,
              "#d8576b"
             ],
             [
              0.6666666666666666,
              "#ed7953"
             ],
             [
              0.7777777777777778,
              "#fb9f3a"
             ],
             [
              0.8888888888888888,
              "#fdca26"
             ],
             [
              1,
              "#f0f921"
             ]
            ],
            "type": "histogram2d"
           }
          ],
          "histogram2dcontour": [
           {
            "colorbar": {
             "outlinewidth": 0,
             "ticks": ""
            },
            "colorscale": [
             [
              0,
              "#0d0887"
             ],
             [
              0.1111111111111111,
              "#46039f"
             ],
             [
              0.2222222222222222,
              "#7201a8"
             ],
             [
              0.3333333333333333,
              "#9c179e"
             ],
             [
              0.4444444444444444,
              "#bd3786"
             ],
             [
              0.5555555555555556,
              "#d8576b"
             ],
             [
              0.6666666666666666,
              "#ed7953"
             ],
             [
              0.7777777777777778,
              "#fb9f3a"
             ],
             [
              0.8888888888888888,
              "#fdca26"
             ],
             [
              1,
              "#f0f921"
             ]
            ],
            "type": "histogram2dcontour"
           }
          ],
          "mesh3d": [
           {
            "colorbar": {
             "outlinewidth": 0,
             "ticks": ""
            },
            "type": "mesh3d"
           }
          ],
          "parcoords": [
           {
            "line": {
             "colorbar": {
              "outlinewidth": 0,
              "ticks": ""
             }
            },
            "type": "parcoords"
           }
          ],
          "pie": [
           {
            "automargin": true,
            "type": "pie"
           }
          ],
          "scatter": [
           {
            "fillpattern": {
             "fillmode": "overlay",
             "size": 10,
             "solidity": 0.2
            },
            "type": "scatter"
           }
          ],
          "scatter3d": [
           {
            "line": {
             "colorbar": {
              "outlinewidth": 0,
              "ticks": ""
             }
            },
            "marker": {
             "colorbar": {
              "outlinewidth": 0,
              "ticks": ""
             }
            },
            "type": "scatter3d"
           }
          ],
          "scattercarpet": [
           {
            "marker": {
             "colorbar": {
              "outlinewidth": 0,
              "ticks": ""
             }
            },
            "type": "scattercarpet"
           }
          ],
          "scattergeo": [
           {
            "marker": {
             "colorbar": {
              "outlinewidth": 0,
              "ticks": ""
             }
            },
            "type": "scattergeo"
           }
          ],
          "scattergl": [
           {
            "marker": {
             "colorbar": {
              "outlinewidth": 0,
              "ticks": ""
             }
            },
            "type": "scattergl"
           }
          ],
          "scattermapbox": [
           {
            "marker": {
             "colorbar": {
              "outlinewidth": 0,
              "ticks": ""
             }
            },
            "type": "scattermapbox"
           }
          ],
          "scatterpolar": [
           {
            "marker": {
             "colorbar": {
              "outlinewidth": 0,
              "ticks": ""
             }
            },
            "type": "scatterpolar"
           }
          ],
          "scatterpolargl": [
           {
            "marker": {
             "colorbar": {
              "outlinewidth": 0,
              "ticks": ""
             }
            },
            "type": "scatterpolargl"
           }
          ],
          "scatterternary": [
           {
            "marker": {
             "colorbar": {
              "outlinewidth": 0,
              "ticks": ""
             }
            },
            "type": "scatterternary"
           }
          ],
          "surface": [
           {
            "colorbar": {
             "outlinewidth": 0,
             "ticks": ""
            },
            "colorscale": [
             [
              0,
              "#0d0887"
             ],
             [
              0.1111111111111111,
              "#46039f"
             ],
             [
              0.2222222222222222,
              "#7201a8"
             ],
             [
              0.3333333333333333,
              "#9c179e"
             ],
             [
              0.4444444444444444,
              "#bd3786"
             ],
             [
              0.5555555555555556,
              "#d8576b"
             ],
             [
              0.6666666666666666,
              "#ed7953"
             ],
             [
              0.7777777777777778,
              "#fb9f3a"
             ],
             [
              0.8888888888888888,
              "#fdca26"
             ],
             [
              1,
              "#f0f921"
             ]
            ],
            "type": "surface"
           }
          ],
          "table": [
           {
            "cells": {
             "fill": {
              "color": "#EBF0F8"
             },
             "line": {
              "color": "white"
             }
            },
            "header": {
             "fill": {
              "color": "#C8D4E3"
             },
             "line": {
              "color": "white"
             }
            },
            "type": "table"
           }
          ]
         },
         "layout": {
          "annotationdefaults": {
           "arrowcolor": "#2a3f5f",
           "arrowhead": 0,
           "arrowwidth": 1
          },
          "autotypenumbers": "strict",
          "coloraxis": {
           "colorbar": {
            "outlinewidth": 0,
            "ticks": ""
           }
          },
          "colorscale": {
           "diverging": [
            [
             0,
             "#8e0152"
            ],
            [
             0.1,
             "#c51b7d"
            ],
            [
             0.2,
             "#de77ae"
            ],
            [
             0.3,
             "#f1b6da"
            ],
            [
             0.4,
             "#fde0ef"
            ],
            [
             0.5,
             "#f7f7f7"
            ],
            [
             0.6,
             "#e6f5d0"
            ],
            [
             0.7,
             "#b8e186"
            ],
            [
             0.8,
             "#7fbc41"
            ],
            [
             0.9,
             "#4d9221"
            ],
            [
             1,
             "#276419"
            ]
           ],
           "sequential": [
            [
             0,
             "#0d0887"
            ],
            [
             0.1111111111111111,
             "#46039f"
            ],
            [
             0.2222222222222222,
             "#7201a8"
            ],
            [
             0.3333333333333333,
             "#9c179e"
            ],
            [
             0.4444444444444444,
             "#bd3786"
            ],
            [
             0.5555555555555556,
             "#d8576b"
            ],
            [
             0.6666666666666666,
             "#ed7953"
            ],
            [
             0.7777777777777778,
             "#fb9f3a"
            ],
            [
             0.8888888888888888,
             "#fdca26"
            ],
            [
             1,
             "#f0f921"
            ]
           ],
           "sequentialminus": [
            [
             0,
             "#0d0887"
            ],
            [
             0.1111111111111111,
             "#46039f"
            ],
            [
             0.2222222222222222,
             "#7201a8"
            ],
            [
             0.3333333333333333,
             "#9c179e"
            ],
            [
             0.4444444444444444,
             "#bd3786"
            ],
            [
             0.5555555555555556,
             "#d8576b"
            ],
            [
             0.6666666666666666,
             "#ed7953"
            ],
            [
             0.7777777777777778,
             "#fb9f3a"
            ],
            [
             0.8888888888888888,
             "#fdca26"
            ],
            [
             1,
             "#f0f921"
            ]
           ]
          },
          "colorway": [
           "#636efa",
           "#EF553B",
           "#00cc96",
           "#ab63fa",
           "#FFA15A",
           "#19d3f3",
           "#FF6692",
           "#B6E880",
           "#FF97FF",
           "#FECB52"
          ],
          "font": {
           "color": "#2a3f5f"
          },
          "geo": {
           "bgcolor": "white",
           "lakecolor": "white",
           "landcolor": "#E5ECF6",
           "showlakes": true,
           "showland": true,
           "subunitcolor": "white"
          },
          "hoverlabel": {
           "align": "left"
          },
          "hovermode": "closest",
          "mapbox": {
           "style": "light"
          },
          "paper_bgcolor": "white",
          "plot_bgcolor": "#E5ECF6",
          "polar": {
           "angularaxis": {
            "gridcolor": "white",
            "linecolor": "white",
            "ticks": ""
           },
           "bgcolor": "#E5ECF6",
           "radialaxis": {
            "gridcolor": "white",
            "linecolor": "white",
            "ticks": ""
           }
          },
          "scene": {
           "xaxis": {
            "backgroundcolor": "#E5ECF6",
            "gridcolor": "white",
            "gridwidth": 2,
            "linecolor": "white",
            "showbackground": true,
            "ticks": "",
            "zerolinecolor": "white"
           },
           "yaxis": {
            "backgroundcolor": "#E5ECF6",
            "gridcolor": "white",
            "gridwidth": 2,
            "linecolor": "white",
            "showbackground": true,
            "ticks": "",
            "zerolinecolor": "white"
           },
           "zaxis": {
            "backgroundcolor": "#E5ECF6",
            "gridcolor": "white",
            "gridwidth": 2,
            "linecolor": "white",
            "showbackground": true,
            "ticks": "",
            "zerolinecolor": "white"
           }
          },
          "shapedefaults": {
           "line": {
            "color": "#2a3f5f"
           }
          },
          "ternary": {
           "aaxis": {
            "gridcolor": "white",
            "linecolor": "white",
            "ticks": ""
           },
           "baxis": {
            "gridcolor": "white",
            "linecolor": "white",
            "ticks": ""
           },
           "bgcolor": "#E5ECF6",
           "caxis": {
            "gridcolor": "white",
            "linecolor": "white",
            "ticks": ""
           }
          },
          "title": {
           "x": 0.05
          },
          "xaxis": {
           "automargin": true,
           "gridcolor": "white",
           "linecolor": "white",
           "ticks": "",
           "title": {
            "standoff": 15
           },
           "zerolinecolor": "white",
           "zerolinewidth": 2
          },
          "yaxis": {
           "automargin": true,
           "gridcolor": "white",
           "linecolor": "white",
           "ticks": "",
           "title": {
            "standoff": 15
           },
           "zerolinecolor": "white",
           "zerolinewidth": 2
          }
         }
        },
        "title": {
         "text": "No postulan en bloque"
        }
       }
      }
     },
     "metadata": {},
     "output_type": "display_data"
    }
   ],
   "source": [
    "import plotly.graph_objects as go\n",
    "\n",
    "fig = go.Figure(data=[go.Sankey(\n",
    "node = dict(\n",
    " pad = 15,\n",
    " thickness = 20,\n",
    " line = dict( width = 0),\n",
    " label = [\"1\", \"2\", \"3\", \"1\", \"2\", \"3\", \"4\", \"5\", \"6\", \"7\", \"8\", \"9\", \"10 o más\", \"No se encuentra\"],\n",
    " color = [\"rgba(253,127,111, 0.8)\", \"rgba(178,224,97,0.8)\", \"rgba(139,211,199,0.8)\", \"rgba(253,127,111,0.8)\", \"rgba(178,224,97,0.8)\", \"rgba(139,211,199,0.8)\", \"rgba(190,185,219,0.8)\", \"rgba(190,185,219,0.8)\", \"rgba(190,185,219,0.8)\", \"rgba(190,185,219,0.8)\", \"rgba(190,185,219,0.8)\", \"rgba(190,185,219,0.8)\",\"rgba(190,185,219,0.8)\",\"rgba(190,185,219,0.8)\",\"rgba(190,185,219,0.8)\",\"rgba(190,185,219,0.8)\"]\n",
    " ),\n",
    "link = dict(\n",
    " source = [0, 0, 0, 0, 0, 0, 0, 0,  0,    1, 1, 1, 1, 1, 1, 1,     2, 2, 2, 2, 2, 2, 2,  2,  2,  2],\n",
    " target = [3, 4, 5, 6, 7, 8, 9, 10, 13,   3, 4, 5, 6, 7, 8, 13,    3, 4, 5, 6, 7, 8, 9, 10, 12, 13],\n",
    " value =  [2070, 378, 81, 14, 8, 2, 1, 1, 4952, 525, 1765, 240, 34, 13, 4, 4926, 397, 580, 1172, 125, 19, 8, 1, 2, 1, 5202],\n",
    " color = [ \"rgba(253,127,111,0.8)\", \"rgba(253,127,111,0.8)\", \"rgba(253,127,111, 0.8)\", \"rgba(253,127,111, 0.8)\", \"rgba(253,127,111, 0.8)\", \"rgba(253,127,111, 0.8)\", \"rgba(253,127,111, 0.8)\", \"rgba(253,127,111, 0.8)\", \"rgba(253,127,111, 0.8)\", \"rgba(178,224,97, 0.8)\", \"rgba(178,224,97, 0.8)\", \"rgba(178,224,97, 0.8)\", \"rgba(178,224,97, 0.8)\", \"rgba(178,224,97, 0.8)\", \"rgba(178,224,97, 0.8)\", \"rgba(178,224,97, 0.8)\", \"rgba(139,211,199, 0.8)\", \"rgba(139,211,199, 0.8)\", \"rgba(139,211,199, 0.8)\", \"rgba(139,211,199, 0.8)\", \"rgba(139,211,199, 0.8)\", \"rgba(139,211,199, 0.8)\", \"rgba(139,211,199, 0.8)\", \"rgba(139,211,199, 0.8)\", \"rgba(139,211,199, 0.8)\", \"rgba(139,211,199, 0.8)\"  ]\n",
    " ))])\n",
    "#Adding a title & showing the figure (Optional)\n",
    "fig.update_layout(title_text=\"No postulan en bloque\", font_size=10)\n",
    "fig.show()"
   ]
  },
  {
   "attachments": {},
   "cell_type": "markdown",
   "metadata": {},
   "source": [
    "#### Postulan en bloque"
   ]
  },
  {
   "cell_type": "code",
   "execution_count": 6,
   "metadata": {},
   "outputs": [
    {
     "data": {
      "application/vnd.plotly.v1+json": {
       "config": {
        "plotlyServerURL": "https://plot.ly"
       },
       "data": [
        {
         "link": {
          "color": [
           "rgba(253,127,111,0.8)",
           "rgba(253,127,111, 0.8)",
           "rgba(253,127,111, 0.8)",
           "rgba(253,127,111, 0.8)",
           "rgba(253,127,111, 0.8)",
           "rgba(253,127,111, 0.8)",
           "rgba(253,127,111, 0.8)",
           "rgba(178,224,97, 0.8)",
           "rgba(178,224,97, 0.8)",
           "rgba(178,224,97, 0.8)",
           "rgba(178,224,97, 0.8)",
           "rgba(178,224,97, 0.8)",
           "rgba(178,224,97, 0.8)",
           "rgba(178,224,97, 0.8)",
           "rgba(178,224,97, 0.8)",
           "rgba(139,211,199, 0.8)",
           "rgba(139,211,199, 0.8)",
           "rgba(139,211,199, 0.8)",
           "rgba(139,211,199, 0.8)",
           "rgba(139,211,199, 0.8)",
           "rgba(139,211,199, 0.8)",
           "rgba(139,211,199, 0.8)",
           "rgba(139,211,199, 0.8)",
           "rgba(139,211,199, 0.8)",
           "rgba(139,211,199, 0.8)"
          ],
          "source": [
           0,
           0,
           0,
           0,
           0,
           0,
           0,
           1,
           1,
           1,
           1,
           1,
           1,
           1,
           1,
           2,
           2,
           2,
           2,
           2,
           2,
           2,
           2,
           2,
           2
          ],
          "target": [
           3,
           4,
           5,
           6,
           7,
           8,
           13,
           3,
           4,
           5,
           6,
           7,
           8,
           9,
           13,
           3,
           4,
           5,
           6,
           7,
           8,
           9,
           10,
           12,
           13
          ],
          "value": [
           8517,
           564,
           84,
           15,
           2,
           2,
           585,
           572,
           7262,
           414,
           38,
           6,
           1,
           3,
           1473,
           285,
           720,
           5004,
           178,
           33,
           4,
           1,
           5,
           1,
           3538
          ]
         },
         "node": {
          "color": [
           "rgba(253,127,111, 0.8)",
           "rgba(178,224,97,0.8)",
           "rgba(139,211,199,0.8)",
           "rgba(253,127,111,0.8)",
           "rgba(178,224,97,0.8)",
           "rgba(139,211,199,0.8)",
           "rgba(190,185,219,0.8)",
           "rgba(190,185,219,0.8)",
           "rgba(190,185,219,0.8)",
           "rgba(190,185,219,0.8)",
           "rgba(190,185,219,0.8)",
           "rgba(190,185,219,0.8)",
           "rgba(190,185,219,0.8)",
           "rgba(190,185,219,0.8)",
           "rgba(190,185,219,0.8)",
           "rgba(190,185,219,0.8)"
          ],
          "label": [
           "1",
           "2",
           "3",
           "1",
           "2",
           "3",
           "4",
           "5",
           "6",
           "7",
           "8",
           "9",
           "10 o más",
           "No se encuentra"
          ],
          "line": {
           "width": 0
          },
          "pad": 15,
          "thickness": 20
         },
         "type": "sankey"
        }
       ],
       "layout": {
        "font": {
         "size": 10
        },
        "template": {
         "data": {
          "bar": [
           {
            "error_x": {
             "color": "#2a3f5f"
            },
            "error_y": {
             "color": "#2a3f5f"
            },
            "marker": {
             "line": {
              "color": "#E5ECF6",
              "width": 0.5
             },
             "pattern": {
              "fillmode": "overlay",
              "size": 10,
              "solidity": 0.2
             }
            },
            "type": "bar"
           }
          ],
          "barpolar": [
           {
            "marker": {
             "line": {
              "color": "#E5ECF6",
              "width": 0.5
             },
             "pattern": {
              "fillmode": "overlay",
              "size": 10,
              "solidity": 0.2
             }
            },
            "type": "barpolar"
           }
          ],
          "carpet": [
           {
            "aaxis": {
             "endlinecolor": "#2a3f5f",
             "gridcolor": "white",
             "linecolor": "white",
             "minorgridcolor": "white",
             "startlinecolor": "#2a3f5f"
            },
            "baxis": {
             "endlinecolor": "#2a3f5f",
             "gridcolor": "white",
             "linecolor": "white",
             "minorgridcolor": "white",
             "startlinecolor": "#2a3f5f"
            },
            "type": "carpet"
           }
          ],
          "choropleth": [
           {
            "colorbar": {
             "outlinewidth": 0,
             "ticks": ""
            },
            "type": "choropleth"
           }
          ],
          "contour": [
           {
            "colorbar": {
             "outlinewidth": 0,
             "ticks": ""
            },
            "colorscale": [
             [
              0,
              "#0d0887"
             ],
             [
              0.1111111111111111,
              "#46039f"
             ],
             [
              0.2222222222222222,
              "#7201a8"
             ],
             [
              0.3333333333333333,
              "#9c179e"
             ],
             [
              0.4444444444444444,
              "#bd3786"
             ],
             [
              0.5555555555555556,
              "#d8576b"
             ],
             [
              0.6666666666666666,
              "#ed7953"
             ],
             [
              0.7777777777777778,
              "#fb9f3a"
             ],
             [
              0.8888888888888888,
              "#fdca26"
             ],
             [
              1,
              "#f0f921"
             ]
            ],
            "type": "contour"
           }
          ],
          "contourcarpet": [
           {
            "colorbar": {
             "outlinewidth": 0,
             "ticks": ""
            },
            "type": "contourcarpet"
           }
          ],
          "heatmap": [
           {
            "colorbar": {
             "outlinewidth": 0,
             "ticks": ""
            },
            "colorscale": [
             [
              0,
              "#0d0887"
             ],
             [
              0.1111111111111111,
              "#46039f"
             ],
             [
              0.2222222222222222,
              "#7201a8"
             ],
             [
              0.3333333333333333,
              "#9c179e"
             ],
             [
              0.4444444444444444,
              "#bd3786"
             ],
             [
              0.5555555555555556,
              "#d8576b"
             ],
             [
              0.6666666666666666,
              "#ed7953"
             ],
             [
              0.7777777777777778,
              "#fb9f3a"
             ],
             [
              0.8888888888888888,
              "#fdca26"
             ],
             [
              1,
              "#f0f921"
             ]
            ],
            "type": "heatmap"
           }
          ],
          "heatmapgl": [
           {
            "colorbar": {
             "outlinewidth": 0,
             "ticks": ""
            },
            "colorscale": [
             [
              0,
              "#0d0887"
             ],
             [
              0.1111111111111111,
              "#46039f"
             ],
             [
              0.2222222222222222,
              "#7201a8"
             ],
             [
              0.3333333333333333,
              "#9c179e"
             ],
             [
              0.4444444444444444,
              "#bd3786"
             ],
             [
              0.5555555555555556,
              "#d8576b"
             ],
             [
              0.6666666666666666,
              "#ed7953"
             ],
             [
              0.7777777777777778,
              "#fb9f3a"
             ],
             [
              0.8888888888888888,
              "#fdca26"
             ],
             [
              1,
              "#f0f921"
             ]
            ],
            "type": "heatmapgl"
           }
          ],
          "histogram": [
           {
            "marker": {
             "pattern": {
              "fillmode": "overlay",
              "size": 10,
              "solidity": 0.2
             }
            },
            "type": "histogram"
           }
          ],
          "histogram2d": [
           {
            "colorbar": {
             "outlinewidth": 0,
             "ticks": ""
            },
            "colorscale": [
             [
              0,
              "#0d0887"
             ],
             [
              0.1111111111111111,
              "#46039f"
             ],
             [
              0.2222222222222222,
              "#7201a8"
             ],
             [
              0.3333333333333333,
              "#9c179e"
             ],
             [
              0.4444444444444444,
              "#bd3786"
             ],
             [
              0.5555555555555556,
              "#d8576b"
             ],
             [
              0.6666666666666666,
              "#ed7953"
             ],
             [
              0.7777777777777778,
              "#fb9f3a"
             ],
             [
              0.8888888888888888,
              "#fdca26"
             ],
             [
              1,
              "#f0f921"
             ]
            ],
            "type": "histogram2d"
           }
          ],
          "histogram2dcontour": [
           {
            "colorbar": {
             "outlinewidth": 0,
             "ticks": ""
            },
            "colorscale": [
             [
              0,
              "#0d0887"
             ],
             [
              0.1111111111111111,
              "#46039f"
             ],
             [
              0.2222222222222222,
              "#7201a8"
             ],
             [
              0.3333333333333333,
              "#9c179e"
             ],
             [
              0.4444444444444444,
              "#bd3786"
             ],
             [
              0.5555555555555556,
              "#d8576b"
             ],
             [
              0.6666666666666666,
              "#ed7953"
             ],
             [
              0.7777777777777778,
              "#fb9f3a"
             ],
             [
              0.8888888888888888,
              "#fdca26"
             ],
             [
              1,
              "#f0f921"
             ]
            ],
            "type": "histogram2dcontour"
           }
          ],
          "mesh3d": [
           {
            "colorbar": {
             "outlinewidth": 0,
             "ticks": ""
            },
            "type": "mesh3d"
           }
          ],
          "parcoords": [
           {
            "line": {
             "colorbar": {
              "outlinewidth": 0,
              "ticks": ""
             }
            },
            "type": "parcoords"
           }
          ],
          "pie": [
           {
            "automargin": true,
            "type": "pie"
           }
          ],
          "scatter": [
           {
            "fillpattern": {
             "fillmode": "overlay",
             "size": 10,
             "solidity": 0.2
            },
            "type": "scatter"
           }
          ],
          "scatter3d": [
           {
            "line": {
             "colorbar": {
              "outlinewidth": 0,
              "ticks": ""
             }
            },
            "marker": {
             "colorbar": {
              "outlinewidth": 0,
              "ticks": ""
             }
            },
            "type": "scatter3d"
           }
          ],
          "scattercarpet": [
           {
            "marker": {
             "colorbar": {
              "outlinewidth": 0,
              "ticks": ""
             }
            },
            "type": "scattercarpet"
           }
          ],
          "scattergeo": [
           {
            "marker": {
             "colorbar": {
              "outlinewidth": 0,
              "ticks": ""
             }
            },
            "type": "scattergeo"
           }
          ],
          "scattergl": [
           {
            "marker": {
             "colorbar": {
              "outlinewidth": 0,
              "ticks": ""
             }
            },
            "type": "scattergl"
           }
          ],
          "scattermapbox": [
           {
            "marker": {
             "colorbar": {
              "outlinewidth": 0,
              "ticks": ""
             }
            },
            "type": "scattermapbox"
           }
          ],
          "scatterpolar": [
           {
            "marker": {
             "colorbar": {
              "outlinewidth": 0,
              "ticks": ""
             }
            },
            "type": "scatterpolar"
           }
          ],
          "scatterpolargl": [
           {
            "marker": {
             "colorbar": {
              "outlinewidth": 0,
              "ticks": ""
             }
            },
            "type": "scatterpolargl"
           }
          ],
          "scatterternary": [
           {
            "marker": {
             "colorbar": {
              "outlinewidth": 0,
              "ticks": ""
             }
            },
            "type": "scatterternary"
           }
          ],
          "surface": [
           {
            "colorbar": {
             "outlinewidth": 0,
             "ticks": ""
            },
            "colorscale": [
             [
              0,
              "#0d0887"
             ],
             [
              0.1111111111111111,
              "#46039f"
             ],
             [
              0.2222222222222222,
              "#7201a8"
             ],
             [
              0.3333333333333333,
              "#9c179e"
             ],
             [
              0.4444444444444444,
              "#bd3786"
             ],
             [
              0.5555555555555556,
              "#d8576b"
             ],
             [
              0.6666666666666666,
              "#ed7953"
             ],
             [
              0.7777777777777778,
              "#fb9f3a"
             ],
             [
              0.8888888888888888,
              "#fdca26"
             ],
             [
              1,
              "#f0f921"
             ]
            ],
            "type": "surface"
           }
          ],
          "table": [
           {
            "cells": {
             "fill": {
              "color": "#EBF0F8"
             },
             "line": {
              "color": "white"
             }
            },
            "header": {
             "fill": {
              "color": "#C8D4E3"
             },
             "line": {
              "color": "white"
             }
            },
            "type": "table"
           }
          ]
         },
         "layout": {
          "annotationdefaults": {
           "arrowcolor": "#2a3f5f",
           "arrowhead": 0,
           "arrowwidth": 1
          },
          "autotypenumbers": "strict",
          "coloraxis": {
           "colorbar": {
            "outlinewidth": 0,
            "ticks": ""
           }
          },
          "colorscale": {
           "diverging": [
            [
             0,
             "#8e0152"
            ],
            [
             0.1,
             "#c51b7d"
            ],
            [
             0.2,
             "#de77ae"
            ],
            [
             0.3,
             "#f1b6da"
            ],
            [
             0.4,
             "#fde0ef"
            ],
            [
             0.5,
             "#f7f7f7"
            ],
            [
             0.6,
             "#e6f5d0"
            ],
            [
             0.7,
             "#b8e186"
            ],
            [
             0.8,
             "#7fbc41"
            ],
            [
             0.9,
             "#4d9221"
            ],
            [
             1,
             "#276419"
            ]
           ],
           "sequential": [
            [
             0,
             "#0d0887"
            ],
            [
             0.1111111111111111,
             "#46039f"
            ],
            [
             0.2222222222222222,
             "#7201a8"
            ],
            [
             0.3333333333333333,
             "#9c179e"
            ],
            [
             0.4444444444444444,
             "#bd3786"
            ],
            [
             0.5555555555555556,
             "#d8576b"
            ],
            [
             0.6666666666666666,
             "#ed7953"
            ],
            [
             0.7777777777777778,
             "#fb9f3a"
            ],
            [
             0.8888888888888888,
             "#fdca26"
            ],
            [
             1,
             "#f0f921"
            ]
           ],
           "sequentialminus": [
            [
             0,
             "#0d0887"
            ],
            [
             0.1111111111111111,
             "#46039f"
            ],
            [
             0.2222222222222222,
             "#7201a8"
            ],
            [
             0.3333333333333333,
             "#9c179e"
            ],
            [
             0.4444444444444444,
             "#bd3786"
            ],
            [
             0.5555555555555556,
             "#d8576b"
            ],
            [
             0.6666666666666666,
             "#ed7953"
            ],
            [
             0.7777777777777778,
             "#fb9f3a"
            ],
            [
             0.8888888888888888,
             "#fdca26"
            ],
            [
             1,
             "#f0f921"
            ]
           ]
          },
          "colorway": [
           "#636efa",
           "#EF553B",
           "#00cc96",
           "#ab63fa",
           "#FFA15A",
           "#19d3f3",
           "#FF6692",
           "#B6E880",
           "#FF97FF",
           "#FECB52"
          ],
          "font": {
           "color": "#2a3f5f"
          },
          "geo": {
           "bgcolor": "white",
           "lakecolor": "white",
           "landcolor": "#E5ECF6",
           "showlakes": true,
           "showland": true,
           "subunitcolor": "white"
          },
          "hoverlabel": {
           "align": "left"
          },
          "hovermode": "closest",
          "mapbox": {
           "style": "light"
          },
          "paper_bgcolor": "white",
          "plot_bgcolor": "#E5ECF6",
          "polar": {
           "angularaxis": {
            "gridcolor": "white",
            "linecolor": "white",
            "ticks": ""
           },
           "bgcolor": "#E5ECF6",
           "radialaxis": {
            "gridcolor": "white",
            "linecolor": "white",
            "ticks": ""
           }
          },
          "scene": {
           "xaxis": {
            "backgroundcolor": "#E5ECF6",
            "gridcolor": "white",
            "gridwidth": 2,
            "linecolor": "white",
            "showbackground": true,
            "ticks": "",
            "zerolinecolor": "white"
           },
           "yaxis": {
            "backgroundcolor": "#E5ECF6",
            "gridcolor": "white",
            "gridwidth": 2,
            "linecolor": "white",
            "showbackground": true,
            "ticks": "",
            "zerolinecolor": "white"
           },
           "zaxis": {
            "backgroundcolor": "#E5ECF6",
            "gridcolor": "white",
            "gridwidth": 2,
            "linecolor": "white",
            "showbackground": true,
            "ticks": "",
            "zerolinecolor": "white"
           }
          },
          "shapedefaults": {
           "line": {
            "color": "#2a3f5f"
           }
          },
          "ternary": {
           "aaxis": {
            "gridcolor": "white",
            "linecolor": "white",
            "ticks": ""
           },
           "baxis": {
            "gridcolor": "white",
            "linecolor": "white",
            "ticks": ""
           },
           "bgcolor": "#E5ECF6",
           "caxis": {
            "gridcolor": "white",
            "linecolor": "white",
            "ticks": ""
           }
          },
          "title": {
           "x": 0.05
          },
          "xaxis": {
           "automargin": true,
           "gridcolor": "white",
           "linecolor": "white",
           "ticks": "",
           "title": {
            "standoff": 15
           },
           "zerolinecolor": "white",
           "zerolinewidth": 2
          },
          "yaxis": {
           "automargin": true,
           "gridcolor": "white",
           "linecolor": "white",
           "ticks": "",
           "title": {
            "standoff": 15
           },
           "zerolinecolor": "white",
           "zerolinewidth": 2
          }
         }
        },
        "title": {
         "text": "Postulan en bloque"
        }
       }
      }
     },
     "metadata": {},
     "output_type": "display_data"
    }
   ],
   "source": [
    "import plotly.graph_objects as go\n",
    "\n",
    "fig = go.Figure(data=[go.Sankey(\n",
    "node = dict(\n",
    " pad = 15,\n",
    " thickness = 20,\n",
    " line = dict( width = 0),\n",
    " label = [\"1\", \"2\", \"3\", \"1\", \"2\", \"3\", \"4\", \"5\", \"6\", \"7\", \"8\", \"9\", \"10 o más\", \"No se encuentra\"],\n",
    " color = [\"rgba(253,127,111, 0.8)\", \"rgba(178,224,97,0.8)\", \"rgba(139,211,199,0.8)\", \"rgba(253,127,111,0.8)\", \"rgba(178,224,97,0.8)\", \"rgba(139,211,199,0.8)\", \"rgba(190,185,219,0.8)\", \"rgba(190,185,219,0.8)\", \"rgba(190,185,219,0.8)\", \"rgba(190,185,219,0.8)\", \"rgba(190,185,219,0.8)\", \"rgba(190,185,219,0.8)\",\"rgba(190,185,219,0.8)\",\"rgba(190,185,219,0.8)\",\"rgba(190,185,219,0.8)\",\"rgba(190,185,219,0.8)\"]\n",
    " ),\n",
    "link = dict(\n",
    " source = [0, 0, 0, 0, 0, 0, 0,    1, 1, 1, 1, 1, 1, 1,  1,    2, 2, 2, 2, 2, 2, 2,  2,  2,  2],\n",
    " target = [3, 4, 5, 6, 7, 8, 13,   3, 4, 5, 6, 7, 8, 9, 13,    3, 4, 5, 6, 7, 8, 9, 10, 12, 13],\n",
    " value =  [8517, 564, 84, 15, 2, 2, 585, 572, 7262, 414, 38, 6, 1, 3, 1473, 285, 720, 5004, 178, 33, 4, 1, 5, 1, 3538],\n",
    " color = [ \"rgba(253,127,111,0.8)\", \"rgba(253,127,111, 0.8)\", \"rgba(253,127,111, 0.8)\", \"rgba(253,127,111, 0.8)\", \"rgba(253,127,111, 0.8)\", \"rgba(253,127,111, 0.8)\", \"rgba(253,127,111, 0.8)\", \"rgba(178,224,97, 0.8)\", \"rgba(178,224,97, 0.8)\", \"rgba(178,224,97, 0.8)\", \"rgba(178,224,97, 0.8)\", \"rgba(178,224,97, 0.8)\", \"rgba(178,224,97, 0.8)\", \"rgba(178,224,97, 0.8)\", \"rgba(178,224,97, 0.8)\", \"rgba(139,211,199, 0.8)\", \"rgba(139,211,199, 0.8)\", \"rgba(139,211,199, 0.8)\", \"rgba(139,211,199, 0.8)\", \"rgba(139,211,199, 0.8)\", \"rgba(139,211,199, 0.8)\", \"rgba(139,211,199, 0.8)\", \"rgba(139,211,199, 0.8)\", \"rgba(139,211,199, 0.8)\", \"rgba(139,211,199, 0.8)\"  ]\n",
    " ))])\n",
    "#Adding a title & showing the figure (Optional)\n",
    "fig.update_layout(title_text=\"Postulan en bloque\", font_size=10)\n",
    "fig.show()"
   ]
  },
  {
   "cell_type": "code",
   "execution_count": 64,
   "metadata": {},
   "outputs": [
    {
     "data": {
      "application/vnd.plotly.v1+json": {
       "config": {
        "plotlyServerURL": "https://plot.ly"
       },
       "data": [
        {
         "link": {
          "color": [
           "rgb(234,85,69)",
           "rgb(234,85,69)",
           "rgb(234,85,69)",
           "rgb(234,85,69)",
           "rgb(234,85,69)",
           "rgb(234,85,69)",
           "rgb(234,85,69)",
           "rgb(237,225,91)",
           "rgb(237,225,91)",
           "rgb(237,225,91)",
           "rgb(237,225,91)",
           "rgb(237,225,91)",
           "rgb(237,225,91)",
           "rgb(237,225,91)",
           "rgb(237,225,91)",
           "rgb(135,188,69)",
           "rgb(135,188,69)",
           "rgb(135,188,69)",
           "rgb(135,188,69)",
           "rgb(135,188,69)",
           "rgb(135,188,69)",
           "rgb(135,188,69)"
          ],
          "source": [
           1,
           1,
           1,
           1,
           1,
           1,
           1,
           2,
           2,
           2,
           2,
           2,
           2,
           2,
           2,
           3,
           3,
           3,
           3,
           3,
           3,
           3
          ],
          "target": [
           5,
           6,
           7,
           8,
           9,
           10,
           11,
           5,
           6,
           7,
           8,
           9,
           10,
           11,
           12,
           5,
           6,
           7,
           8,
           9,
           10,
           11
          ],
          "value": [
           698,
           8017,
           427,
           126,
           18,
           5,
           1,
           1402,
           540,
           6742,
           537,
           57,
           11,
           2,
           1,
           1935,
           235,
           891,
           6052,
           164,
           12,
           3
          ]
         },
         "node": {
          "color": [
           "grey",
           "rgb(234,85,69)",
           "rgb(237,225,91)",
           "rgb(135,188,69)",
           "rgb(39,174,239)",
           "grey",
           "grey",
           "grey",
           "grey",
           "grey",
           "grey",
           "grey",
           "grey",
           "grey",
           "grey"
          ],
          "label": [
           "fake",
           "1",
           "2",
           "3",
           "4",
           "No se encuentra",
           "1",
           "2",
           "3",
           "4",
           "5",
           "6",
           "7",
           "8",
           "9",
           "10 o más"
          ],
          "line": {
           "width": 0
          },
          "pad": 19,
          "thickness": 20
         },
         "type": "sankey"
        }
       ],
       "layout": {
        "annotations": [
         {
          "align": "center",
          "font": {
           "color": "black",
           "family": "Courier New, monospace",
           "size": 16
          },
          "showarrow": false,
          "text": "Pref. hermano mayor",
          "x": 0,
          "xref": "x",
          "y": 1.1,
          "yref": "paper"
         },
         {
          "align": "center",
          "font": {
           "color": "black",
           "family": "Courier New, monospace",
           "size": 16
          },
          "showarrow": false,
          "text": "Pref. hermano menor",
          "x": 1,
          "xref": "x",
          "y": 1.1,
          "yref": "paper"
         }
        ],
        "autosize": false,
        "font": {
         "size": 10
        },
        "height": 400,
        "plot_bgcolor": "rgba(0,0,0,0)",
        "template": {
         "data": {
          "bar": [
           {
            "error_x": {
             "color": "#2a3f5f"
            },
            "error_y": {
             "color": "#2a3f5f"
            },
            "marker": {
             "line": {
              "color": "#E5ECF6",
              "width": 0.5
             },
             "pattern": {
              "fillmode": "overlay",
              "size": 10,
              "solidity": 0.2
             }
            },
            "type": "bar"
           }
          ],
          "barpolar": [
           {
            "marker": {
             "line": {
              "color": "#E5ECF6",
              "width": 0.5
             },
             "pattern": {
              "fillmode": "overlay",
              "size": 10,
              "solidity": 0.2
             }
            },
            "type": "barpolar"
           }
          ],
          "carpet": [
           {
            "aaxis": {
             "endlinecolor": "#2a3f5f",
             "gridcolor": "white",
             "linecolor": "white",
             "minorgridcolor": "white",
             "startlinecolor": "#2a3f5f"
            },
            "baxis": {
             "endlinecolor": "#2a3f5f",
             "gridcolor": "white",
             "linecolor": "white",
             "minorgridcolor": "white",
             "startlinecolor": "#2a3f5f"
            },
            "type": "carpet"
           }
          ],
          "choropleth": [
           {
            "colorbar": {
             "outlinewidth": 0,
             "ticks": ""
            },
            "type": "choropleth"
           }
          ],
          "contour": [
           {
            "colorbar": {
             "outlinewidth": 0,
             "ticks": ""
            },
            "colorscale": [
             [
              0,
              "#0d0887"
             ],
             [
              0.1111111111111111,
              "#46039f"
             ],
             [
              0.2222222222222222,
              "#7201a8"
             ],
             [
              0.3333333333333333,
              "#9c179e"
             ],
             [
              0.4444444444444444,
              "#bd3786"
             ],
             [
              0.5555555555555556,
              "#d8576b"
             ],
             [
              0.6666666666666666,
              "#ed7953"
             ],
             [
              0.7777777777777778,
              "#fb9f3a"
             ],
             [
              0.8888888888888888,
              "#fdca26"
             ],
             [
              1,
              "#f0f921"
             ]
            ],
            "type": "contour"
           }
          ],
          "contourcarpet": [
           {
            "colorbar": {
             "outlinewidth": 0,
             "ticks": ""
            },
            "type": "contourcarpet"
           }
          ],
          "heatmap": [
           {
            "colorbar": {
             "outlinewidth": 0,
             "ticks": ""
            },
            "colorscale": [
             [
              0,
              "#0d0887"
             ],
             [
              0.1111111111111111,
              "#46039f"
             ],
             [
              0.2222222222222222,
              "#7201a8"
             ],
             [
              0.3333333333333333,
              "#9c179e"
             ],
             [
              0.4444444444444444,
              "#bd3786"
             ],
             [
              0.5555555555555556,
              "#d8576b"
             ],
             [
              0.6666666666666666,
              "#ed7953"
             ],
             [
              0.7777777777777778,
              "#fb9f3a"
             ],
             [
              0.8888888888888888,
              "#fdca26"
             ],
             [
              1,
              "#f0f921"
             ]
            ],
            "type": "heatmap"
           }
          ],
          "heatmapgl": [
           {
            "colorbar": {
             "outlinewidth": 0,
             "ticks": ""
            },
            "colorscale": [
             [
              0,
              "#0d0887"
             ],
             [
              0.1111111111111111,
              "#46039f"
             ],
             [
              0.2222222222222222,
              "#7201a8"
             ],
             [
              0.3333333333333333,
              "#9c179e"
             ],
             [
              0.4444444444444444,
              "#bd3786"
             ],
             [
              0.5555555555555556,
              "#d8576b"
             ],
             [
              0.6666666666666666,
              "#ed7953"
             ],
             [
              0.7777777777777778,
              "#fb9f3a"
             ],
             [
              0.8888888888888888,
              "#fdca26"
             ],
             [
              1,
              "#f0f921"
             ]
            ],
            "type": "heatmapgl"
           }
          ],
          "histogram": [
           {
            "marker": {
             "pattern": {
              "fillmode": "overlay",
              "size": 10,
              "solidity": 0.2
             }
            },
            "type": "histogram"
           }
          ],
          "histogram2d": [
           {
            "colorbar": {
             "outlinewidth": 0,
             "ticks": ""
            },
            "colorscale": [
             [
              0,
              "#0d0887"
             ],
             [
              0.1111111111111111,
              "#46039f"
             ],
             [
              0.2222222222222222,
              "#7201a8"
             ],
             [
              0.3333333333333333,
              "#9c179e"
             ],
             [
              0.4444444444444444,
              "#bd3786"
             ],
             [
              0.5555555555555556,
              "#d8576b"
             ],
             [
              0.6666666666666666,
              "#ed7953"
             ],
             [
              0.7777777777777778,
              "#fb9f3a"
             ],
             [
              0.8888888888888888,
              "#fdca26"
             ],
             [
              1,
              "#f0f921"
             ]
            ],
            "type": "histogram2d"
           }
          ],
          "histogram2dcontour": [
           {
            "colorbar": {
             "outlinewidth": 0,
             "ticks": ""
            },
            "colorscale": [
             [
              0,
              "#0d0887"
             ],
             [
              0.1111111111111111,
              "#46039f"
             ],
             [
              0.2222222222222222,
              "#7201a8"
             ],
             [
              0.3333333333333333,
              "#9c179e"
             ],
             [
              0.4444444444444444,
              "#bd3786"
             ],
             [
              0.5555555555555556,
              "#d8576b"
             ],
             [
              0.6666666666666666,
              "#ed7953"
             ],
             [
              0.7777777777777778,
              "#fb9f3a"
             ],
             [
              0.8888888888888888,
              "#fdca26"
             ],
             [
              1,
              "#f0f921"
             ]
            ],
            "type": "histogram2dcontour"
           }
          ],
          "mesh3d": [
           {
            "colorbar": {
             "outlinewidth": 0,
             "ticks": ""
            },
            "type": "mesh3d"
           }
          ],
          "parcoords": [
           {
            "line": {
             "colorbar": {
              "outlinewidth": 0,
              "ticks": ""
             }
            },
            "type": "parcoords"
           }
          ],
          "pie": [
           {
            "automargin": true,
            "type": "pie"
           }
          ],
          "scatter": [
           {
            "fillpattern": {
             "fillmode": "overlay",
             "size": 10,
             "solidity": 0.2
            },
            "type": "scatter"
           }
          ],
          "scatter3d": [
           {
            "line": {
             "colorbar": {
              "outlinewidth": 0,
              "ticks": ""
             }
            },
            "marker": {
             "colorbar": {
              "outlinewidth": 0,
              "ticks": ""
             }
            },
            "type": "scatter3d"
           }
          ],
          "scattercarpet": [
           {
            "marker": {
             "colorbar": {
              "outlinewidth": 0,
              "ticks": ""
             }
            },
            "type": "scattercarpet"
           }
          ],
          "scattergeo": [
           {
            "marker": {
             "colorbar": {
              "outlinewidth": 0,
              "ticks": ""
             }
            },
            "type": "scattergeo"
           }
          ],
          "scattergl": [
           {
            "marker": {
             "colorbar": {
              "outlinewidth": 0,
              "ticks": ""
             }
            },
            "type": "scattergl"
           }
          ],
          "scattermapbox": [
           {
            "marker": {
             "colorbar": {
              "outlinewidth": 0,
              "ticks": ""
             }
            },
            "type": "scattermapbox"
           }
          ],
          "scatterpolar": [
           {
            "marker": {
             "colorbar": {
              "outlinewidth": 0,
              "ticks": ""
             }
            },
            "type": "scatterpolar"
           }
          ],
          "scatterpolargl": [
           {
            "marker": {
             "colorbar": {
              "outlinewidth": 0,
              "ticks": ""
             }
            },
            "type": "scatterpolargl"
           }
          ],
          "scatterternary": [
           {
            "marker": {
             "colorbar": {
              "outlinewidth": 0,
              "ticks": ""
             }
            },
            "type": "scatterternary"
           }
          ],
          "surface": [
           {
            "colorbar": {
             "outlinewidth": 0,
             "ticks": ""
            },
            "colorscale": [
             [
              0,
              "#0d0887"
             ],
             [
              0.1111111111111111,
              "#46039f"
             ],
             [
              0.2222222222222222,
              "#7201a8"
             ],
             [
              0.3333333333333333,
              "#9c179e"
             ],
             [
              0.4444444444444444,
              "#bd3786"
             ],
             [
              0.5555555555555556,
              "#d8576b"
             ],
             [
              0.6666666666666666,
              "#ed7953"
             ],
             [
              0.7777777777777778,
              "#fb9f3a"
             ],
             [
              0.8888888888888888,
              "#fdca26"
             ],
             [
              1,
              "#f0f921"
             ]
            ],
            "type": "surface"
           }
          ],
          "table": [
           {
            "cells": {
             "fill": {
              "color": "#EBF0F8"
             },
             "line": {
              "color": "white"
             }
            },
            "header": {
             "fill": {
              "color": "#C8D4E3"
             },
             "line": {
              "color": "white"
             }
            },
            "type": "table"
           }
          ]
         },
         "layout": {
          "annotationdefaults": {
           "arrowcolor": "#2a3f5f",
           "arrowhead": 0,
           "arrowwidth": 1
          },
          "autotypenumbers": "strict",
          "coloraxis": {
           "colorbar": {
            "outlinewidth": 0,
            "ticks": ""
           }
          },
          "colorscale": {
           "diverging": [
            [
             0,
             "#8e0152"
            ],
            [
             0.1,
             "#c51b7d"
            ],
            [
             0.2,
             "#de77ae"
            ],
            [
             0.3,
             "#f1b6da"
            ],
            [
             0.4,
             "#fde0ef"
            ],
            [
             0.5,
             "#f7f7f7"
            ],
            [
             0.6,
             "#e6f5d0"
            ],
            [
             0.7,
             "#b8e186"
            ],
            [
             0.8,
             "#7fbc41"
            ],
            [
             0.9,
             "#4d9221"
            ],
            [
             1,
             "#276419"
            ]
           ],
           "sequential": [
            [
             0,
             "#0d0887"
            ],
            [
             0.1111111111111111,
             "#46039f"
            ],
            [
             0.2222222222222222,
             "#7201a8"
            ],
            [
             0.3333333333333333,
             "#9c179e"
            ],
            [
             0.4444444444444444,
             "#bd3786"
            ],
            [
             0.5555555555555556,
             "#d8576b"
            ],
            [
             0.6666666666666666,
             "#ed7953"
            ],
            [
             0.7777777777777778,
             "#fb9f3a"
            ],
            [
             0.8888888888888888,
             "#fdca26"
            ],
            [
             1,
             "#f0f921"
            ]
           ],
           "sequentialminus": [
            [
             0,
             "#0d0887"
            ],
            [
             0.1111111111111111,
             "#46039f"
            ],
            [
             0.2222222222222222,
             "#7201a8"
            ],
            [
             0.3333333333333333,
             "#9c179e"
            ],
            [
             0.4444444444444444,
             "#bd3786"
            ],
            [
             0.5555555555555556,
             "#d8576b"
            ],
            [
             0.6666666666666666,
             "#ed7953"
            ],
            [
             0.7777777777777778,
             "#fb9f3a"
            ],
            [
             0.8888888888888888,
             "#fdca26"
            ],
            [
             1,
             "#f0f921"
            ]
           ]
          },
          "colorway": [
           "#636efa",
           "#EF553B",
           "#00cc96",
           "#ab63fa",
           "#FFA15A",
           "#19d3f3",
           "#FF6692",
           "#B6E880",
           "#FF97FF",
           "#FECB52"
          ],
          "font": {
           "color": "#2a3f5f"
          },
          "geo": {
           "bgcolor": "white",
           "lakecolor": "white",
           "landcolor": "#E5ECF6",
           "showlakes": true,
           "showland": true,
           "subunitcolor": "white"
          },
          "hoverlabel": {
           "align": "left"
          },
          "hovermode": "closest",
          "mapbox": {
           "style": "light"
          },
          "paper_bgcolor": "white",
          "plot_bgcolor": "#E5ECF6",
          "polar": {
           "angularaxis": {
            "gridcolor": "white",
            "linecolor": "white",
            "ticks": ""
           },
           "bgcolor": "#E5ECF6",
           "radialaxis": {
            "gridcolor": "white",
            "linecolor": "white",
            "ticks": ""
           }
          },
          "scene": {
           "xaxis": {
            "backgroundcolor": "#E5ECF6",
            "gridcolor": "white",
            "gridwidth": 2,
            "linecolor": "white",
            "showbackground": true,
            "ticks": "",
            "zerolinecolor": "white"
           },
           "yaxis": {
            "backgroundcolor": "#E5ECF6",
            "gridcolor": "white",
            "gridwidth": 2,
            "linecolor": "white",
            "showbackground": true,
            "ticks": "",
            "zerolinecolor": "white"
           },
           "zaxis": {
            "backgroundcolor": "#E5ECF6",
            "gridcolor": "white",
            "gridwidth": 2,
            "linecolor": "white",
            "showbackground": true,
            "ticks": "",
            "zerolinecolor": "white"
           }
          },
          "shapedefaults": {
           "line": {
            "color": "#2a3f5f"
           }
          },
          "ternary": {
           "aaxis": {
            "gridcolor": "white",
            "linecolor": "white",
            "ticks": ""
           },
           "baxis": {
            "gridcolor": "white",
            "linecolor": "white",
            "ticks": ""
           },
           "bgcolor": "#E5ECF6",
           "caxis": {
            "gridcolor": "white",
            "linecolor": "white",
            "ticks": ""
           }
          },
          "title": {
           "x": 0.05
          },
          "xaxis": {
           "automargin": true,
           "gridcolor": "white",
           "linecolor": "white",
           "ticks": "",
           "title": {
            "standoff": 15
           },
           "zerolinecolor": "white",
           "zerolinewidth": 2
          },
          "yaxis": {
           "automargin": true,
           "gridcolor": "white",
           "linecolor": "white",
           "ticks": "",
           "title": {
            "standoff": 15
           },
           "zerolinecolor": "white",
           "zerolinewidth": 2
          }
         }
        },
        "title": {
         "text": "Postulación familiar"
        },
        "width": 600,
        "xaxis": {
         "showgrid": false,
         "visible": false,
         "zeroline": false
        },
        "yaxis": {
         "showgrid": false,
         "visible": false,
         "zeroline": false
        }
       }
      }
     },
     "metadata": {},
     "output_type": "display_data"
    },
    {
     "data": {
      "text/html": [
       "<div>\n",
       "<style scoped>\n",
       "    .dataframe tbody tr th:only-of-type {\n",
       "        vertical-align: middle;\n",
       "    }\n",
       "\n",
       "    .dataframe tbody tr th {\n",
       "        vertical-align: top;\n",
       "    }\n",
       "\n",
       "    .dataframe thead th {\n",
       "        text-align: right;\n",
       "    }\n",
       "</style>\n",
       "<table border=\"1\" class=\"dataframe\">\n",
       "  <thead>\n",
       "    <tr style=\"text-align: right;\">\n",
       "      <th></th>\n",
       "      <th>pref_mayor</th>\n",
       "      <th>pref_menor</th>\n",
       "      <th>aux</th>\n",
       "    </tr>\n",
       "  </thead>\n",
       "  <tbody>\n",
       "    <tr>\n",
       "      <th>0</th>\n",
       "      <td>1</td>\n",
       "      <td>5</td>\n",
       "      <td>698</td>\n",
       "    </tr>\n",
       "    <tr>\n",
       "      <th>1</th>\n",
       "      <td>1</td>\n",
       "      <td>6</td>\n",
       "      <td>8017</td>\n",
       "    </tr>\n",
       "    <tr>\n",
       "      <th>2</th>\n",
       "      <td>1</td>\n",
       "      <td>7</td>\n",
       "      <td>427</td>\n",
       "    </tr>\n",
       "    <tr>\n",
       "      <th>3</th>\n",
       "      <td>1</td>\n",
       "      <td>8</td>\n",
       "      <td>126</td>\n",
       "    </tr>\n",
       "    <tr>\n",
       "      <th>4</th>\n",
       "      <td>1</td>\n",
       "      <td>9</td>\n",
       "      <td>18</td>\n",
       "    </tr>\n",
       "  </tbody>\n",
       "</table>\n",
       "</div>"
      ],
      "text/plain": [
       "   pref_mayor  pref_menor   aux\n",
       "0           1           5   698\n",
       "1           1           6  8017\n",
       "2           1           7   427\n",
       "3           1           8   126\n",
       "4           1           9    18"
      ]
     },
     "execution_count": 64,
     "metadata": {},
     "output_type": "execute_result"
    }
   ],
   "source": [
    "data_flow = pd.read_csv(\"/Users/javieragazmuri/ConsiliumBots Dropbox/ConsiliumBots/Projects/Chile/Siblings/data/intermediate/famapp_3_post.csv\")\n",
    "data_flow.head()\n",
    "\n",
    "import plotly.graph_objects as go\n",
    "\n",
    "dict_color = {1:'rgb(234,85,69)',2:'rgb(237,225,91)',3:'rgb(135,188,69)',4:'rgb(39,174,239)'}\n",
    "\n",
    "fig = go.Figure(data=[go.Sankey(\n",
    "node = dict(\n",
    " pad = 19,\n",
    " thickness = 20,\n",
    " line = dict( width = 0),\n",
    " color = ['grey','rgb(234,85,69)','rgb(237,225,91)','rgb(135,188,69)','rgb(39,174,239)','grey', 'grey','grey','grey','grey','grey','grey','grey','grey','grey'],\n",
    " label = [\"fake\",\"1\",\"2\", \"3\",\"4\",\"No se encuentra\",\"1\", \"2\", \"3\", \"4\", \"5\", \"6\", \"7\", \"8\",\"9\", \"10 o más\"],),\n",
    "link = dict(\n",
    " source = data_flow['pref_mayor'].to_list(),\n",
    " target = data_flow['pref_menor'].to_list(),\n",
    " value = data_flow['aux'].to_list(),\n",
    " color = [dict_color[x] for x in data_flow['pref_mayor'].to_list()]))])\n",
    "\n",
    "for x_coordinate, column_name in enumerate([\"Pref. hermano mayor\", \"Pref. hermano menor\"]):\n",
    "  fig.add_annotation(\n",
    "          x=x_coordinate,\n",
    "          y=1.1,\n",
    "          xref=\"x\",\n",
    "          yref=\"paper\",\n",
    "          text=column_name,\n",
    "          showarrow=False,\n",
    "          font=dict(\n",
    "              family=\"Courier New, monospace\",\n",
    "              size=16,\n",
    "              color=\"black\"\n",
    "              ),\n",
    "          align=\"center\",\n",
    "          )\n",
    "\n",
    "\n",
    "fig.update_layout(\n",
    "    title_text=\"Postulación familiar\",\n",
    "    autosize=False,\n",
    "    width=600,\n",
    "    height=400,\n",
    "    xaxis={\n",
    "    'showgrid': False, # thin lines in the background\n",
    "    'zeroline': False, # thick line at x=0\n",
    "    'visible': False,  # numbers below\n",
    "    },\n",
    "    yaxis={\n",
    "    'showgrid': False, # thin lines in the background\n",
    "    'zeroline': False, # thick line at x=0\n",
    "    'visible': False,  # numbers below\n",
    "    }, plot_bgcolor='rgba(0,0,0,0)', font_size=10)\n",
    "\n",
    "fig.show()\n",
    "\n",
    "data_flow.head()"
   ]
  },
  {
   "attachments": {},
   "cell_type": "markdown",
   "metadata": {},
   "source": [
    "### Flujo asignación, matrícula y re-postulación"
   ]
  },
  {
   "attachments": {},
   "cell_type": "markdown",
   "metadata": {},
   "source": [
    "#### Postulan en bloque"
   ]
  },
  {
   "cell_type": "code",
   "execution_count": 4,
   "metadata": {},
   "outputs": [
    {
     "name": "stderr",
     "output_type": "stream",
     "text": [
      "/var/folders/nx/hjv6fkdn3fnd8hv6fsj5qw0r0000gn/T/ipykernel_1298/742960381.py:17: FutureWarning:\n",
      "\n",
      "The frame.append method is deprecated and will be removed from pandas in a future version. Use pandas.concat instead.\n",
      "\n",
      "/var/folders/nx/hjv6fkdn3fnd8hv6fsj5qw0r0000gn/T/ipykernel_1298/742960381.py:17: FutureWarning:\n",
      "\n",
      "The frame.append method is deprecated and will be removed from pandas in a future version. Use pandas.concat instead.\n",
      "\n"
     ]
    },
    {
     "data": {
      "application/vnd.plotly.v1+json": {
       "config": {
        "plotlyServerURL": "https://plot.ly"
       },
       "data": [
        {
         "link": {
          "color": [
           "rgb(234,85,69)",
           "rgb(234,85,69)",
           "rgb(234,85,69)",
           "rgb(234,85,69)",
           "rgb(234,85,69)",
           "rgb(234,85,69)",
           "rgb(234,85,69)",
           "rgb(234,85,69)",
           "rgb(234,85,69)",
           "rgb(234,85,69)",
           "rgb(234,85,69)",
           "rgb(234,85,69)",
           "rgb(234,85,69)",
           "rgb(234,85,69)",
           "rgb(234,85,69)",
           "rgb(234,85,69)",
           "rgb(234,85,69)",
           "rgb(234,85,69)",
           "rgb(234,85,69)",
           "rgb(234,85,69)",
           "rgb(234,85,69)",
           "rgb(234,85,69)",
           "rgb(234,85,69)",
           "rgb(234,85,69)",
           "rgb(234,85,69)",
           "rgb(234,85,69)",
           "rgb(234,85,69)",
           "rgb(234,85,69)",
           "rgb(234,85,69)",
           "rgb(234,85,69)",
           "rgb(237,225,91)",
           "rgb(237,225,91)",
           "rgb(237,225,91)",
           "rgb(237,225,91)",
           "rgb(237,225,91)",
           "rgb(237,225,91)",
           "rgb(237,225,91)",
           "rgb(237,225,91)",
           "rgb(237,225,91)",
           "rgb(237,225,91)",
           "rgb(237,225,91)",
           "rgb(237,225,91)",
           "rgb(237,225,91)",
           "rgb(237,225,91)",
           "rgb(237,225,91)",
           "rgb(237,225,91)",
           "rgb(237,225,91)",
           "rgb(237,225,91)",
           "rgb(237,225,91)",
           "rgb(237,225,91)",
           "rgb(237,225,91)",
           "rgb(237,225,91)",
           "rgb(237,225,91)",
           "rgb(237,225,91)",
           "rgb(237,225,91)",
           "rgb(237,225,91)",
           "rgb(237,225,91)",
           "rgb(237,225,91)",
           "rgb(237,225,91)",
           "rgb(237,225,91)",
           "rgb(135,188,69)",
           "rgb(135,188,69)",
           "rgb(135,188,69)",
           "rgb(135,188,69)",
           "rgb(135,188,69)",
           "rgb(135,188,69)",
           "rgb(135,188,69)",
           "rgb(135,188,69)",
           "rgb(135,188,69)",
           "rgb(135,188,69)",
           "rgb(135,188,69)",
           "rgb(135,188,69)",
           "rgb(135,188,69)",
           "rgb(135,188,69)",
           "rgb(135,188,69)",
           "rgb(135,188,69)",
           "rgb(135,188,69)",
           "rgb(135,188,69)",
           "rgb(135,188,69)",
           "rgb(135,188,69)",
           "rgb(135,188,69)",
           "rgb(135,188,69)",
           "rgb(135,188,69)",
           "rgb(135,188,69)",
           "rgb(135,188,69)",
           "rgb(135,188,69)",
           "rgb(135,188,69)",
           "rgb(135,188,69)",
           "rgb(135,188,69)",
           "rgb(135,188,69)",
           "rgb(39,174,239)",
           "rgb(39,174,239)",
           "rgb(39,174,239)",
           "rgb(39,174,239)",
           "rgb(39,174,239)",
           "rgb(39,174,239)",
           "rgb(39,174,239)",
           "rgb(39,174,239)",
           "rgb(39,174,239)",
           "rgb(39,174,239)",
           "rgb(39,174,239)",
           "rgb(39,174,239)",
           "rgb(39,174,239)",
           "rgb(39,174,239)",
           "rgb(39,174,239)",
           "rgb(39,174,239)",
           "rgb(39,174,239)",
           "rgb(39,174,239)",
           "rgb(39,174,239)",
           "rgb(39,174,239)",
           "rgb(39,174,239)",
           "rgb(39,174,239)",
           "rgb(39,174,239)",
           "rgb(39,174,239)",
           "rgb(39,174,239)",
           "rgb(39,174,239)",
           "rgb(39,174,239)",
           "rgb(179,61,198)",
           "rgb(179,61,198)",
           "rgb(179,61,198)",
           "rgb(179,61,198)",
           "rgb(179,61,198)",
           "rgb(179,61,198)",
           "rgb(179,61,198)",
           "rgb(179,61,198)",
           "rgb(179,61,198)",
           "rgb(179,61,198)",
           "rgb(179,61,198)",
           "rgb(179,61,198)",
           "rgb(179,61,198)",
           "rgb(179,61,198)",
           "rgb(179,61,198)",
           "rgb(179,61,198)",
           "rgb(179,61,198)",
           "rgb(179,61,198)",
           "rgb(179,61,198)",
           "rgb(179,61,198)",
           "rgb(179,61,198)",
           "rgb(179,61,198)",
           "rgb(179,61,198)",
           "rgb(179,61,198)",
           "rgb(179,61,198)",
           "rgb(179,61,198)",
           "rgb(179,61,198)",
           "rgb(179,61,198)",
           "rgb(179,61,198)",
           "rgb(179,61,198)"
          ],
          "source": [
           1,
           1,
           1,
           6,
           7,
           7,
           8,
           8,
           8,
           9,
           9,
           9,
           10,
           10,
           10,
           11,
           11,
           11,
           12,
           12,
           12,
           12,
           13,
           13,
           13,
           13,
           14,
           14,
           14,
           14,
           2,
           2,
           2,
           6,
           7,
           7,
           8,
           8,
           8,
           9,
           9,
           9,
           10,
           10,
           10,
           11,
           11,
           11,
           12,
           12,
           12,
           12,
           13,
           13,
           13,
           13,
           14,
           14,
           14,
           14,
           3,
           3,
           3,
           6,
           7,
           7,
           8,
           8,
           8,
           9,
           9,
           9,
           10,
           10,
           10,
           11,
           11,
           11,
           12,
           12,
           12,
           12,
           13,
           13,
           13,
           13,
           14,
           14,
           14,
           14,
           4,
           4,
           7,
           7,
           8,
           8,
           8,
           9,
           9,
           9,
           10,
           10,
           10,
           11,
           11,
           12,
           12,
           12,
           12,
           13,
           13,
           13,
           13,
           14,
           14,
           14,
           14,
           5,
           5,
           5,
           6,
           7,
           7,
           8,
           8,
           8,
           9,
           9,
           9,
           10,
           10,
           10,
           11,
           11,
           11,
           12,
           12,
           12,
           12,
           13,
           13,
           13,
           13,
           14,
           14,
           14,
           14
          ],
          "target": [
           6,
           7,
           8,
           11,
           10,
           11,
           9,
           10,
           11,
           12,
           13,
           14,
           12,
           13,
           14,
           12,
           13,
           14,
           15,
           16,
           17,
           18,
           15,
           16,
           17,
           18,
           15,
           16,
           17,
           18,
           6,
           7,
           8,
           11,
           10,
           11,
           9,
           10,
           11,
           12,
           13,
           14,
           12,
           13,
           14,
           12,
           13,
           14,
           15,
           16,
           17,
           18,
           15,
           16,
           17,
           18,
           15,
           16,
           17,
           18,
           6,
           7,
           8,
           11,
           10,
           11,
           9,
           10,
           11,
           12,
           13,
           14,
           12,
           13,
           14,
           12,
           13,
           14,
           15,
           16,
           17,
           18,
           15,
           16,
           17,
           18,
           15,
           16,
           17,
           18,
           7,
           8,
           10,
           11,
           9,
           10,
           11,
           12,
           13,
           14,
           12,
           13,
           14,
           13,
           14,
           15,
           16,
           17,
           18,
           15,
           16,
           17,
           18,
           15,
           16,
           17,
           18,
           6,
           7,
           8,
           11,
           10,
           11,
           9,
           10,
           11,
           12,
           13,
           14,
           12,
           13,
           14,
           12,
           13,
           14,
           15,
           16,
           17,
           18,
           15,
           16,
           17,
           18,
           15,
           16,
           17,
           18
          ],
          "value": [
           673,
           33,
           416,
           673,
           4,
           29,
           31,
           7,
           378,
           13,
           8,
           10,
           2,
           3,
           6,
           754,
           110,
           216,
           371,
           58,
           48,
           292,
           18,
           30,
           29,
           44,
           47,
           16,
           21,
           148,
           1989,
           180,
           569,
           1989,
           26,
           154,
           52,
           29,
           488,
           23,
           11,
           18,
           15,
           29,
           11,
           1724,
           317,
           590,
           189,
           115,
           52,
           1406,
           36,
           53,
           70,
           198,
           170,
           55,
           41,
           353,
           4257,
           1725,
           966,
           4257,
           497,
           1228,
           83,
           65,
           818,
           44,
           22,
           17,
           273,
           215,
           74,
           3217,
           2304,
           782,
           327,
           748,
           575,
           1884,
           350,
           346,
           403,
           1442,
           197,
           91,
           115,
           470,
           888,
           749,
           473,
           415,
           65,
           196,
           488,
           20,
           28,
           17,
           226,
           304,
           139,
           400,
           503,
           52,
           41,
           30,
           123,
           136,
           119,
           133,
           344,
           186,
           33,
           78,
           362,
           357,
           65,
           106,
           357,
           6,
           59,
           10,
           5,
           91,
           6,
           2,
           2,
           2,
           8,
           1,
           375,
           78,
           54,
           110,
           31,
           13,
           229,
           23,
           18,
           16,
           31,
           15,
           5,
           4,
           33
          ]
         },
         "node": {
          "color": [
           "red",
           "rgb(234,85,69)",
           "rgb(237,225,91)",
           "rgb(135,188,69)",
           "rgb(39,174,239)",
           "rgb(179,61,198)"
          ],
          "label": [
           "fake",
           "Juntos en matrícula asegurada",
           "Juntos, nuevo colegio",
           "Separados",
           "Al menos uno no asignado",
           "Otros",
           "Aceptan ambos",
           "Acepta solo uno",
           "No aceptan",
           "Postulan ambos",
           "Postula solo uno",
           "No postulan",
           "Matriculan ambos",
           "Matricula solo uno",
           "No matriculan",
           "Repostulan ambos",
           "Repostula, mayor",
           "Repostula, menor",
           "No repostulan"
          ],
          "line": {
           "width": 0
          },
          "pad": 19,
          "thickness": 20
         },
         "type": "sankey"
        }
       ],
       "layout": {
        "annotations": [
         {
          "align": "center",
          "font": {
           "color": "black",
           "family": "Courier New, monospace",
           "size": 13
          },
          "showarrow": false,
          "text": "Asignados",
          "x": 0,
          "xref": "x",
          "y": 1.05,
          "yref": "paper"
         },
         {
          "align": "center",
          "font": {
           "color": "black",
           "family": "Courier New, monospace",
           "size": 13
          },
          "showarrow": false,
          "text": "Aceptación",
          "x": 1,
          "xref": "x",
          "y": 1.05,
          "yref": "paper"
         },
         {
          "align": "center",
          "font": {
           "color": "black",
           "family": "Courier New, monospace",
           "size": 13
          },
          "showarrow": false,
          "text": "Postulan en complementaria",
          "x": 2,
          "xref": "x",
          "y": 1.05,
          "yref": "paper"
         },
         {
          "align": "center",
          "font": {
           "color": "black",
           "family": "Courier New, monospace",
           "size": 13
          },
          "showarrow": false,
          "text": "Matriculan en asignación",
          "x": 3,
          "xref": "x",
          "y": 1.05,
          "yref": "paper"
         },
         {
          "align": "center",
          "font": {
           "color": "black",
           "family": "Courier New, monospace",
           "size": 13
          },
          "showarrow": false,
          "text": "Postulan próximo año",
          "x": 4,
          "xref": "x",
          "y": 1.05,
          "yref": "paper"
         }
        ],
        "font": {
         "size": 10
        },
        "plot_bgcolor": "rgba(0,0,0,0)",
        "template": {
         "data": {
          "bar": [
           {
            "error_x": {
             "color": "#2a3f5f"
            },
            "error_y": {
             "color": "#2a3f5f"
            },
            "marker": {
             "line": {
              "color": "#E5ECF6",
              "width": 0.5
             },
             "pattern": {
              "fillmode": "overlay",
              "size": 10,
              "solidity": 0.2
             }
            },
            "type": "bar"
           }
          ],
          "barpolar": [
           {
            "marker": {
             "line": {
              "color": "#E5ECF6",
              "width": 0.5
             },
             "pattern": {
              "fillmode": "overlay",
              "size": 10,
              "solidity": 0.2
             }
            },
            "type": "barpolar"
           }
          ],
          "carpet": [
           {
            "aaxis": {
             "endlinecolor": "#2a3f5f",
             "gridcolor": "white",
             "linecolor": "white",
             "minorgridcolor": "white",
             "startlinecolor": "#2a3f5f"
            },
            "baxis": {
             "endlinecolor": "#2a3f5f",
             "gridcolor": "white",
             "linecolor": "white",
             "minorgridcolor": "white",
             "startlinecolor": "#2a3f5f"
            },
            "type": "carpet"
           }
          ],
          "choropleth": [
           {
            "colorbar": {
             "outlinewidth": 0,
             "ticks": ""
            },
            "type": "choropleth"
           }
          ],
          "contour": [
           {
            "colorbar": {
             "outlinewidth": 0,
             "ticks": ""
            },
            "colorscale": [
             [
              0,
              "#0d0887"
             ],
             [
              0.1111111111111111,
              "#46039f"
             ],
             [
              0.2222222222222222,
              "#7201a8"
             ],
             [
              0.3333333333333333,
              "#9c179e"
             ],
             [
              0.4444444444444444,
              "#bd3786"
             ],
             [
              0.5555555555555556,
              "#d8576b"
             ],
             [
              0.6666666666666666,
              "#ed7953"
             ],
             [
              0.7777777777777778,
              "#fb9f3a"
             ],
             [
              0.8888888888888888,
              "#fdca26"
             ],
             [
              1,
              "#f0f921"
             ]
            ],
            "type": "contour"
           }
          ],
          "contourcarpet": [
           {
            "colorbar": {
             "outlinewidth": 0,
             "ticks": ""
            },
            "type": "contourcarpet"
           }
          ],
          "heatmap": [
           {
            "colorbar": {
             "outlinewidth": 0,
             "ticks": ""
            },
            "colorscale": [
             [
              0,
              "#0d0887"
             ],
             [
              0.1111111111111111,
              "#46039f"
             ],
             [
              0.2222222222222222,
              "#7201a8"
             ],
             [
              0.3333333333333333,
              "#9c179e"
             ],
             [
              0.4444444444444444,
              "#bd3786"
             ],
             [
              0.5555555555555556,
              "#d8576b"
             ],
             [
              0.6666666666666666,
              "#ed7953"
             ],
             [
              0.7777777777777778,
              "#fb9f3a"
             ],
             [
              0.8888888888888888,
              "#fdca26"
             ],
             [
              1,
              "#f0f921"
             ]
            ],
            "type": "heatmap"
           }
          ],
          "heatmapgl": [
           {
            "colorbar": {
             "outlinewidth": 0,
             "ticks": ""
            },
            "colorscale": [
             [
              0,
              "#0d0887"
             ],
             [
              0.1111111111111111,
              "#46039f"
             ],
             [
              0.2222222222222222,
              "#7201a8"
             ],
             [
              0.3333333333333333,
              "#9c179e"
             ],
             [
              0.4444444444444444,
              "#bd3786"
             ],
             [
              0.5555555555555556,
              "#d8576b"
             ],
             [
              0.6666666666666666,
              "#ed7953"
             ],
             [
              0.7777777777777778,
              "#fb9f3a"
             ],
             [
              0.8888888888888888,
              "#fdca26"
             ],
             [
              1,
              "#f0f921"
             ]
            ],
            "type": "heatmapgl"
           }
          ],
          "histogram": [
           {
            "marker": {
             "pattern": {
              "fillmode": "overlay",
              "size": 10,
              "solidity": 0.2
             }
            },
            "type": "histogram"
           }
          ],
          "histogram2d": [
           {
            "colorbar": {
             "outlinewidth": 0,
             "ticks": ""
            },
            "colorscale": [
             [
              0,
              "#0d0887"
             ],
             [
              0.1111111111111111,
              "#46039f"
             ],
             [
              0.2222222222222222,
              "#7201a8"
             ],
             [
              0.3333333333333333,
              "#9c179e"
             ],
             [
              0.4444444444444444,
              "#bd3786"
             ],
             [
              0.5555555555555556,
              "#d8576b"
             ],
             [
              0.6666666666666666,
              "#ed7953"
             ],
             [
              0.7777777777777778,
              "#fb9f3a"
             ],
             [
              0.8888888888888888,
              "#fdca26"
             ],
             [
              1,
              "#f0f921"
             ]
            ],
            "type": "histogram2d"
           }
          ],
          "histogram2dcontour": [
           {
            "colorbar": {
             "outlinewidth": 0,
             "ticks": ""
            },
            "colorscale": [
             [
              0,
              "#0d0887"
             ],
             [
              0.1111111111111111,
              "#46039f"
             ],
             [
              0.2222222222222222,
              "#7201a8"
             ],
             [
              0.3333333333333333,
              "#9c179e"
             ],
             [
              0.4444444444444444,
              "#bd3786"
             ],
             [
              0.5555555555555556,
              "#d8576b"
             ],
             [
              0.6666666666666666,
              "#ed7953"
             ],
             [
              0.7777777777777778,
              "#fb9f3a"
             ],
             [
              0.8888888888888888,
              "#fdca26"
             ],
             [
              1,
              "#f0f921"
             ]
            ],
            "type": "histogram2dcontour"
           }
          ],
          "mesh3d": [
           {
            "colorbar": {
             "outlinewidth": 0,
             "ticks": ""
            },
            "type": "mesh3d"
           }
          ],
          "parcoords": [
           {
            "line": {
             "colorbar": {
              "outlinewidth": 0,
              "ticks": ""
             }
            },
            "type": "parcoords"
           }
          ],
          "pie": [
           {
            "automargin": true,
            "type": "pie"
           }
          ],
          "scatter": [
           {
            "fillpattern": {
             "fillmode": "overlay",
             "size": 10,
             "solidity": 0.2
            },
            "type": "scatter"
           }
          ],
          "scatter3d": [
           {
            "line": {
             "colorbar": {
              "outlinewidth": 0,
              "ticks": ""
             }
            },
            "marker": {
             "colorbar": {
              "outlinewidth": 0,
              "ticks": ""
             }
            },
            "type": "scatter3d"
           }
          ],
          "scattercarpet": [
           {
            "marker": {
             "colorbar": {
              "outlinewidth": 0,
              "ticks": ""
             }
            },
            "type": "scattercarpet"
           }
          ],
          "scattergeo": [
           {
            "marker": {
             "colorbar": {
              "outlinewidth": 0,
              "ticks": ""
             }
            },
            "type": "scattergeo"
           }
          ],
          "scattergl": [
           {
            "marker": {
             "colorbar": {
              "outlinewidth": 0,
              "ticks": ""
             }
            },
            "type": "scattergl"
           }
          ],
          "scattermapbox": [
           {
            "marker": {
             "colorbar": {
              "outlinewidth": 0,
              "ticks": ""
             }
            },
            "type": "scattermapbox"
           }
          ],
          "scatterpolar": [
           {
            "marker": {
             "colorbar": {
              "outlinewidth": 0,
              "ticks": ""
             }
            },
            "type": "scatterpolar"
           }
          ],
          "scatterpolargl": [
           {
            "marker": {
             "colorbar": {
              "outlinewidth": 0,
              "ticks": ""
             }
            },
            "type": "scatterpolargl"
           }
          ],
          "scatterternary": [
           {
            "marker": {
             "colorbar": {
              "outlinewidth": 0,
              "ticks": ""
             }
            },
            "type": "scatterternary"
           }
          ],
          "surface": [
           {
            "colorbar": {
             "outlinewidth": 0,
             "ticks": ""
            },
            "colorscale": [
             [
              0,
              "#0d0887"
             ],
             [
              0.1111111111111111,
              "#46039f"
             ],
             [
              0.2222222222222222,
              "#7201a8"
             ],
             [
              0.3333333333333333,
              "#9c179e"
             ],
             [
              0.4444444444444444,
              "#bd3786"
             ],
             [
              0.5555555555555556,
              "#d8576b"
             ],
             [
              0.6666666666666666,
              "#ed7953"
             ],
             [
              0.7777777777777778,
              "#fb9f3a"
             ],
             [
              0.8888888888888888,
              "#fdca26"
             ],
             [
              1,
              "#f0f921"
             ]
            ],
            "type": "surface"
           }
          ],
          "table": [
           {
            "cells": {
             "fill": {
              "color": "#EBF0F8"
             },
             "line": {
              "color": "white"
             }
            },
            "header": {
             "fill": {
              "color": "#C8D4E3"
             },
             "line": {
              "color": "white"
             }
            },
            "type": "table"
           }
          ]
         },
         "layout": {
          "annotationdefaults": {
           "arrowcolor": "#2a3f5f",
           "arrowhead": 0,
           "arrowwidth": 1
          },
          "autotypenumbers": "strict",
          "coloraxis": {
           "colorbar": {
            "outlinewidth": 0,
            "ticks": ""
           }
          },
          "colorscale": {
           "diverging": [
            [
             0,
             "#8e0152"
            ],
            [
             0.1,
             "#c51b7d"
            ],
            [
             0.2,
             "#de77ae"
            ],
            [
             0.3,
             "#f1b6da"
            ],
            [
             0.4,
             "#fde0ef"
            ],
            [
             0.5,
             "#f7f7f7"
            ],
            [
             0.6,
             "#e6f5d0"
            ],
            [
             0.7,
             "#b8e186"
            ],
            [
             0.8,
             "#7fbc41"
            ],
            [
             0.9,
             "#4d9221"
            ],
            [
             1,
             "#276419"
            ]
           ],
           "sequential": [
            [
             0,
             "#0d0887"
            ],
            [
             0.1111111111111111,
             "#46039f"
            ],
            [
             0.2222222222222222,
             "#7201a8"
            ],
            [
             0.3333333333333333,
             "#9c179e"
            ],
            [
             0.4444444444444444,
             "#bd3786"
            ],
            [
             0.5555555555555556,
             "#d8576b"
            ],
            [
             0.6666666666666666,
             "#ed7953"
            ],
            [
             0.7777777777777778,
             "#fb9f3a"
            ],
            [
             0.8888888888888888,
             "#fdca26"
            ],
            [
             1,
             "#f0f921"
            ]
           ],
           "sequentialminus": [
            [
             0,
             "#0d0887"
            ],
            [
             0.1111111111111111,
             "#46039f"
            ],
            [
             0.2222222222222222,
             "#7201a8"
            ],
            [
             0.3333333333333333,
             "#9c179e"
            ],
            [
             0.4444444444444444,
             "#bd3786"
            ],
            [
             0.5555555555555556,
             "#d8576b"
            ],
            [
             0.6666666666666666,
             "#ed7953"
            ],
            [
             0.7777777777777778,
             "#fb9f3a"
            ],
            [
             0.8888888888888888,
             "#fdca26"
            ],
            [
             1,
             "#f0f921"
            ]
           ]
          },
          "colorway": [
           "#636efa",
           "#EF553B",
           "#00cc96",
           "#ab63fa",
           "#FFA15A",
           "#19d3f3",
           "#FF6692",
           "#B6E880",
           "#FF97FF",
           "#FECB52"
          ],
          "font": {
           "color": "#2a3f5f"
          },
          "geo": {
           "bgcolor": "white",
           "lakecolor": "white",
           "landcolor": "#E5ECF6",
           "showlakes": true,
           "showland": true,
           "subunitcolor": "white"
          },
          "hoverlabel": {
           "align": "left"
          },
          "hovermode": "closest",
          "mapbox": {
           "style": "light"
          },
          "paper_bgcolor": "white",
          "plot_bgcolor": "#E5ECF6",
          "polar": {
           "angularaxis": {
            "gridcolor": "white",
            "linecolor": "white",
            "ticks": ""
           },
           "bgcolor": "#E5ECF6",
           "radialaxis": {
            "gridcolor": "white",
            "linecolor": "white",
            "ticks": ""
           }
          },
          "scene": {
           "xaxis": {
            "backgroundcolor": "#E5ECF6",
            "gridcolor": "white",
            "gridwidth": 2,
            "linecolor": "white",
            "showbackground": true,
            "ticks": "",
            "zerolinecolor": "white"
           },
           "yaxis": {
            "backgroundcolor": "#E5ECF6",
            "gridcolor": "white",
            "gridwidth": 2,
            "linecolor": "white",
            "showbackground": true,
            "ticks": "",
            "zerolinecolor": "white"
           },
           "zaxis": {
            "backgroundcolor": "#E5ECF6",
            "gridcolor": "white",
            "gridwidth": 2,
            "linecolor": "white",
            "showbackground": true,
            "ticks": "",
            "zerolinecolor": "white"
           }
          },
          "shapedefaults": {
           "line": {
            "color": "#2a3f5f"
           }
          },
          "ternary": {
           "aaxis": {
            "gridcolor": "white",
            "linecolor": "white",
            "ticks": ""
           },
           "baxis": {
            "gridcolor": "white",
            "linecolor": "white",
            "ticks": ""
           },
           "bgcolor": "#E5ECF6",
           "caxis": {
            "gridcolor": "white",
            "linecolor": "white",
            "ticks": ""
           }
          },
          "title": {
           "x": 0.05
          },
          "xaxis": {
           "automargin": true,
           "gridcolor": "white",
           "linecolor": "white",
           "ticks": "",
           "title": {
            "standoff": 15
           },
           "zerolinecolor": "white",
           "zerolinewidth": 2
          },
          "yaxis": {
           "automargin": true,
           "gridcolor": "white",
           "linecolor": "white",
           "ticks": "",
           "title": {
            "standoff": 15
           },
           "zerolinecolor": "white",
           "zerolinewidth": 2
          }
         }
        },
        "title": {
         "text": "Postulación regular"
        },
        "xaxis": {
         "showgrid": false,
         "visible": false,
         "zeroline": false
        },
        "yaxis": {
         "showgrid": false,
         "visible": false,
         "zeroline": false
        }
       }
      }
     },
     "metadata": {},
     "output_type": "display_data"
    }
   ],
   "source": [
    "data_flow = pd.read_csv(\"/Users/javieragazmuri/ConsiliumBots Dropbox/ConsiliumBots/Projects/Chile/Siblings/data/intermediate/flow_sankey_regular.csv\")\n",
    "\n",
    "data_flow['cohort'] = data_flow['group_2']\n",
    "\n",
    "data_1 = data_flow.groupby(['cohort','group_2','cat_aceptan']).sum()['aux'].reset_index()\n",
    "data_1.columns = ['cohort','origen','destino','valor']\n",
    "\n",
    "data_2 = data_flow.groupby(['cohort','cat_aceptan','cat_post_comp']).sum()['aux'].reset_index()\n",
    "data_2.columns = ['cohort','origen','destino','valor']\n",
    "\n",
    "data_3 = data_flow.groupby(['cohort','cat_post_comp','cat_matricula']).sum()['aux'].reset_index()\n",
    "data_3.columns = ['cohort','origen','destino','valor']\n",
    "\n",
    "data_4 = data_flow.groupby(['cohort','cat_matricula','cat_postula_2022']).sum()['aux'].reset_index()\n",
    "data_4.columns = ['cohort','origen','destino','valor']\n",
    "\n",
    "data_appended = data_1.append(data_2).append(data_3).append(data_4).sort_values(['cohort','origen','destino'])\n",
    "\n",
    "dict_color = {1:'rgb(234,85,69)',2:'rgb(237,225,91)',3:'rgb(135,188,69)',4:'rgb(39,174,239)', 5: 'rgb(179,61,198)'}\n",
    "\n",
    "# {1:'rgb(234,85,69)',2:'rgb(237,225,91)',3:'rgb(135,188,69)',4:'rgb(39,174,239)', 5: 'rgb(179,61,198)'}\n",
    "\n",
    "import plotly.graph_objects as go\n",
    "\n",
    "fig = go.Figure(data=[go.Sankey(\n",
    "node = dict(\n",
    " pad = 19,\n",
    " thickness = 20,\n",
    " line = dict( width = 0),\n",
    " color = ['red','rgb(234,85,69)','rgb(237,225,91)','rgb(135,188,69)','rgb(39,174,239)','rgb(179,61,198)'],\n",
    " label = [\"fake\",\"Juntos en matrícula asegurada\", \"Juntos, nuevo colegio\", \"Separados\", \"Al menos uno no asignado\", \"Otros\", \"Aceptan ambos\", \"Acepta solo uno\", \n",
    "          \"No aceptan\", \"Postulan ambos\", \"Postula solo uno\", \"No postulan\", \"Matriculan ambos\", \"Matricula solo uno\", \"No matriculan\", \n",
    "          \"Repostulan ambos\", \"Repostula, mayor\", \"Repostula, menor\", \"No repostulan\"],),\n",
    "link = dict(\n",
    " source = data_appended['origen'].to_list(),\n",
    " target = data_appended['destino'].to_list(),\n",
    " value = data_appended['valor'].to_list(),\n",
    " color = [dict_color[x] for x in data_appended['cohort'].to_list()]))])\n",
    "#Adding a title & showing the figure (Optional)\n",
    "\n",
    "for x_coordinate, column_name in enumerate([\"Asignados\",\"Aceptación\",\"Postulan en complementaria\", \"Matriculan en asignación\", \"Postulan próximo año\"]):\n",
    "  fig.add_annotation(\n",
    "          x=x_coordinate,\n",
    "          y=1.05,\n",
    "          xref=\"x\",\n",
    "          yref=\"paper\",\n",
    "          text=column_name,\n",
    "          showarrow=False,\n",
    "          font=dict(\n",
    "              family=\"Courier New, monospace\",\n",
    "              size=13,\n",
    "              color=\"black\"\n",
    "              ),\n",
    "          align=\"center\",\n",
    "          )\n",
    "\n",
    "fig.update_layout(\n",
    "    title_text=\"Postulación regular\",\n",
    "    xaxis={\n",
    "    'showgrid': False, # thin lines in the background\n",
    "    'zeroline': False, # thick line at x=0\n",
    "    'visible': False,  # numbers below\n",
    "    },\n",
    "    yaxis={\n",
    "    'showgrid': False, # thin lines in the background\n",
    "    'zeroline': False, # thick line at x=0\n",
    "    'visible': False,  # numbers below\n",
    "    }, plot_bgcolor='rgba(0,0,0,0)', font_size=10)\n",
    "    \n",
    "fig.show()"
   ]
  },
  {
   "cell_type": "code",
   "execution_count": 5,
   "metadata": {},
   "outputs": [
    {
     "name": "stderr",
     "output_type": "stream",
     "text": [
      "/var/folders/nx/hjv6fkdn3fnd8hv6fsj5qw0r0000gn/T/ipykernel_1298/2371778217.py:17: FutureWarning:\n",
      "\n",
      "The frame.append method is deprecated and will be removed from pandas in a future version. Use pandas.concat instead.\n",
      "\n",
      "/var/folders/nx/hjv6fkdn3fnd8hv6fsj5qw0r0000gn/T/ipykernel_1298/2371778217.py:17: FutureWarning:\n",
      "\n",
      "The frame.append method is deprecated and will be removed from pandas in a future version. Use pandas.concat instead.\n",
      "\n"
     ]
    },
    {
     "data": {
      "application/vnd.plotly.v1+json": {
       "config": {
        "plotlyServerURL": "https://plot.ly"
       },
       "data": [
        {
         "link": {
          "color": [
           "rgb(234,85,69)",
           "rgb(234,85,69)",
           "rgb(234,85,69)",
           "rgb(234,85,69)",
           "rgb(234,85,69)",
           "rgb(234,85,69)",
           "rgb(234,85,69)",
           "rgb(234,85,69)",
           "rgb(234,85,69)",
           "rgb(234,85,69)",
           "rgb(234,85,69)",
           "rgb(234,85,69)",
           "rgb(234,85,69)",
           "rgb(234,85,69)",
           "rgb(234,85,69)",
           "rgb(234,85,69)",
           "rgb(234,85,69)",
           "rgb(234,85,69)",
           "rgb(234,85,69)",
           "rgb(234,85,69)",
           "rgb(234,85,69)",
           "rgb(234,85,69)",
           "rgb(234,85,69)",
           "rgb(234,85,69)",
           "rgb(234,85,69)",
           "rgb(234,85,69)",
           "rgb(234,85,69)",
           "rgb(234,85,69)",
           "rgb(234,85,69)",
           "rgb(234,85,69)",
           "rgb(237,225,91)",
           "rgb(237,225,91)",
           "rgb(237,225,91)",
           "rgb(237,225,91)",
           "rgb(237,225,91)",
           "rgb(237,225,91)",
           "rgb(237,225,91)",
           "rgb(237,225,91)",
           "rgb(237,225,91)",
           "rgb(237,225,91)",
           "rgb(237,225,91)",
           "rgb(237,225,91)",
           "rgb(237,225,91)",
           "rgb(237,225,91)",
           "rgb(237,225,91)",
           "rgb(237,225,91)",
           "rgb(237,225,91)",
           "rgb(237,225,91)",
           "rgb(237,225,91)",
           "rgb(237,225,91)",
           "rgb(237,225,91)",
           "rgb(237,225,91)",
           "rgb(237,225,91)",
           "rgb(237,225,91)",
           "rgb(237,225,91)",
           "rgb(237,225,91)",
           "rgb(237,225,91)",
           "rgb(237,225,91)",
           "rgb(237,225,91)",
           "rgb(237,225,91)",
           "rgb(135,188,69)",
           "rgb(135,188,69)",
           "rgb(135,188,69)",
           "rgb(135,188,69)",
           "rgb(135,188,69)",
           "rgb(135,188,69)",
           "rgb(135,188,69)",
           "rgb(135,188,69)",
           "rgb(135,188,69)",
           "rgb(135,188,69)",
           "rgb(135,188,69)",
           "rgb(135,188,69)",
           "rgb(135,188,69)",
           "rgb(135,188,69)",
           "rgb(135,188,69)",
           "rgb(135,188,69)",
           "rgb(135,188,69)",
           "rgb(135,188,69)",
           "rgb(135,188,69)",
           "rgb(135,188,69)",
           "rgb(135,188,69)",
           "rgb(135,188,69)",
           "rgb(135,188,69)",
           "rgb(135,188,69)",
           "rgb(135,188,69)",
           "rgb(135,188,69)",
           "rgb(135,188,69)",
           "rgb(135,188,69)",
           "rgb(135,188,69)",
           "rgb(135,188,69)",
           "rgb(39,174,239)",
           "rgb(39,174,239)",
           "rgb(39,174,239)",
           "rgb(39,174,239)",
           "rgb(39,174,239)",
           "rgb(39,174,239)",
           "rgb(39,174,239)",
           "rgb(39,174,239)",
           "rgb(39,174,239)",
           "rgb(39,174,239)",
           "rgb(39,174,239)",
           "rgb(39,174,239)",
           "rgb(39,174,239)",
           "rgb(39,174,239)",
           "rgb(39,174,239)",
           "rgb(39,174,239)",
           "rgb(39,174,239)",
           "rgb(39,174,239)",
           "rgb(39,174,239)",
           "rgb(39,174,239)",
           "rgb(39,174,239)",
           "rgb(39,174,239)",
           "rgb(39,174,239)",
           "rgb(39,174,239)",
           "rgb(39,174,239)",
           "rgb(39,174,239)",
           "rgb(39,174,239)",
           "rgb(179,61,198)",
           "rgb(179,61,198)",
           "rgb(179,61,198)",
           "rgb(179,61,198)",
           "rgb(179,61,198)",
           "rgb(179,61,198)",
           "rgb(179,61,198)",
           "rgb(179,61,198)",
           "rgb(179,61,198)",
           "rgb(179,61,198)",
           "rgb(179,61,198)",
           "rgb(179,61,198)",
           "rgb(179,61,198)",
           "rgb(179,61,198)",
           "rgb(179,61,198)",
           "rgb(179,61,198)",
           "rgb(179,61,198)",
           "rgb(179,61,198)",
           "rgb(179,61,198)",
           "rgb(179,61,198)",
           "rgb(179,61,198)",
           "rgb(179,61,198)",
           "rgb(179,61,198)",
           "rgb(179,61,198)",
           "rgb(179,61,198)",
           "rgb(179,61,198)",
           "rgb(179,61,198)",
           "rgb(179,61,198)",
           "rgb(179,61,198)",
           "rgb(179,61,198)"
          ],
          "source": [
           1,
           1,
           1,
           6,
           7,
           7,
           8,
           8,
           8,
           9,
           9,
           9,
           10,
           10,
           10,
           11,
           11,
           11,
           12,
           12,
           12,
           12,
           13,
           13,
           13,
           13,
           14,
           14,
           14,
           14,
           2,
           2,
           2,
           6,
           7,
           7,
           8,
           8,
           8,
           9,
           9,
           9,
           10,
           10,
           10,
           11,
           11,
           11,
           12,
           12,
           12,
           12,
           13,
           13,
           13,
           13,
           14,
           14,
           14,
           14,
           3,
           3,
           3,
           6,
           7,
           7,
           8,
           8,
           8,
           9,
           9,
           9,
           10,
           10,
           10,
           11,
           11,
           11,
           12,
           12,
           12,
           12,
           13,
           13,
           13,
           13,
           14,
           14,
           14,
           14,
           4,
           4,
           7,
           7,
           8,
           8,
           8,
           9,
           9,
           9,
           10,
           10,
           10,
           11,
           11,
           12,
           12,
           12,
           12,
           13,
           13,
           13,
           13,
           14,
           14,
           14,
           14,
           5,
           5,
           5,
           6,
           7,
           7,
           8,
           8,
           8,
           9,
           9,
           9,
           10,
           10,
           10,
           11,
           11,
           11,
           12,
           12,
           12,
           12,
           13,
           13,
           13,
           13,
           14,
           14,
           14,
           14
          ],
          "target": [
           6,
           7,
           8,
           11,
           10,
           11,
           9,
           10,
           11,
           12,
           13,
           14,
           12,
           13,
           14,
           12,
           13,
           14,
           15,
           16,
           17,
           18,
           15,
           16,
           17,
           18,
           15,
           16,
           17,
           18,
           6,
           7,
           8,
           11,
           10,
           11,
           9,
           10,
           11,
           12,
           13,
           14,
           12,
           13,
           14,
           12,
           13,
           14,
           15,
           16,
           17,
           18,
           15,
           16,
           17,
           18,
           15,
           16,
           17,
           18,
           6,
           7,
           8,
           11,
           10,
           11,
           9,
           10,
           11,
           12,
           13,
           14,
           12,
           13,
           14,
           12,
           13,
           14,
           15,
           16,
           17,
           18,
           15,
           16,
           17,
           18,
           15,
           16,
           17,
           18,
           7,
           8,
           10,
           11,
           9,
           10,
           11,
           12,
           13,
           14,
           12,
           13,
           14,
           13,
           14,
           15,
           16,
           17,
           18,
           15,
           16,
           17,
           18,
           15,
           16,
           17,
           18,
           6,
           7,
           8,
           11,
           10,
           11,
           9,
           10,
           11,
           12,
           13,
           14,
           12,
           13,
           14,
           12,
           13,
           14,
           15,
           16,
           17,
           18,
           15,
           16,
           17,
           18,
           15,
           16,
           17,
           18
          ],
          "value": [
           2312,
           228,
           3483,
           2312,
           17,
           211,
           744,
           131,
           2608,
           364,
           127,
           253,
           28,
           60,
           60,
           3483,
           290,
           1358,
           1704,
           295,
           174,
           1702,
           76,
           110,
           96,
           195,
           422,
           129,
           89,
           1031,
           10235,
           638,
           3547,
           10235,
           64,
           574,
           527,
           241,
           2779,
           264,
           99,
           164,
           50,
           166,
           89,
           9119,
           968,
           3501,
           1291,
           462,
           198,
           7482,
           175,
           171,
           228,
           659,
           897,
           301,
           292,
           2264,
           4642,
           2192,
           1844,
           4642,
           805,
           1387,
           200,
           156,
           1488,
           84,
           49,
           67,
           410,
           408,
           143,
           2941,
           3187,
           1389,
           403,
           721,
           666,
           1645,
           607,
           412,
           533,
           2092,
           371,
           133,
           188,
           907,
           2087,
           2620,
           1129,
           958,
           475,
           510,
           1635,
           152,
           112,
           211,
           477,
           803,
           359,
           863,
           1730,
           164,
           105,
           84,
           276,
           389,
           237,
           264,
           888,
           663,
           132,
           174,
           1331,
           1046,
           194,
           407,
           1046,
           15,
           179,
           38,
           30,
           339,
           23,
           8,
           7,
           21,
           18,
           6,
           1201,
           208,
           155,
           347,
           77,
           28,
           793,
           66,
           52,
           35,
           81,
           35,
           7,
           11,
           115
          ]
         },
         "node": {
          "color": [
           "red",
           "rgb(234,85,69)",
           "rgb(237,225,91)",
           "rgb(135,188,69)",
           "rgb(39,174,239)",
           "rgb(179,61,198)"
          ],
          "label": [
           "fake",
           "Juntos en matrícula asegurada",
           "Juntos, nuevo colegio",
           "Separados",
           "Al menos uno no asignado",
           "Otros",
           "Aceptan, ambos",
           "Aceptan, solo uno",
           "No aceptan",
           "Postulan, ambos",
           "Postulan, solo uno",
           "No postulan",
           "Matriculan, ambos",
           "Matriculan, solo uno",
           "No matriculan",
           "Repostulan, ambos",
           "Repostula, mayor",
           "Repostula, menor",
           "No repostulan"
          ],
          "line": {
           "width": 0
          },
          "pad": 19,
          "thickness": 20
         },
         "type": "sankey"
        }
       ],
       "layout": {
        "annotations": [
         {
          "align": "center",
          "font": {
           "color": "black",
           "family": "Courier New, monospace",
           "size": 13
          },
          "showarrow": false,
          "text": "Asignados",
          "x": 0,
          "xref": "x",
          "y": 1.05,
          "yref": "paper"
         },
         {
          "align": "center",
          "font": {
           "color": "black",
           "family": "Courier New, monospace",
           "size": 13
          },
          "showarrow": false,
          "text": "Aceptación",
          "x": 1,
          "xref": "x",
          "y": 1.05,
          "yref": "paper"
         },
         {
          "align": "center",
          "font": {
           "color": "black",
           "family": "Courier New, monospace",
           "size": 13
          },
          "showarrow": false,
          "text": "Postulan en complementaria",
          "x": 2,
          "xref": "x",
          "y": 1.05,
          "yref": "paper"
         },
         {
          "align": "center",
          "font": {
           "color": "black",
           "family": "Courier New, monospace",
           "size": 13
          },
          "showarrow": false,
          "text": "Matriculan en asignación",
          "x": 3,
          "xref": "x",
          "y": 1.05,
          "yref": "paper"
         },
         {
          "align": "center",
          "font": {
           "color": "black",
           "family": "Courier New, monospace",
           "size": 13
          },
          "showarrow": false,
          "text": "Postulan próximo año",
          "x": 4,
          "xref": "x",
          "y": 1.05,
          "yref": "paper"
         }
        ],
        "font": {
         "size": 10
        },
        "plot_bgcolor": "rgba(0,0,0,0)",
        "template": {
         "data": {
          "bar": [
           {
            "error_x": {
             "color": "#2a3f5f"
            },
            "error_y": {
             "color": "#2a3f5f"
            },
            "marker": {
             "line": {
              "color": "#E5ECF6",
              "width": 0.5
             },
             "pattern": {
              "fillmode": "overlay",
              "size": 10,
              "solidity": 0.2
             }
            },
            "type": "bar"
           }
          ],
          "barpolar": [
           {
            "marker": {
             "line": {
              "color": "#E5ECF6",
              "width": 0.5
             },
             "pattern": {
              "fillmode": "overlay",
              "size": 10,
              "solidity": 0.2
             }
            },
            "type": "barpolar"
           }
          ],
          "carpet": [
           {
            "aaxis": {
             "endlinecolor": "#2a3f5f",
             "gridcolor": "white",
             "linecolor": "white",
             "minorgridcolor": "white",
             "startlinecolor": "#2a3f5f"
            },
            "baxis": {
             "endlinecolor": "#2a3f5f",
             "gridcolor": "white",
             "linecolor": "white",
             "minorgridcolor": "white",
             "startlinecolor": "#2a3f5f"
            },
            "type": "carpet"
           }
          ],
          "choropleth": [
           {
            "colorbar": {
             "outlinewidth": 0,
             "ticks": ""
            },
            "type": "choropleth"
           }
          ],
          "contour": [
           {
            "colorbar": {
             "outlinewidth": 0,
             "ticks": ""
            },
            "colorscale": [
             [
              0,
              "#0d0887"
             ],
             [
              0.1111111111111111,
              "#46039f"
             ],
             [
              0.2222222222222222,
              "#7201a8"
             ],
             [
              0.3333333333333333,
              "#9c179e"
             ],
             [
              0.4444444444444444,
              "#bd3786"
             ],
             [
              0.5555555555555556,
              "#d8576b"
             ],
             [
              0.6666666666666666,
              "#ed7953"
             ],
             [
              0.7777777777777778,
              "#fb9f3a"
             ],
             [
              0.8888888888888888,
              "#fdca26"
             ],
             [
              1,
              "#f0f921"
             ]
            ],
            "type": "contour"
           }
          ],
          "contourcarpet": [
           {
            "colorbar": {
             "outlinewidth": 0,
             "ticks": ""
            },
            "type": "contourcarpet"
           }
          ],
          "heatmap": [
           {
            "colorbar": {
             "outlinewidth": 0,
             "ticks": ""
            },
            "colorscale": [
             [
              0,
              "#0d0887"
             ],
             [
              0.1111111111111111,
              "#46039f"
             ],
             [
              0.2222222222222222,
              "#7201a8"
             ],
             [
              0.3333333333333333,
              "#9c179e"
             ],
             [
              0.4444444444444444,
              "#bd3786"
             ],
             [
              0.5555555555555556,
              "#d8576b"
             ],
             [
              0.6666666666666666,
              "#ed7953"
             ],
             [
              0.7777777777777778,
              "#fb9f3a"
             ],
             [
              0.8888888888888888,
              "#fdca26"
             ],
             [
              1,
              "#f0f921"
             ]
            ],
            "type": "heatmap"
           }
          ],
          "heatmapgl": [
           {
            "colorbar": {
             "outlinewidth": 0,
             "ticks": ""
            },
            "colorscale": [
             [
              0,
              "#0d0887"
             ],
             [
              0.1111111111111111,
              "#46039f"
             ],
             [
              0.2222222222222222,
              "#7201a8"
             ],
             [
              0.3333333333333333,
              "#9c179e"
             ],
             [
              0.4444444444444444,
              "#bd3786"
             ],
             [
              0.5555555555555556,
              "#d8576b"
             ],
             [
              0.6666666666666666,
              "#ed7953"
             ],
             [
              0.7777777777777778,
              "#fb9f3a"
             ],
             [
              0.8888888888888888,
              "#fdca26"
             ],
             [
              1,
              "#f0f921"
             ]
            ],
            "type": "heatmapgl"
           }
          ],
          "histogram": [
           {
            "marker": {
             "pattern": {
              "fillmode": "overlay",
              "size": 10,
              "solidity": 0.2
             }
            },
            "type": "histogram"
           }
          ],
          "histogram2d": [
           {
            "colorbar": {
             "outlinewidth": 0,
             "ticks": ""
            },
            "colorscale": [
             [
              0,
              "#0d0887"
             ],
             [
              0.1111111111111111,
              "#46039f"
             ],
             [
              0.2222222222222222,
              "#7201a8"
             ],
             [
              0.3333333333333333,
              "#9c179e"
             ],
             [
              0.4444444444444444,
              "#bd3786"
             ],
             [
              0.5555555555555556,
              "#d8576b"
             ],
             [
              0.6666666666666666,
              "#ed7953"
             ],
             [
              0.7777777777777778,
              "#fb9f3a"
             ],
             [
              0.8888888888888888,
              "#fdca26"
             ],
             [
              1,
              "#f0f921"
             ]
            ],
            "type": "histogram2d"
           }
          ],
          "histogram2dcontour": [
           {
            "colorbar": {
             "outlinewidth": 0,
             "ticks": ""
            },
            "colorscale": [
             [
              0,
              "#0d0887"
             ],
             [
              0.1111111111111111,
              "#46039f"
             ],
             [
              0.2222222222222222,
              "#7201a8"
             ],
             [
              0.3333333333333333,
              "#9c179e"
             ],
             [
              0.4444444444444444,
              "#bd3786"
             ],
             [
              0.5555555555555556,
              "#d8576b"
             ],
             [
              0.6666666666666666,
              "#ed7953"
             ],
             [
              0.7777777777777778,
              "#fb9f3a"
             ],
             [
              0.8888888888888888,
              "#fdca26"
             ],
             [
              1,
              "#f0f921"
             ]
            ],
            "type": "histogram2dcontour"
           }
          ],
          "mesh3d": [
           {
            "colorbar": {
             "outlinewidth": 0,
             "ticks": ""
            },
            "type": "mesh3d"
           }
          ],
          "parcoords": [
           {
            "line": {
             "colorbar": {
              "outlinewidth": 0,
              "ticks": ""
             }
            },
            "type": "parcoords"
           }
          ],
          "pie": [
           {
            "automargin": true,
            "type": "pie"
           }
          ],
          "scatter": [
           {
            "fillpattern": {
             "fillmode": "overlay",
             "size": 10,
             "solidity": 0.2
            },
            "type": "scatter"
           }
          ],
          "scatter3d": [
           {
            "line": {
             "colorbar": {
              "outlinewidth": 0,
              "ticks": ""
             }
            },
            "marker": {
             "colorbar": {
              "outlinewidth": 0,
              "ticks": ""
             }
            },
            "type": "scatter3d"
           }
          ],
          "scattercarpet": [
           {
            "marker": {
             "colorbar": {
              "outlinewidth": 0,
              "ticks": ""
             }
            },
            "type": "scattercarpet"
           }
          ],
          "scattergeo": [
           {
            "marker": {
             "colorbar": {
              "outlinewidth": 0,
              "ticks": ""
             }
            },
            "type": "scattergeo"
           }
          ],
          "scattergl": [
           {
            "marker": {
             "colorbar": {
              "outlinewidth": 0,
              "ticks": ""
             }
            },
            "type": "scattergl"
           }
          ],
          "scattermapbox": [
           {
            "marker": {
             "colorbar": {
              "outlinewidth": 0,
              "ticks": ""
             }
            },
            "type": "scattermapbox"
           }
          ],
          "scatterpolar": [
           {
            "marker": {
             "colorbar": {
              "outlinewidth": 0,
              "ticks": ""
             }
            },
            "type": "scatterpolar"
           }
          ],
          "scatterpolargl": [
           {
            "marker": {
             "colorbar": {
              "outlinewidth": 0,
              "ticks": ""
             }
            },
            "type": "scatterpolargl"
           }
          ],
          "scatterternary": [
           {
            "marker": {
             "colorbar": {
              "outlinewidth": 0,
              "ticks": ""
             }
            },
            "type": "scatterternary"
           }
          ],
          "surface": [
           {
            "colorbar": {
             "outlinewidth": 0,
             "ticks": ""
            },
            "colorscale": [
             [
              0,
              "#0d0887"
             ],
             [
              0.1111111111111111,
              "#46039f"
             ],
             [
              0.2222222222222222,
              "#7201a8"
             ],
             [
              0.3333333333333333,
              "#9c179e"
             ],
             [
              0.4444444444444444,
              "#bd3786"
             ],
             [
              0.5555555555555556,
              "#d8576b"
             ],
             [
              0.6666666666666666,
              "#ed7953"
             ],
             [
              0.7777777777777778,
              "#fb9f3a"
             ],
             [
              0.8888888888888888,
              "#fdca26"
             ],
             [
              1,
              "#f0f921"
             ]
            ],
            "type": "surface"
           }
          ],
          "table": [
           {
            "cells": {
             "fill": {
              "color": "#EBF0F8"
             },
             "line": {
              "color": "white"
             }
            },
            "header": {
             "fill": {
              "color": "#C8D4E3"
             },
             "line": {
              "color": "white"
             }
            },
            "type": "table"
           }
          ]
         },
         "layout": {
          "annotationdefaults": {
           "arrowcolor": "#2a3f5f",
           "arrowhead": 0,
           "arrowwidth": 1
          },
          "autotypenumbers": "strict",
          "coloraxis": {
           "colorbar": {
            "outlinewidth": 0,
            "ticks": ""
           }
          },
          "colorscale": {
           "diverging": [
            [
             0,
             "#8e0152"
            ],
            [
             0.1,
             "#c51b7d"
            ],
            [
             0.2,
             "#de77ae"
            ],
            [
             0.3,
             "#f1b6da"
            ],
            [
             0.4,
             "#fde0ef"
            ],
            [
             0.5,
             "#f7f7f7"
            ],
            [
             0.6,
             "#e6f5d0"
            ],
            [
             0.7,
             "#b8e186"
            ],
            [
             0.8,
             "#7fbc41"
            ],
            [
             0.9,
             "#4d9221"
            ],
            [
             1,
             "#276419"
            ]
           ],
           "sequential": [
            [
             0,
             "#0d0887"
            ],
            [
             0.1111111111111111,
             "#46039f"
            ],
            [
             0.2222222222222222,
             "#7201a8"
            ],
            [
             0.3333333333333333,
             "#9c179e"
            ],
            [
             0.4444444444444444,
             "#bd3786"
            ],
            [
             0.5555555555555556,
             "#d8576b"
            ],
            [
             0.6666666666666666,
             "#ed7953"
            ],
            [
             0.7777777777777778,
             "#fb9f3a"
            ],
            [
             0.8888888888888888,
             "#fdca26"
            ],
            [
             1,
             "#f0f921"
            ]
           ],
           "sequentialminus": [
            [
             0,
             "#0d0887"
            ],
            [
             0.1111111111111111,
             "#46039f"
            ],
            [
             0.2222222222222222,
             "#7201a8"
            ],
            [
             0.3333333333333333,
             "#9c179e"
            ],
            [
             0.4444444444444444,
             "#bd3786"
            ],
            [
             0.5555555555555556,
             "#d8576b"
            ],
            [
             0.6666666666666666,
             "#ed7953"
            ],
            [
             0.7777777777777778,
             "#fb9f3a"
            ],
            [
             0.8888888888888888,
             "#fdca26"
            ],
            [
             1,
             "#f0f921"
            ]
           ]
          },
          "colorway": [
           "#636efa",
           "#EF553B",
           "#00cc96",
           "#ab63fa",
           "#FFA15A",
           "#19d3f3",
           "#FF6692",
           "#B6E880",
           "#FF97FF",
           "#FECB52"
          ],
          "font": {
           "color": "#2a3f5f"
          },
          "geo": {
           "bgcolor": "white",
           "lakecolor": "white",
           "landcolor": "#E5ECF6",
           "showlakes": true,
           "showland": true,
           "subunitcolor": "white"
          },
          "hoverlabel": {
           "align": "left"
          },
          "hovermode": "closest",
          "mapbox": {
           "style": "light"
          },
          "paper_bgcolor": "white",
          "plot_bgcolor": "#E5ECF6",
          "polar": {
           "angularaxis": {
            "gridcolor": "white",
            "linecolor": "white",
            "ticks": ""
           },
           "bgcolor": "#E5ECF6",
           "radialaxis": {
            "gridcolor": "white",
            "linecolor": "white",
            "ticks": ""
           }
          },
          "scene": {
           "xaxis": {
            "backgroundcolor": "#E5ECF6",
            "gridcolor": "white",
            "gridwidth": 2,
            "linecolor": "white",
            "showbackground": true,
            "ticks": "",
            "zerolinecolor": "white"
           },
           "yaxis": {
            "backgroundcolor": "#E5ECF6",
            "gridcolor": "white",
            "gridwidth": 2,
            "linecolor": "white",
            "showbackground": true,
            "ticks": "",
            "zerolinecolor": "white"
           },
           "zaxis": {
            "backgroundcolor": "#E5ECF6",
            "gridcolor": "white",
            "gridwidth": 2,
            "linecolor": "white",
            "showbackground": true,
            "ticks": "",
            "zerolinecolor": "white"
           }
          },
          "shapedefaults": {
           "line": {
            "color": "#2a3f5f"
           }
          },
          "ternary": {
           "aaxis": {
            "gridcolor": "white",
            "linecolor": "white",
            "ticks": ""
           },
           "baxis": {
            "gridcolor": "white",
            "linecolor": "white",
            "ticks": ""
           },
           "bgcolor": "#E5ECF6",
           "caxis": {
            "gridcolor": "white",
            "linecolor": "white",
            "ticks": ""
           }
          },
          "title": {
           "x": 0.05
          },
          "xaxis": {
           "automargin": true,
           "gridcolor": "white",
           "linecolor": "white",
           "ticks": "",
           "title": {
            "standoff": 15
           },
           "zerolinecolor": "white",
           "zerolinewidth": 2
          },
          "yaxis": {
           "automargin": true,
           "gridcolor": "white",
           "linecolor": "white",
           "ticks": "",
           "title": {
            "standoff": 15
           },
           "zerolinecolor": "white",
           "zerolinewidth": 2
          }
         }
        },
        "title": {
         "text": "Postulación familiar"
        },
        "xaxis": {
         "showgrid": false,
         "visible": false,
         "zeroline": false
        },
        "yaxis": {
         "showgrid": false,
         "visible": false,
         "zeroline": false
        }
       }
      }
     },
     "metadata": {},
     "output_type": "display_data"
    }
   ],
   "source": [
    "data_flow = pd.read_csv(\"/Users/javieragazmuri/ConsiliumBots Dropbox/ConsiliumBots/Projects/Chile/Siblings/data/intermediate/flow_sankey.csv\")\n",
    "\n",
    "data_flow['cohort'] = data_flow['group_2']\n",
    "\n",
    "data_1 = data_flow.groupby(['cohort','group_2','cat_aceptan']).sum()['aux'].reset_index()\n",
    "data_1.columns = ['cohort','origen','destino','valor']\n",
    "\n",
    "data_2 = data_flow.groupby(['cohort','cat_aceptan','cat_post_comp']).sum()['aux'].reset_index()\n",
    "data_2.columns = ['cohort','origen','destino','valor']\n",
    "\n",
    "data_3 = data_flow.groupby(['cohort','cat_post_comp','cat_matricula']).sum()['aux'].reset_index()\n",
    "data_3.columns = ['cohort','origen','destino','valor']\n",
    "\n",
    "data_4 = data_flow.groupby(['cohort','cat_matricula','cat_postula_2022']).sum()['aux'].reset_index()\n",
    "data_4.columns = ['cohort','origen','destino','valor']\n",
    "\n",
    "data_appended = data_1.append(data_2).append(data_3).append(data_4).sort_values(['cohort','origen','destino'])\n",
    "\n",
    "dict_color = {1:'rgb(234,85,69)',2:'rgb(237,225,91)',3:'rgb(135,188,69)',4:'rgb(39,174,239)', 5: 'rgb(179,61,198)'}\n",
    "\n",
    "import plotly.graph_objects as go\n",
    "\n",
    "fig = go.Figure(data=[go.Sankey(\n",
    "node = dict(\n",
    " pad = 19,\n",
    " thickness = 20,\n",
    " line = dict( width = 0),\n",
    " color = ['red','rgb(234,85,69)','rgb(237,225,91)','rgb(135,188,69)','rgb(39,174,239)','rgb(179,61,198)'],\n",
    " label = [\"fake\",\"Juntos en matrícula asegurada\", \"Juntos, nuevo colegio\", \"Separados\", \"Al menos uno no asignado\", \"Otros\", \"Aceptan, ambos\", \"Aceptan, solo uno\", \n",
    "          \"No aceptan\", \"Postulan, ambos\", \"Postulan, solo uno\", \"No postulan\", \"Matriculan, ambos\", \"Matriculan, solo uno\", \"No matriculan\", \n",
    "          \"Repostulan, ambos\", \"Repostula, mayor\", \"Repostula, menor\", \"No repostulan\"],),\n",
    "link = dict(\n",
    " source = data_appended['origen'].to_list(),\n",
    " target = data_appended['destino'].to_list(),\n",
    " value = data_appended['valor'].to_list(),\n",
    " color = [dict_color[x] for x in data_appended['cohort'].to_list()]))])\n",
    "#Adding a title & showing the figure (Optional)\n",
    "\n",
    "for x_coordinate, column_name in enumerate([\"Asignados\",\"Aceptación\",\"Postulan en complementaria\", \"Matriculan en asignación\", \"Postulan próximo año\"]):\n",
    "  fig.add_annotation(\n",
    "          x=x_coordinate,\n",
    "          y=1.05,\n",
    "          xref=\"x\",\n",
    "          yref=\"paper\",\n",
    "          text=column_name,\n",
    "          showarrow=False,\n",
    "          font=dict(\n",
    "              family=\"Courier New, monospace\",\n",
    "              size=13,\n",
    "              color=\"black\"\n",
    "              ),\n",
    "          align=\"center\",\n",
    "          )\n",
    "\n",
    "fig.update_layout(\n",
    "    title_text=\"Postulación familiar\",\n",
    "    xaxis={\n",
    "    'showgrid': False, # thin lines in the background\n",
    "    'zeroline': False, # thick line at x=0\n",
    "    'visible': False,  # numbers below\n",
    "    },\n",
    "    yaxis={\n",
    "    'showgrid': False, # thin lines in the background\n",
    "    'zeroline': False, # thick line at x=0\n",
    "    'visible': False,  # numbers below\n",
    "    }, plot_bgcolor='rgba(0,0,0,0)', font_size=10)\n",
    "    \n",
    "fig.show()"
   ]
  },
  {
   "attachments": {},
   "cell_type": "markdown",
   "metadata": {},
   "source": [
    "#### Juntos, MA"
   ]
  },
  {
   "cell_type": "code",
   "execution_count": 15,
   "metadata": {},
   "outputs": [
    {
     "name": "stderr",
     "output_type": "stream",
     "text": [
      "/var/folders/nx/hjv6fkdn3fnd8hv6fsj5qw0r0000gn/T/ipykernel_1298/3416713868.py:17: FutureWarning:\n",
      "\n",
      "The frame.append method is deprecated and will be removed from pandas in a future version. Use pandas.concat instead.\n",
      "\n",
      "/var/folders/nx/hjv6fkdn3fnd8hv6fsj5qw0r0000gn/T/ipykernel_1298/3416713868.py:17: FutureWarning:\n",
      "\n",
      "The frame.append method is deprecated and will be removed from pandas in a future version. Use pandas.concat instead.\n",
      "\n"
     ]
    },
    {
     "data": {
      "application/vnd.plotly.v1+json": {
       "config": {
        "plotlyServerURL": "https://plot.ly"
       },
       "data": [
        {
         "link": {
          "color": [
           "rgb(234,85,69)",
           "rgb(234,85,69)",
           "rgb(234,85,69)",
           "rgb(234,85,69)",
           "rgb(234,85,69)",
           "rgb(234,85,69)",
           "rgb(234,85,69)",
           "rgb(234,85,69)",
           "rgb(234,85,69)",
           "rgb(234,85,69)",
           "rgb(234,85,69)",
           "rgb(234,85,69)",
           "rgb(234,85,69)",
           "rgb(234,85,69)",
           "rgb(234,85,69)",
           "rgb(234,85,69)",
           "rgb(234,85,69)",
           "rgb(234,85,69)",
           "rgb(234,85,69)",
           "rgb(234,85,69)",
           "rgb(234,85,69)",
           "rgb(234,85,69)",
           "rgb(234,85,69)",
           "rgb(234,85,69)",
           "rgb(234,85,69)",
           "rgb(234,85,69)",
           "rgb(234,85,69)",
           "rgb(234,85,69)",
           "rgb(234,85,69)",
           "rgb(234,85,69)"
          ],
          "source": [
           1,
           1,
           1,
           6,
           7,
           7,
           8,
           8,
           8,
           9,
           9,
           9,
           10,
           10,
           10,
           11,
           11,
           11,
           12,
           12,
           12,
           12,
           13,
           13,
           13,
           13,
           14,
           14,
           14,
           14
          ],
          "target": [
           6,
           7,
           8,
           11,
           10,
           11,
           9,
           10,
           11,
           12,
           13,
           14,
           12,
           13,
           14,
           12,
           13,
           14,
           15,
           16,
           17,
           18,
           15,
           16,
           17,
           18,
           15,
           16,
           17,
           18
          ],
          "value": [
           2985,
           261,
           3899,
           2985,
           21,
           240,
           775,
           138,
           2986,
           377,
           135,
           263,
           30,
           63,
           66,
           4237,
           400,
           1574,
           2075,
           353,
           222,
           1994,
           94,
           140,
           125,
           239,
           469,
           145,
           110,
           1179
          ]
         },
         "node": {
          "color": [
           "red",
           "rgb(234,85,69)",
           "rgb(237,225,91)",
           "rgb(135,188,69)",
           "rgb(39,174,239)",
           "rgb(179,61,198)"
          ],
          "label": [
           "fake",
           "Juntos en matrícula asegurada",
           "Juntos, nuevo colegio",
           "Separados",
           "Al menos uno no asignado",
           "Otros",
           "Aceptan, ambos",
           "Aceptan, solo uno",
           "No aceptan",
           "Postulan, ambos",
           "Postulan, solo uno",
           "No postulan",
           "Matriculan, ambos",
           "Matriculan, solo uno",
           "No matriculan",
           "Repostulan, ambos",
           "Repostula, mayor",
           "Repostula, menor",
           "No repostulan"
          ],
          "line": {
           "width": 0
          },
          "pad": 19,
          "thickness": 20
         },
         "type": "sankey"
        }
       ],
       "layout": {
        "annotations": [
         {
          "align": "center",
          "font": {
           "color": "black",
           "family": "Courier New, monospace",
           "size": 13
          },
          "showarrow": false,
          "text": "Asignados",
          "x": 0,
          "xref": "x",
          "y": 1.05,
          "yref": "paper"
         },
         {
          "align": "center",
          "font": {
           "color": "black",
           "family": "Courier New, monospace",
           "size": 13
          },
          "showarrow": false,
          "text": "Aceptación",
          "x": 1,
          "xref": "x",
          "y": 1.05,
          "yref": "paper"
         },
         {
          "align": "center",
          "font": {
           "color": "black",
           "family": "Courier New, monospace",
           "size": 13
          },
          "showarrow": false,
          "text": "Postulan en complementaria",
          "x": 2,
          "xref": "x",
          "y": 1.05,
          "yref": "paper"
         },
         {
          "align": "center",
          "font": {
           "color": "black",
           "family": "Courier New, monospace",
           "size": 13
          },
          "showarrow": false,
          "text": "Matriculan en asignación",
          "x": 3,
          "xref": "x",
          "y": 1.05,
          "yref": "paper"
         },
         {
          "align": "center",
          "font": {
           "color": "black",
           "family": "Courier New, monospace",
           "size": 13
          },
          "showarrow": false,
          "text": "Postulan próximo año",
          "x": 4,
          "xref": "x",
          "y": 1.05,
          "yref": "paper"
         }
        ],
        "font": {
         "size": 10
        },
        "plot_bgcolor": "rgba(0,0,0,0)",
        "template": {
         "data": {
          "bar": [
           {
            "error_x": {
             "color": "#2a3f5f"
            },
            "error_y": {
             "color": "#2a3f5f"
            },
            "marker": {
             "line": {
              "color": "#E5ECF6",
              "width": 0.5
             },
             "pattern": {
              "fillmode": "overlay",
              "size": 10,
              "solidity": 0.2
             }
            },
            "type": "bar"
           }
          ],
          "barpolar": [
           {
            "marker": {
             "line": {
              "color": "#E5ECF6",
              "width": 0.5
             },
             "pattern": {
              "fillmode": "overlay",
              "size": 10,
              "solidity": 0.2
             }
            },
            "type": "barpolar"
           }
          ],
          "carpet": [
           {
            "aaxis": {
             "endlinecolor": "#2a3f5f",
             "gridcolor": "white",
             "linecolor": "white",
             "minorgridcolor": "white",
             "startlinecolor": "#2a3f5f"
            },
            "baxis": {
             "endlinecolor": "#2a3f5f",
             "gridcolor": "white",
             "linecolor": "white",
             "minorgridcolor": "white",
             "startlinecolor": "#2a3f5f"
            },
            "type": "carpet"
           }
          ],
          "choropleth": [
           {
            "colorbar": {
             "outlinewidth": 0,
             "ticks": ""
            },
            "type": "choropleth"
           }
          ],
          "contour": [
           {
            "colorbar": {
             "outlinewidth": 0,
             "ticks": ""
            },
            "colorscale": [
             [
              0,
              "#0d0887"
             ],
             [
              0.1111111111111111,
              "#46039f"
             ],
             [
              0.2222222222222222,
              "#7201a8"
             ],
             [
              0.3333333333333333,
              "#9c179e"
             ],
             [
              0.4444444444444444,
              "#bd3786"
             ],
             [
              0.5555555555555556,
              "#d8576b"
             ],
             [
              0.6666666666666666,
              "#ed7953"
             ],
             [
              0.7777777777777778,
              "#fb9f3a"
             ],
             [
              0.8888888888888888,
              "#fdca26"
             ],
             [
              1,
              "#f0f921"
             ]
            ],
            "type": "contour"
           }
          ],
          "contourcarpet": [
           {
            "colorbar": {
             "outlinewidth": 0,
             "ticks": ""
            },
            "type": "contourcarpet"
           }
          ],
          "heatmap": [
           {
            "colorbar": {
             "outlinewidth": 0,
             "ticks": ""
            },
            "colorscale": [
             [
              0,
              "#0d0887"
             ],
             [
              0.1111111111111111,
              "#46039f"
             ],
             [
              0.2222222222222222,
              "#7201a8"
             ],
             [
              0.3333333333333333,
              "#9c179e"
             ],
             [
              0.4444444444444444,
              "#bd3786"
             ],
             [
              0.5555555555555556,
              "#d8576b"
             ],
             [
              0.6666666666666666,
              "#ed7953"
             ],
             [
              0.7777777777777778,
              "#fb9f3a"
             ],
             [
              0.8888888888888888,
              "#fdca26"
             ],
             [
              1,
              "#f0f921"
             ]
            ],
            "type": "heatmap"
           }
          ],
          "heatmapgl": [
           {
            "colorbar": {
             "outlinewidth": 0,
             "ticks": ""
            },
            "colorscale": [
             [
              0,
              "#0d0887"
             ],
             [
              0.1111111111111111,
              "#46039f"
             ],
             [
              0.2222222222222222,
              "#7201a8"
             ],
             [
              0.3333333333333333,
              "#9c179e"
             ],
             [
              0.4444444444444444,
              "#bd3786"
             ],
             [
              0.5555555555555556,
              "#d8576b"
             ],
             [
              0.6666666666666666,
              "#ed7953"
             ],
             [
              0.7777777777777778,
              "#fb9f3a"
             ],
             [
              0.8888888888888888,
              "#fdca26"
             ],
             [
              1,
              "#f0f921"
             ]
            ],
            "type": "heatmapgl"
           }
          ],
          "histogram": [
           {
            "marker": {
             "pattern": {
              "fillmode": "overlay",
              "size": 10,
              "solidity": 0.2
             }
            },
            "type": "histogram"
           }
          ],
          "histogram2d": [
           {
            "colorbar": {
             "outlinewidth": 0,
             "ticks": ""
            },
            "colorscale": [
             [
              0,
              "#0d0887"
             ],
             [
              0.1111111111111111,
              "#46039f"
             ],
             [
              0.2222222222222222,
              "#7201a8"
             ],
             [
              0.3333333333333333,
              "#9c179e"
             ],
             [
              0.4444444444444444,
              "#bd3786"
             ],
             [
              0.5555555555555556,
              "#d8576b"
             ],
             [
              0.6666666666666666,
              "#ed7953"
             ],
             [
              0.7777777777777778,
              "#fb9f3a"
             ],
             [
              0.8888888888888888,
              "#fdca26"
             ],
             [
              1,
              "#f0f921"
             ]
            ],
            "type": "histogram2d"
           }
          ],
          "histogram2dcontour": [
           {
            "colorbar": {
             "outlinewidth": 0,
             "ticks": ""
            },
            "colorscale": [
             [
              0,
              "#0d0887"
             ],
             [
              0.1111111111111111,
              "#46039f"
             ],
             [
              0.2222222222222222,
              "#7201a8"
             ],
             [
              0.3333333333333333,
              "#9c179e"
             ],
             [
              0.4444444444444444,
              "#bd3786"
             ],
             [
              0.5555555555555556,
              "#d8576b"
             ],
             [
              0.6666666666666666,
              "#ed7953"
             ],
             [
              0.7777777777777778,
              "#fb9f3a"
             ],
             [
              0.8888888888888888,
              "#fdca26"
             ],
             [
              1,
              "#f0f921"
             ]
            ],
            "type": "histogram2dcontour"
           }
          ],
          "mesh3d": [
           {
            "colorbar": {
             "outlinewidth": 0,
             "ticks": ""
            },
            "type": "mesh3d"
           }
          ],
          "parcoords": [
           {
            "line": {
             "colorbar": {
              "outlinewidth": 0,
              "ticks": ""
             }
            },
            "type": "parcoords"
           }
          ],
          "pie": [
           {
            "automargin": true,
            "type": "pie"
           }
          ],
          "scatter": [
           {
            "fillpattern": {
             "fillmode": "overlay",
             "size": 10,
             "solidity": 0.2
            },
            "type": "scatter"
           }
          ],
          "scatter3d": [
           {
            "line": {
             "colorbar": {
              "outlinewidth": 0,
              "ticks": ""
             }
            },
            "marker": {
             "colorbar": {
              "outlinewidth": 0,
              "ticks": ""
             }
            },
            "type": "scatter3d"
           }
          ],
          "scattercarpet": [
           {
            "marker": {
             "colorbar": {
              "outlinewidth": 0,
              "ticks": ""
             }
            },
            "type": "scattercarpet"
           }
          ],
          "scattergeo": [
           {
            "marker": {
             "colorbar": {
              "outlinewidth": 0,
              "ticks": ""
             }
            },
            "type": "scattergeo"
           }
          ],
          "scattergl": [
           {
            "marker": {
             "colorbar": {
              "outlinewidth": 0,
              "ticks": ""
             }
            },
            "type": "scattergl"
           }
          ],
          "scattermapbox": [
           {
            "marker": {
             "colorbar": {
              "outlinewidth": 0,
              "ticks": ""
             }
            },
            "type": "scattermapbox"
           }
          ],
          "scatterpolar": [
           {
            "marker": {
             "colorbar": {
              "outlinewidth": 0,
              "ticks": ""
             }
            },
            "type": "scatterpolar"
           }
          ],
          "scatterpolargl": [
           {
            "marker": {
             "colorbar": {
              "outlinewidth": 0,
              "ticks": ""
             }
            },
            "type": "scatterpolargl"
           }
          ],
          "scatterternary": [
           {
            "marker": {
             "colorbar": {
              "outlinewidth": 0,
              "ticks": ""
             }
            },
            "type": "scatterternary"
           }
          ],
          "surface": [
           {
            "colorbar": {
             "outlinewidth": 0,
             "ticks": ""
            },
            "colorscale": [
             [
              0,
              "#0d0887"
             ],
             [
              0.1111111111111111,
              "#46039f"
             ],
             [
              0.2222222222222222,
              "#7201a8"
             ],
             [
              0.3333333333333333,
              "#9c179e"
             ],
             [
              0.4444444444444444,
              "#bd3786"
             ],
             [
              0.5555555555555556,
              "#d8576b"
             ],
             [
              0.6666666666666666,
              "#ed7953"
             ],
             [
              0.7777777777777778,
              "#fb9f3a"
             ],
             [
              0.8888888888888888,
              "#fdca26"
             ],
             [
              1,
              "#f0f921"
             ]
            ],
            "type": "surface"
           }
          ],
          "table": [
           {
            "cells": {
             "fill": {
              "color": "#EBF0F8"
             },
             "line": {
              "color": "white"
             }
            },
            "header": {
             "fill": {
              "color": "#C8D4E3"
             },
             "line": {
              "color": "white"
             }
            },
            "type": "table"
           }
          ]
         },
         "layout": {
          "annotationdefaults": {
           "arrowcolor": "#2a3f5f",
           "arrowhead": 0,
           "arrowwidth": 1
          },
          "autotypenumbers": "strict",
          "coloraxis": {
           "colorbar": {
            "outlinewidth": 0,
            "ticks": ""
           }
          },
          "colorscale": {
           "diverging": [
            [
             0,
             "#8e0152"
            ],
            [
             0.1,
             "#c51b7d"
            ],
            [
             0.2,
             "#de77ae"
            ],
            [
             0.3,
             "#f1b6da"
            ],
            [
             0.4,
             "#fde0ef"
            ],
            [
             0.5,
             "#f7f7f7"
            ],
            [
             0.6,
             "#e6f5d0"
            ],
            [
             0.7,
             "#b8e186"
            ],
            [
             0.8,
             "#7fbc41"
            ],
            [
             0.9,
             "#4d9221"
            ],
            [
             1,
             "#276419"
            ]
           ],
           "sequential": [
            [
             0,
             "#0d0887"
            ],
            [
             0.1111111111111111,
             "#46039f"
            ],
            [
             0.2222222222222222,
             "#7201a8"
            ],
            [
             0.3333333333333333,
             "#9c179e"
            ],
            [
             0.4444444444444444,
             "#bd3786"
            ],
            [
             0.5555555555555556,
             "#d8576b"
            ],
            [
             0.6666666666666666,
             "#ed7953"
            ],
            [
             0.7777777777777778,
             "#fb9f3a"
            ],
            [
             0.8888888888888888,
             "#fdca26"
            ],
            [
             1,
             "#f0f921"
            ]
           ],
           "sequentialminus": [
            [
             0,
             "#0d0887"
            ],
            [
             0.1111111111111111,
             "#46039f"
            ],
            [
             0.2222222222222222,
             "#7201a8"
            ],
            [
             0.3333333333333333,
             "#9c179e"
            ],
            [
             0.4444444444444444,
             "#bd3786"
            ],
            [
             0.5555555555555556,
             "#d8576b"
            ],
            [
             0.6666666666666666,
             "#ed7953"
            ],
            [
             0.7777777777777778,
             "#fb9f3a"
            ],
            [
             0.8888888888888888,
             "#fdca26"
            ],
            [
             1,
             "#f0f921"
            ]
           ]
          },
          "colorway": [
           "#636efa",
           "#EF553B",
           "#00cc96",
           "#ab63fa",
           "#FFA15A",
           "#19d3f3",
           "#FF6692",
           "#B6E880",
           "#FF97FF",
           "#FECB52"
          ],
          "font": {
           "color": "#2a3f5f"
          },
          "geo": {
           "bgcolor": "white",
           "lakecolor": "white",
           "landcolor": "#E5ECF6",
           "showlakes": true,
           "showland": true,
           "subunitcolor": "white"
          },
          "hoverlabel": {
           "align": "left"
          },
          "hovermode": "closest",
          "mapbox": {
           "style": "light"
          },
          "paper_bgcolor": "white",
          "plot_bgcolor": "#E5ECF6",
          "polar": {
           "angularaxis": {
            "gridcolor": "white",
            "linecolor": "white",
            "ticks": ""
           },
           "bgcolor": "#E5ECF6",
           "radialaxis": {
            "gridcolor": "white",
            "linecolor": "white",
            "ticks": ""
           }
          },
          "scene": {
           "xaxis": {
            "backgroundcolor": "#E5ECF6",
            "gridcolor": "white",
            "gridwidth": 2,
            "linecolor": "white",
            "showbackground": true,
            "ticks": "",
            "zerolinecolor": "white"
           },
           "yaxis": {
            "backgroundcolor": "#E5ECF6",
            "gridcolor": "white",
            "gridwidth": 2,
            "linecolor": "white",
            "showbackground": true,
            "ticks": "",
            "zerolinecolor": "white"
           },
           "zaxis": {
            "backgroundcolor": "#E5ECF6",
            "gridcolor": "white",
            "gridwidth": 2,
            "linecolor": "white",
            "showbackground": true,
            "ticks": "",
            "zerolinecolor": "white"
           }
          },
          "shapedefaults": {
           "line": {
            "color": "#2a3f5f"
           }
          },
          "ternary": {
           "aaxis": {
            "gridcolor": "white",
            "linecolor": "white",
            "ticks": ""
           },
           "baxis": {
            "gridcolor": "white",
            "linecolor": "white",
            "ticks": ""
           },
           "bgcolor": "#E5ECF6",
           "caxis": {
            "gridcolor": "white",
            "linecolor": "white",
            "ticks": ""
           }
          },
          "title": {
           "x": 0.05
          },
          "xaxis": {
           "automargin": true,
           "gridcolor": "white",
           "linecolor": "white",
           "ticks": "",
           "title": {
            "standoff": 15
           },
           "zerolinecolor": "white",
           "zerolinewidth": 2
          },
          "yaxis": {
           "automargin": true,
           "gridcolor": "white",
           "linecolor": "white",
           "ticks": "",
           "title": {
            "standoff": 15
           },
           "zerolinecolor": "white",
           "zerolinewidth": 2
          }
         }
        },
        "xaxis": {
         "showgrid": false,
         "visible": false,
         "zeroline": false
        },
        "yaxis": {
         "showgrid": false,
         "visible": false,
         "zeroline": false
        }
       }
      }
     },
     "metadata": {},
     "output_type": "display_data"
    }
   ],
   "source": [
    "data_flow = pd.read_csv(\"/Users/javieragazmuri/ConsiliumBots Dropbox/ConsiliumBots/Projects/Chile/Siblings/data/intermediate/group_2_juntos_ma.csv\")\n",
    "\n",
    "data_flow['cohort'] = data_flow['group_2']\n",
    "\n",
    "data_1 = data_flow.groupby(['cohort','group_2','cat_aceptan']).sum()['aux'].reset_index()\n",
    "data_1.columns = ['cohort','origen','destino','valor']\n",
    "\n",
    "data_2 = data_flow.groupby(['cohort','cat_aceptan','cat_post_comp']).sum()['aux'].reset_index()\n",
    "data_2.columns = ['cohort','origen','destino','valor']\n",
    "\n",
    "data_3 = data_flow.groupby(['cohort','cat_post_comp','cat_matricula']).sum()['aux'].reset_index()\n",
    "data_3.columns = ['cohort','origen','destino','valor']\n",
    "\n",
    "data_4 = data_flow.groupby(['cohort','cat_matricula','cat_postula_2022']).sum()['aux'].reset_index()\n",
    "data_4.columns = ['cohort','origen','destino','valor']\n",
    "\n",
    "data_appended = data_1.append(data_2).append(data_3).append(data_4).sort_values(['cohort','origen','destino'])\n",
    "\n",
    "dict_color = {1:'rgb(234,85,69)',2:'rgb(237,225,91)',3:'rgb(135,188,69)',4:'rgb(39,174,239)', 5: 'rgb(179,61,198)'}\n",
    "\n",
    "import plotly.graph_objects as go\n",
    "\n",
    "fig = go.Figure(data=[go.Sankey(\n",
    "node = dict(\n",
    " pad = 19,\n",
    " thickness = 20,\n",
    " line = dict( width = 0),\n",
    " color = ['red','rgb(234,85,69)','rgb(237,225,91)','rgb(135,188,69)','rgb(39,174,239)','rgb(179,61,198)'],\n",
    " label = [\"fake\",\"Juntos en matrícula asegurada\", \"Juntos, nuevo colegio\", \"Separados\", \"Al menos uno no asignado\", \"Otros\", \"Aceptan, ambos\", \"Aceptan, solo uno\", \n",
    "          \"No aceptan\", \"Postulan, ambos\", \"Postulan, solo uno\", \"No postulan\", \"Matriculan, ambos\", \"Matriculan, solo uno\", \"No matriculan\", \n",
    "          \"Repostulan, ambos\", \"Repostula, mayor\", \"Repostula, menor\", \"No repostulan\"],),\n",
    "link = dict(\n",
    " source = data_appended['origen'].to_list(),\n",
    " target = data_appended['destino'].to_list(),\n",
    " value = data_appended['valor'].to_list(),\n",
    " color = [dict_color[x] for x in data_appended['cohort'].to_list()]))])\n",
    "#Adding a title & showing the figure (Optional)\n",
    "\n",
    "for x_coordinate, column_name in enumerate([\"Asignados\",\"Aceptación\",\"Postulan en complementaria\", \"Matriculan en asignación\", \"Postulan próximo año\"]):\n",
    "  fig.add_annotation(\n",
    "          x=x_coordinate,\n",
    "          y=1.05,\n",
    "          xref=\"x\",\n",
    "          yref=\"paper\",\n",
    "          text=column_name,\n",
    "          showarrow=False,\n",
    "          font=dict(\n",
    "              family=\"Courier New, monospace\",\n",
    "              size=13,\n",
    "              color=\"black\"\n",
    "              ),\n",
    "          align=\"center\",\n",
    "          )\n",
    "\n",
    "fig.update_layout(\n",
    "    xaxis={\n",
    "    'showgrid': False, # thin lines in the background\n",
    "    'zeroline': False, # thick line at x=0\n",
    "    'visible': False,  # numbers below\n",
    "    },\n",
    "    yaxis={\n",
    "    'showgrid': False, # thin lines in the background\n",
    "    'zeroline': False, # thick line at x=0\n",
    "    'visible': False,  # numbers below\n",
    "    }, plot_bgcolor='rgba(0,0,0,0)', font_size=10)\n",
    "    \n",
    "fig.show()"
   ]
  },
  {
   "attachments": {},
   "cell_type": "markdown",
   "metadata": {},
   "source": [
    "#### Juntos, nuevo"
   ]
  },
  {
   "cell_type": "code",
   "execution_count": 12,
   "metadata": {},
   "outputs": [
    {
     "name": "stderr",
     "output_type": "stream",
     "text": [
      "/var/folders/nx/hjv6fkdn3fnd8hv6fsj5qw0r0000gn/T/ipykernel_1298/4058671861.py:17: FutureWarning:\n",
      "\n",
      "The frame.append method is deprecated and will be removed from pandas in a future version. Use pandas.concat instead.\n",
      "\n",
      "/var/folders/nx/hjv6fkdn3fnd8hv6fsj5qw0r0000gn/T/ipykernel_1298/4058671861.py:17: FutureWarning:\n",
      "\n",
      "The frame.append method is deprecated and will be removed from pandas in a future version. Use pandas.concat instead.\n",
      "\n"
     ]
    },
    {
     "data": {
      "application/vnd.plotly.v1+json": {
       "config": {
        "plotlyServerURL": "https://plot.ly"
       },
       "data": [
        {
         "link": {
          "color": [
           "rgb(237,225,91)",
           "rgb(237,225,91)",
           "rgb(237,225,91)",
           "rgb(237,225,91)",
           "rgb(237,225,91)",
           "rgb(237,225,91)",
           "rgb(237,225,91)",
           "rgb(237,225,91)",
           "rgb(237,225,91)",
           "rgb(237,225,91)",
           "rgb(237,225,91)",
           "rgb(237,225,91)",
           "rgb(237,225,91)",
           "rgb(237,225,91)",
           "rgb(237,225,91)",
           "rgb(237,225,91)",
           "rgb(237,225,91)",
           "rgb(237,225,91)",
           "rgb(237,225,91)",
           "rgb(237,225,91)",
           "rgb(237,225,91)",
           "rgb(237,225,91)",
           "rgb(237,225,91)",
           "rgb(237,225,91)",
           "rgb(237,225,91)",
           "rgb(237,225,91)",
           "rgb(237,225,91)",
           "rgb(237,225,91)",
           "rgb(237,225,91)",
           "rgb(237,225,91)"
          ],
          "source": [
           2,
           2,
           2,
           6,
           7,
           7,
           8,
           8,
           8,
           9,
           9,
           9,
           10,
           10,
           10,
           11,
           11,
           11,
           12,
           12,
           12,
           12,
           13,
           13,
           13,
           13,
           14,
           14,
           14,
           14
          ],
          "target": [
           6,
           7,
           8,
           11,
           10,
           11,
           9,
           10,
           11,
           12,
           13,
           14,
           12,
           13,
           14,
           12,
           13,
           14,
           15,
           16,
           17,
           18,
           15,
           16,
           17,
           18,
           15,
           16,
           17,
           18
          ],
          "value": [
           12224,
           818,
           4116,
           12224,
           90,
           728,
           579,
           270,
           3267,
           287,
           110,
           182,
           65,
           195,
           100,
           10843,
           1285,
           4091,
           1480,
           577,
           250,
           8888,
           211,
           224,
           298,
           857,
           1067,
           356,
           333,
           2617
          ]
         },
         "node": {
          "color": [
           "red",
           "rgb(234,85,69)",
           "rgb(237,225,91)",
           "rgb(135,188,69)",
           "rgb(39,174,239)",
           "rgb(179,61,198)"
          ],
          "label": [
           "fake",
           "Juntos en matrícula asegurada",
           "Juntos, nuevo colegio",
           "Separados",
           "Al menos uno no asignado",
           "Otros",
           "Aceptan, ambos",
           "Aceptan, solo uno",
           "No aceptan",
           "Postulan, ambos",
           "Postulan, solo uno",
           "No postulan",
           "Matriculan, ambos",
           "Matriculan, solo uno",
           "No matriculan",
           "Repostulan, ambos",
           "Repostula, mayor",
           "Repostula, menor",
           "No repostulan"
          ],
          "line": {
           "width": 0
          },
          "pad": 19,
          "thickness": 20
         },
         "type": "sankey"
        }
       ],
       "layout": {
        "annotations": [
         {
          "align": "center",
          "font": {
           "color": "black",
           "family": "Courier New, monospace",
           "size": 13
          },
          "showarrow": false,
          "text": "Asignados",
          "x": 0,
          "xref": "x",
          "y": 1.05,
          "yref": "paper"
         },
         {
          "align": "center",
          "font": {
           "color": "black",
           "family": "Courier New, monospace",
           "size": 13
          },
          "showarrow": false,
          "text": "Aceptación",
          "x": 1,
          "xref": "x",
          "y": 1.05,
          "yref": "paper"
         },
         {
          "align": "center",
          "font": {
           "color": "black",
           "family": "Courier New, monospace",
           "size": 13
          },
          "showarrow": false,
          "text": "Postulan en complementaria",
          "x": 2,
          "xref": "x",
          "y": 1.05,
          "yref": "paper"
         },
         {
          "align": "center",
          "font": {
           "color": "black",
           "family": "Courier New, monospace",
           "size": 13
          },
          "showarrow": false,
          "text": "Matriculan en asignación",
          "x": 3,
          "xref": "x",
          "y": 1.05,
          "yref": "paper"
         },
         {
          "align": "center",
          "font": {
           "color": "black",
           "family": "Courier New, monospace",
           "size": 13
          },
          "showarrow": false,
          "text": "Postulan próximo año",
          "x": 4,
          "xref": "x",
          "y": 1.05,
          "yref": "paper"
         }
        ],
        "font": {
         "size": 10
        },
        "plot_bgcolor": "rgba(0,0,0,0)",
        "template": {
         "data": {
          "bar": [
           {
            "error_x": {
             "color": "#2a3f5f"
            },
            "error_y": {
             "color": "#2a3f5f"
            },
            "marker": {
             "line": {
              "color": "#E5ECF6",
              "width": 0.5
             },
             "pattern": {
              "fillmode": "overlay",
              "size": 10,
              "solidity": 0.2
             }
            },
            "type": "bar"
           }
          ],
          "barpolar": [
           {
            "marker": {
             "line": {
              "color": "#E5ECF6",
              "width": 0.5
             },
             "pattern": {
              "fillmode": "overlay",
              "size": 10,
              "solidity": 0.2
             }
            },
            "type": "barpolar"
           }
          ],
          "carpet": [
           {
            "aaxis": {
             "endlinecolor": "#2a3f5f",
             "gridcolor": "white",
             "linecolor": "white",
             "minorgridcolor": "white",
             "startlinecolor": "#2a3f5f"
            },
            "baxis": {
             "endlinecolor": "#2a3f5f",
             "gridcolor": "white",
             "linecolor": "white",
             "minorgridcolor": "white",
             "startlinecolor": "#2a3f5f"
            },
            "type": "carpet"
           }
          ],
          "choropleth": [
           {
            "colorbar": {
             "outlinewidth": 0,
             "ticks": ""
            },
            "type": "choropleth"
           }
          ],
          "contour": [
           {
            "colorbar": {
             "outlinewidth": 0,
             "ticks": ""
            },
            "colorscale": [
             [
              0,
              "#0d0887"
             ],
             [
              0.1111111111111111,
              "#46039f"
             ],
             [
              0.2222222222222222,
              "#7201a8"
             ],
             [
              0.3333333333333333,
              "#9c179e"
             ],
             [
              0.4444444444444444,
              "#bd3786"
             ],
             [
              0.5555555555555556,
              "#d8576b"
             ],
             [
              0.6666666666666666,
              "#ed7953"
             ],
             [
              0.7777777777777778,
              "#fb9f3a"
             ],
             [
              0.8888888888888888,
              "#fdca26"
             ],
             [
              1,
              "#f0f921"
             ]
            ],
            "type": "contour"
           }
          ],
          "contourcarpet": [
           {
            "colorbar": {
             "outlinewidth": 0,
             "ticks": ""
            },
            "type": "contourcarpet"
           }
          ],
          "heatmap": [
           {
            "colorbar": {
             "outlinewidth": 0,
             "ticks": ""
            },
            "colorscale": [
             [
              0,
              "#0d0887"
             ],
             [
              0.1111111111111111,
              "#46039f"
             ],
             [
              0.2222222222222222,
              "#7201a8"
             ],
             [
              0.3333333333333333,
              "#9c179e"
             ],
             [
              0.4444444444444444,
              "#bd3786"
             ],
             [
              0.5555555555555556,
              "#d8576b"
             ],
             [
              0.6666666666666666,
              "#ed7953"
             ],
             [
              0.7777777777777778,
              "#fb9f3a"
             ],
             [
              0.8888888888888888,
              "#fdca26"
             ],
             [
              1,
              "#f0f921"
             ]
            ],
            "type": "heatmap"
           }
          ],
          "heatmapgl": [
           {
            "colorbar": {
             "outlinewidth": 0,
             "ticks": ""
            },
            "colorscale": [
             [
              0,
              "#0d0887"
             ],
             [
              0.1111111111111111,
              "#46039f"
             ],
             [
              0.2222222222222222,
              "#7201a8"
             ],
             [
              0.3333333333333333,
              "#9c179e"
             ],
             [
              0.4444444444444444,
              "#bd3786"
             ],
             [
              0.5555555555555556,
              "#d8576b"
             ],
             [
              0.6666666666666666,
              "#ed7953"
             ],
             [
              0.7777777777777778,
              "#fb9f3a"
             ],
             [
              0.8888888888888888,
              "#fdca26"
             ],
             [
              1,
              "#f0f921"
             ]
            ],
            "type": "heatmapgl"
           }
          ],
          "histogram": [
           {
            "marker": {
             "pattern": {
              "fillmode": "overlay",
              "size": 10,
              "solidity": 0.2
             }
            },
            "type": "histogram"
           }
          ],
          "histogram2d": [
           {
            "colorbar": {
             "outlinewidth": 0,
             "ticks": ""
            },
            "colorscale": [
             [
              0,
              "#0d0887"
             ],
             [
              0.1111111111111111,
              "#46039f"
             ],
             [
              0.2222222222222222,
              "#7201a8"
             ],
             [
              0.3333333333333333,
              "#9c179e"
             ],
             [
              0.4444444444444444,
              "#bd3786"
             ],
             [
              0.5555555555555556,
              "#d8576b"
             ],
             [
              0.6666666666666666,
              "#ed7953"
             ],
             [
              0.7777777777777778,
              "#fb9f3a"
             ],
             [
              0.8888888888888888,
              "#fdca26"
             ],
             [
              1,
              "#f0f921"
             ]
            ],
            "type": "histogram2d"
           }
          ],
          "histogram2dcontour": [
           {
            "colorbar": {
             "outlinewidth": 0,
             "ticks": ""
            },
            "colorscale": [
             [
              0,
              "#0d0887"
             ],
             [
              0.1111111111111111,
              "#46039f"
             ],
             [
              0.2222222222222222,
              "#7201a8"
             ],
             [
              0.3333333333333333,
              "#9c179e"
             ],
             [
              0.4444444444444444,
              "#bd3786"
             ],
             [
              0.5555555555555556,
              "#d8576b"
             ],
             [
              0.6666666666666666,
              "#ed7953"
             ],
             [
              0.7777777777777778,
              "#fb9f3a"
             ],
             [
              0.8888888888888888,
              "#fdca26"
             ],
             [
              1,
              "#f0f921"
             ]
            ],
            "type": "histogram2dcontour"
           }
          ],
          "mesh3d": [
           {
            "colorbar": {
             "outlinewidth": 0,
             "ticks": ""
            },
            "type": "mesh3d"
           }
          ],
          "parcoords": [
           {
            "line": {
             "colorbar": {
              "outlinewidth": 0,
              "ticks": ""
             }
            },
            "type": "parcoords"
           }
          ],
          "pie": [
           {
            "automargin": true,
            "type": "pie"
           }
          ],
          "scatter": [
           {
            "fillpattern": {
             "fillmode": "overlay",
             "size": 10,
             "solidity": 0.2
            },
            "type": "scatter"
           }
          ],
          "scatter3d": [
           {
            "line": {
             "colorbar": {
              "outlinewidth": 0,
              "ticks": ""
             }
            },
            "marker": {
             "colorbar": {
              "outlinewidth": 0,
              "ticks": ""
             }
            },
            "type": "scatter3d"
           }
          ],
          "scattercarpet": [
           {
            "marker": {
             "colorbar": {
              "outlinewidth": 0,
              "ticks": ""
             }
            },
            "type": "scattercarpet"
           }
          ],
          "scattergeo": [
           {
            "marker": {
             "colorbar": {
              "outlinewidth": 0,
              "ticks": ""
             }
            },
            "type": "scattergeo"
           }
          ],
          "scattergl": [
           {
            "marker": {
             "colorbar": {
              "outlinewidth": 0,
              "ticks": ""
             }
            },
            "type": "scattergl"
           }
          ],
          "scattermapbox": [
           {
            "marker": {
             "colorbar": {
              "outlinewidth": 0,
              "ticks": ""
             }
            },
            "type": "scattermapbox"
           }
          ],
          "scatterpolar": [
           {
            "marker": {
             "colorbar": {
              "outlinewidth": 0,
              "ticks": ""
             }
            },
            "type": "scatterpolar"
           }
          ],
          "scatterpolargl": [
           {
            "marker": {
             "colorbar": {
              "outlinewidth": 0,
              "ticks": ""
             }
            },
            "type": "scatterpolargl"
           }
          ],
          "scatterternary": [
           {
            "marker": {
             "colorbar": {
              "outlinewidth": 0,
              "ticks": ""
             }
            },
            "type": "scatterternary"
           }
          ],
          "surface": [
           {
            "colorbar": {
             "outlinewidth": 0,
             "ticks": ""
            },
            "colorscale": [
             [
              0,
              "#0d0887"
             ],
             [
              0.1111111111111111,
              "#46039f"
             ],
             [
              0.2222222222222222,
              "#7201a8"
             ],
             [
              0.3333333333333333,
              "#9c179e"
             ],
             [
              0.4444444444444444,
              "#bd3786"
             ],
             [
              0.5555555555555556,
              "#d8576b"
             ],
             [
              0.6666666666666666,
              "#ed7953"
             ],
             [
              0.7777777777777778,
              "#fb9f3a"
             ],
             [
              0.8888888888888888,
              "#fdca26"
             ],
             [
              1,
              "#f0f921"
             ]
            ],
            "type": "surface"
           }
          ],
          "table": [
           {
            "cells": {
             "fill": {
              "color": "#EBF0F8"
             },
             "line": {
              "color": "white"
             }
            },
            "header": {
             "fill": {
              "color": "#C8D4E3"
             },
             "line": {
              "color": "white"
             }
            },
            "type": "table"
           }
          ]
         },
         "layout": {
          "annotationdefaults": {
           "arrowcolor": "#2a3f5f",
           "arrowhead": 0,
           "arrowwidth": 1
          },
          "autotypenumbers": "strict",
          "coloraxis": {
           "colorbar": {
            "outlinewidth": 0,
            "ticks": ""
           }
          },
          "colorscale": {
           "diverging": [
            [
             0,
             "#8e0152"
            ],
            [
             0.1,
             "#c51b7d"
            ],
            [
             0.2,
             "#de77ae"
            ],
            [
             0.3,
             "#f1b6da"
            ],
            [
             0.4,
             "#fde0ef"
            ],
            [
             0.5,
             "#f7f7f7"
            ],
            [
             0.6,
             "#e6f5d0"
            ],
            [
             0.7,
             "#b8e186"
            ],
            [
             0.8,
             "#7fbc41"
            ],
            [
             0.9,
             "#4d9221"
            ],
            [
             1,
             "#276419"
            ]
           ],
           "sequential": [
            [
             0,
             "#0d0887"
            ],
            [
             0.1111111111111111,
             "#46039f"
            ],
            [
             0.2222222222222222,
             "#7201a8"
            ],
            [
             0.3333333333333333,
             "#9c179e"
            ],
            [
             0.4444444444444444,
             "#bd3786"
            ],
            [
             0.5555555555555556,
             "#d8576b"
            ],
            [
             0.6666666666666666,
             "#ed7953"
            ],
            [
             0.7777777777777778,
             "#fb9f3a"
            ],
            [
             0.8888888888888888,
             "#fdca26"
            ],
            [
             1,
             "#f0f921"
            ]
           ],
           "sequentialminus": [
            [
             0,
             "#0d0887"
            ],
            [
             0.1111111111111111,
             "#46039f"
            ],
            [
             0.2222222222222222,
             "#7201a8"
            ],
            [
             0.3333333333333333,
             "#9c179e"
            ],
            [
             0.4444444444444444,
             "#bd3786"
            ],
            [
             0.5555555555555556,
             "#d8576b"
            ],
            [
             0.6666666666666666,
             "#ed7953"
            ],
            [
             0.7777777777777778,
             "#fb9f3a"
            ],
            [
             0.8888888888888888,
             "#fdca26"
            ],
            [
             1,
             "#f0f921"
            ]
           ]
          },
          "colorway": [
           "#636efa",
           "#EF553B",
           "#00cc96",
           "#ab63fa",
           "#FFA15A",
           "#19d3f3",
           "#FF6692",
           "#B6E880",
           "#FF97FF",
           "#FECB52"
          ],
          "font": {
           "color": "#2a3f5f"
          },
          "geo": {
           "bgcolor": "white",
           "lakecolor": "white",
           "landcolor": "#E5ECF6",
           "showlakes": true,
           "showland": true,
           "subunitcolor": "white"
          },
          "hoverlabel": {
           "align": "left"
          },
          "hovermode": "closest",
          "mapbox": {
           "style": "light"
          },
          "paper_bgcolor": "white",
          "plot_bgcolor": "#E5ECF6",
          "polar": {
           "angularaxis": {
            "gridcolor": "white",
            "linecolor": "white",
            "ticks": ""
           },
           "bgcolor": "#E5ECF6",
           "radialaxis": {
            "gridcolor": "white",
            "linecolor": "white",
            "ticks": ""
           }
          },
          "scene": {
           "xaxis": {
            "backgroundcolor": "#E5ECF6",
            "gridcolor": "white",
            "gridwidth": 2,
            "linecolor": "white",
            "showbackground": true,
            "ticks": "",
            "zerolinecolor": "white"
           },
           "yaxis": {
            "backgroundcolor": "#E5ECF6",
            "gridcolor": "white",
            "gridwidth": 2,
            "linecolor": "white",
            "showbackground": true,
            "ticks": "",
            "zerolinecolor": "white"
           },
           "zaxis": {
            "backgroundcolor": "#E5ECF6",
            "gridcolor": "white",
            "gridwidth": 2,
            "linecolor": "white",
            "showbackground": true,
            "ticks": "",
            "zerolinecolor": "white"
           }
          },
          "shapedefaults": {
           "line": {
            "color": "#2a3f5f"
           }
          },
          "ternary": {
           "aaxis": {
            "gridcolor": "white",
            "linecolor": "white",
            "ticks": ""
           },
           "baxis": {
            "gridcolor": "white",
            "linecolor": "white",
            "ticks": ""
           },
           "bgcolor": "#E5ECF6",
           "caxis": {
            "gridcolor": "white",
            "linecolor": "white",
            "ticks": ""
           }
          },
          "title": {
           "x": 0.05
          },
          "xaxis": {
           "automargin": true,
           "gridcolor": "white",
           "linecolor": "white",
           "ticks": "",
           "title": {
            "standoff": 15
           },
           "zerolinecolor": "white",
           "zerolinewidth": 2
          },
          "yaxis": {
           "automargin": true,
           "gridcolor": "white",
           "linecolor": "white",
           "ticks": "",
           "title": {
            "standoff": 15
           },
           "zerolinecolor": "white",
           "zerolinewidth": 2
          }
         }
        },
        "xaxis": {
         "showgrid": false,
         "visible": false,
         "zeroline": false
        },
        "yaxis": {
         "showgrid": false,
         "visible": false,
         "zeroline": false
        }
       }
      }
     },
     "metadata": {},
     "output_type": "display_data"
    }
   ],
   "source": [
    "data_flow = pd.read_csv(\"/Users/javieragazmuri/ConsiliumBots Dropbox/ConsiliumBots/Projects/Chile/Siblings/data/intermediate/group_2_juntos_nuevo.csv\")\n",
    "\n",
    "data_flow['cohort'] = data_flow['group_2']\n",
    "\n",
    "data_1 = data_flow.groupby(['cohort','group_2','cat_aceptan']).sum()['aux'].reset_index()\n",
    "data_1.columns = ['cohort','origen','destino','valor']\n",
    "\n",
    "data_2 = data_flow.groupby(['cohort','cat_aceptan','cat_post_comp']).sum()['aux'].reset_index()\n",
    "data_2.columns = ['cohort','origen','destino','valor']\n",
    "\n",
    "data_3 = data_flow.groupby(['cohort','cat_post_comp','cat_matricula']).sum()['aux'].reset_index()\n",
    "data_3.columns = ['cohort','origen','destino','valor']\n",
    "\n",
    "data_4 = data_flow.groupby(['cohort','cat_matricula','cat_postula_2022']).sum()['aux'].reset_index()\n",
    "data_4.columns = ['cohort','origen','destino','valor']\n",
    "\n",
    "data_appended = data_1.append(data_2).append(data_3).append(data_4).sort_values(['cohort','origen','destino'])\n",
    "\n",
    "dict_color = {1:'rgb(234,85,69)',2:'rgb(237,225,91)',3:'rgb(135,188,69)',4:'rgb(39,174,239)', 5: 'rgb(179,61,198)'}\n",
    "\n",
    "import plotly.graph_objects as go\n",
    "\n",
    "fig = go.Figure(data=[go.Sankey(\n",
    "node = dict(\n",
    " pad = 19,\n",
    " thickness = 20,\n",
    " line = dict( width = 0),\n",
    " color = ['red','rgb(234,85,69)','rgb(237,225,91)','rgb(135,188,69)','rgb(39,174,239)','rgb(179,61,198)'],\n",
    " label = [\"fake\",\"Juntos en matrícula asegurada\", \"Juntos, nuevo colegio\", \"Separados\", \"Al menos uno no asignado\", \"Otros\", \"Aceptan, ambos\", \"Aceptan, solo uno\", \n",
    "          \"No aceptan\", \"Postulan, ambos\", \"Postulan, solo uno\", \"No postulan\", \"Matriculan, ambos\", \"Matriculan, solo uno\", \"No matriculan\", \n",
    "          \"Repostulan, ambos\", \"Repostula, mayor\", \"Repostula, menor\", \"No repostulan\"],),\n",
    "link = dict(\n",
    " source = data_appended['origen'].to_list(),\n",
    " target = data_appended['destino'].to_list(),\n",
    " value = data_appended['valor'].to_list(),\n",
    " color = [dict_color[x] for x in data_appended['cohort'].to_list()]))])\n",
    "#Adding a title & showing the figure (Optional)\n",
    "\n",
    "for x_coordinate, column_name in enumerate([\"Asignados\",\"Aceptación\",\"Postulan en complementaria\", \"Matriculan en asignación\", \"Postulan próximo año\"]):\n",
    "  fig.add_annotation(\n",
    "          x=x_coordinate,\n",
    "          y=1.05,\n",
    "          xref=\"x\",\n",
    "          yref=\"paper\",\n",
    "          text=column_name,\n",
    "          showarrow=False,\n",
    "          font=dict(\n",
    "              family=\"Courier New, monospace\",\n",
    "              size=13,\n",
    "              color=\"black\"\n",
    "              ),\n",
    "          align=\"center\",\n",
    "          )\n",
    "\n",
    "fig.update_layout(\n",
    "    xaxis={\n",
    "    'showgrid': False, # thin lines in the background\n",
    "    'zeroline': False, # thick line at x=0\n",
    "    'visible': False,  # numbers below\n",
    "    },\n",
    "    yaxis={\n",
    "    'showgrid': False, # thin lines in the background\n",
    "    'zeroline': False, # thick line at x=0\n",
    "    'visible': False,  # numbers below\n",
    "    }, plot_bgcolor='rgba(0,0,0,0)', font_size=10)\n",
    "    \n",
    "fig.show()"
   ]
  },
  {
   "attachments": {},
   "cell_type": "markdown",
   "metadata": {},
   "source": [
    "#### Separados"
   ]
  },
  {
   "cell_type": "code",
   "execution_count": 13,
   "metadata": {},
   "outputs": [
    {
     "name": "stderr",
     "output_type": "stream",
     "text": [
      "/var/folders/nx/hjv6fkdn3fnd8hv6fsj5qw0r0000gn/T/ipykernel_1298/3185054089.py:17: FutureWarning:\n",
      "\n",
      "The frame.append method is deprecated and will be removed from pandas in a future version. Use pandas.concat instead.\n",
      "\n",
      "/var/folders/nx/hjv6fkdn3fnd8hv6fsj5qw0r0000gn/T/ipykernel_1298/3185054089.py:17: FutureWarning:\n",
      "\n",
      "The frame.append method is deprecated and will be removed from pandas in a future version. Use pandas.concat instead.\n",
      "\n"
     ]
    },
    {
     "data": {
      "application/vnd.plotly.v1+json": {
       "config": {
        "plotlyServerURL": "https://plot.ly"
       },
       "data": [
        {
         "link": {
          "color": [
           "rgb(135,188,69)",
           "rgb(135,188,69)",
           "rgb(135,188,69)",
           "rgb(135,188,69)",
           "rgb(135,188,69)",
           "rgb(135,188,69)",
           "rgb(135,188,69)",
           "rgb(135,188,69)",
           "rgb(135,188,69)",
           "rgb(135,188,69)",
           "rgb(135,188,69)",
           "rgb(135,188,69)",
           "rgb(135,188,69)",
           "rgb(135,188,69)",
           "rgb(135,188,69)",
           "rgb(135,188,69)",
           "rgb(135,188,69)",
           "rgb(135,188,69)",
           "rgb(135,188,69)",
           "rgb(135,188,69)",
           "rgb(135,188,69)",
           "rgb(135,188,69)",
           "rgb(135,188,69)",
           "rgb(135,188,69)",
           "rgb(135,188,69)",
           "rgb(135,188,69)",
           "rgb(135,188,69)",
           "rgb(135,188,69)",
           "rgb(135,188,69)",
           "rgb(135,188,69)"
          ],
          "source": [
           3,
           3,
           3,
           6,
           7,
           7,
           8,
           8,
           8,
           9,
           9,
           9,
           10,
           10,
           10,
           11,
           11,
           11,
           12,
           12,
           12,
           12,
           13,
           13,
           13,
           13,
           14,
           14,
           14,
           14
          ],
          "target": [
           6,
           7,
           8,
           11,
           10,
           11,
           9,
           10,
           11,
           12,
           13,
           14,
           12,
           13,
           14,
           12,
           13,
           14,
           15,
           16,
           17,
           18,
           15,
           16,
           17,
           18,
           15,
           16,
           17,
           18
          ],
          "value": [
           8899,
           3917,
           2810,
           8899,
           1302,
           2615,
           283,
           221,
           2306,
           128,
           71,
           84,
           683,
           623,
           217,
           6158,
           5491,
           2171,
           730,
           1469,
           1241,
           3529,
           957,
           758,
           936,
           3534,
           568,
           224,
           303,
           1377
          ]
         },
         "node": {
          "color": [
           "red",
           "rgb(234,85,69)",
           "rgb(237,225,91)",
           "rgb(135,188,69)",
           "rgb(39,174,239)",
           "rgb(179,61,198)"
          ],
          "label": [
           "fake",
           "Juntos en matrícula asegurada",
           "Juntos, nuevo colegio",
           "Separados",
           "Al menos uno no asignado",
           "Otros",
           "Aceptan, ambos",
           "Aceptan, solo uno",
           "No aceptan",
           "Postulan, ambos",
           "Postulan, solo uno",
           "No postulan",
           "Matriculan, ambos",
           "Matriculan, solo uno",
           "No matriculan",
           "Repostulan, ambos",
           "Repostula, mayor",
           "Repostula, menor",
           "No repostulan"
          ],
          "line": {
           "width": 0
          },
          "pad": 19,
          "thickness": 20
         },
         "type": "sankey"
        }
       ],
       "layout": {
        "annotations": [
         {
          "align": "center",
          "font": {
           "color": "black",
           "family": "Courier New, monospace",
           "size": 13
          },
          "showarrow": false,
          "text": "Asignados",
          "x": 0,
          "xref": "x",
          "y": 1.05,
          "yref": "paper"
         },
         {
          "align": "center",
          "font": {
           "color": "black",
           "family": "Courier New, monospace",
           "size": 13
          },
          "showarrow": false,
          "text": "Aceptación",
          "x": 1,
          "xref": "x",
          "y": 1.05,
          "yref": "paper"
         },
         {
          "align": "center",
          "font": {
           "color": "black",
           "family": "Courier New, monospace",
           "size": 13
          },
          "showarrow": false,
          "text": "Postulan en complementaria",
          "x": 2,
          "xref": "x",
          "y": 1.05,
          "yref": "paper"
         },
         {
          "align": "center",
          "font": {
           "color": "black",
           "family": "Courier New, monospace",
           "size": 13
          },
          "showarrow": false,
          "text": "Matriculan en asignación",
          "x": 3,
          "xref": "x",
          "y": 1.05,
          "yref": "paper"
         },
         {
          "align": "center",
          "font": {
           "color": "black",
           "family": "Courier New, monospace",
           "size": 13
          },
          "showarrow": false,
          "text": "Postulan próximo año",
          "x": 4,
          "xref": "x",
          "y": 1.05,
          "yref": "paper"
         }
        ],
        "font": {
         "size": 10
        },
        "plot_bgcolor": "rgba(0,0,0,0)",
        "template": {
         "data": {
          "bar": [
           {
            "error_x": {
             "color": "#2a3f5f"
            },
            "error_y": {
             "color": "#2a3f5f"
            },
            "marker": {
             "line": {
              "color": "#E5ECF6",
              "width": 0.5
             },
             "pattern": {
              "fillmode": "overlay",
              "size": 10,
              "solidity": 0.2
             }
            },
            "type": "bar"
           }
          ],
          "barpolar": [
           {
            "marker": {
             "line": {
              "color": "#E5ECF6",
              "width": 0.5
             },
             "pattern": {
              "fillmode": "overlay",
              "size": 10,
              "solidity": 0.2
             }
            },
            "type": "barpolar"
           }
          ],
          "carpet": [
           {
            "aaxis": {
             "endlinecolor": "#2a3f5f",
             "gridcolor": "white",
             "linecolor": "white",
             "minorgridcolor": "white",
             "startlinecolor": "#2a3f5f"
            },
            "baxis": {
             "endlinecolor": "#2a3f5f",
             "gridcolor": "white",
             "linecolor": "white",
             "minorgridcolor": "white",
             "startlinecolor": "#2a3f5f"
            },
            "type": "carpet"
           }
          ],
          "choropleth": [
           {
            "colorbar": {
             "outlinewidth": 0,
             "ticks": ""
            },
            "type": "choropleth"
           }
          ],
          "contour": [
           {
            "colorbar": {
             "outlinewidth": 0,
             "ticks": ""
            },
            "colorscale": [
             [
              0,
              "#0d0887"
             ],
             [
              0.1111111111111111,
              "#46039f"
             ],
             [
              0.2222222222222222,
              "#7201a8"
             ],
             [
              0.3333333333333333,
              "#9c179e"
             ],
             [
              0.4444444444444444,
              "#bd3786"
             ],
             [
              0.5555555555555556,
              "#d8576b"
             ],
             [
              0.6666666666666666,
              "#ed7953"
             ],
             [
              0.7777777777777778,
              "#fb9f3a"
             ],
             [
              0.8888888888888888,
              "#fdca26"
             ],
             [
              1,
              "#f0f921"
             ]
            ],
            "type": "contour"
           }
          ],
          "contourcarpet": [
           {
            "colorbar": {
             "outlinewidth": 0,
             "ticks": ""
            },
            "type": "contourcarpet"
           }
          ],
          "heatmap": [
           {
            "colorbar": {
             "outlinewidth": 0,
             "ticks": ""
            },
            "colorscale": [
             [
              0,
              "#0d0887"
             ],
             [
              0.1111111111111111,
              "#46039f"
             ],
             [
              0.2222222222222222,
              "#7201a8"
             ],
             [
              0.3333333333333333,
              "#9c179e"
             ],
             [
              0.4444444444444444,
              "#bd3786"
             ],
             [
              0.5555555555555556,
              "#d8576b"
             ],
             [
              0.6666666666666666,
              "#ed7953"
             ],
             [
              0.7777777777777778,
              "#fb9f3a"
             ],
             [
              0.8888888888888888,
              "#fdca26"
             ],
             [
              1,
              "#f0f921"
             ]
            ],
            "type": "heatmap"
           }
          ],
          "heatmapgl": [
           {
            "colorbar": {
             "outlinewidth": 0,
             "ticks": ""
            },
            "colorscale": [
             [
              0,
              "#0d0887"
             ],
             [
              0.1111111111111111,
              "#46039f"
             ],
             [
              0.2222222222222222,
              "#7201a8"
             ],
             [
              0.3333333333333333,
              "#9c179e"
             ],
             [
              0.4444444444444444,
              "#bd3786"
             ],
             [
              0.5555555555555556,
              "#d8576b"
             ],
             [
              0.6666666666666666,
              "#ed7953"
             ],
             [
              0.7777777777777778,
              "#fb9f3a"
             ],
             [
              0.8888888888888888,
              "#fdca26"
             ],
             [
              1,
              "#f0f921"
             ]
            ],
            "type": "heatmapgl"
           }
          ],
          "histogram": [
           {
            "marker": {
             "pattern": {
              "fillmode": "overlay",
              "size": 10,
              "solidity": 0.2
             }
            },
            "type": "histogram"
           }
          ],
          "histogram2d": [
           {
            "colorbar": {
             "outlinewidth": 0,
             "ticks": ""
            },
            "colorscale": [
             [
              0,
              "#0d0887"
             ],
             [
              0.1111111111111111,
              "#46039f"
             ],
             [
              0.2222222222222222,
              "#7201a8"
             ],
             [
              0.3333333333333333,
              "#9c179e"
             ],
             [
              0.4444444444444444,
              "#bd3786"
             ],
             [
              0.5555555555555556,
              "#d8576b"
             ],
             [
              0.6666666666666666,
              "#ed7953"
             ],
             [
              0.7777777777777778,
              "#fb9f3a"
             ],
             [
              0.8888888888888888,
              "#fdca26"
             ],
             [
              1,
              "#f0f921"
             ]
            ],
            "type": "histogram2d"
           }
          ],
          "histogram2dcontour": [
           {
            "colorbar": {
             "outlinewidth": 0,
             "ticks": ""
            },
            "colorscale": [
             [
              0,
              "#0d0887"
             ],
             [
              0.1111111111111111,
              "#46039f"
             ],
             [
              0.2222222222222222,
              "#7201a8"
             ],
             [
              0.3333333333333333,
              "#9c179e"
             ],
             [
              0.4444444444444444,
              "#bd3786"
             ],
             [
              0.5555555555555556,
              "#d8576b"
             ],
             [
              0.6666666666666666,
              "#ed7953"
             ],
             [
              0.7777777777777778,
              "#fb9f3a"
             ],
             [
              0.8888888888888888,
              "#fdca26"
             ],
             [
              1,
              "#f0f921"
             ]
            ],
            "type": "histogram2dcontour"
           }
          ],
          "mesh3d": [
           {
            "colorbar": {
             "outlinewidth": 0,
             "ticks": ""
            },
            "type": "mesh3d"
           }
          ],
          "parcoords": [
           {
            "line": {
             "colorbar": {
              "outlinewidth": 0,
              "ticks": ""
             }
            },
            "type": "parcoords"
           }
          ],
          "pie": [
           {
            "automargin": true,
            "type": "pie"
           }
          ],
          "scatter": [
           {
            "fillpattern": {
             "fillmode": "overlay",
             "size": 10,
             "solidity": 0.2
            },
            "type": "scatter"
           }
          ],
          "scatter3d": [
           {
            "line": {
             "colorbar": {
              "outlinewidth": 0,
              "ticks": ""
             }
            },
            "marker": {
             "colorbar": {
              "outlinewidth": 0,
              "ticks": ""
             }
            },
            "type": "scatter3d"
           }
          ],
          "scattercarpet": [
           {
            "marker": {
             "colorbar": {
              "outlinewidth": 0,
              "ticks": ""
             }
            },
            "type": "scattercarpet"
           }
          ],
          "scattergeo": [
           {
            "marker": {
             "colorbar": {
              "outlinewidth": 0,
              "ticks": ""
             }
            },
            "type": "scattergeo"
           }
          ],
          "scattergl": [
           {
            "marker": {
             "colorbar": {
              "outlinewidth": 0,
              "ticks": ""
             }
            },
            "type": "scattergl"
           }
          ],
          "scattermapbox": [
           {
            "marker": {
             "colorbar": {
              "outlinewidth": 0,
              "ticks": ""
             }
            },
            "type": "scattermapbox"
           }
          ],
          "scatterpolar": [
           {
            "marker": {
             "colorbar": {
              "outlinewidth": 0,
              "ticks": ""
             }
            },
            "type": "scatterpolar"
           }
          ],
          "scatterpolargl": [
           {
            "marker": {
             "colorbar": {
              "outlinewidth": 0,
              "ticks": ""
             }
            },
            "type": "scatterpolargl"
           }
          ],
          "scatterternary": [
           {
            "marker": {
             "colorbar": {
              "outlinewidth": 0,
              "ticks": ""
             }
            },
            "type": "scatterternary"
           }
          ],
          "surface": [
           {
            "colorbar": {
             "outlinewidth": 0,
             "ticks": ""
            },
            "colorscale": [
             [
              0,
              "#0d0887"
             ],
             [
              0.1111111111111111,
              "#46039f"
             ],
             [
              0.2222222222222222,
              "#7201a8"
             ],
             [
              0.3333333333333333,
              "#9c179e"
             ],
             [
              0.4444444444444444,
              "#bd3786"
             ],
             [
              0.5555555555555556,
              "#d8576b"
             ],
             [
              0.6666666666666666,
              "#ed7953"
             ],
             [
              0.7777777777777778,
              "#fb9f3a"
             ],
             [
              0.8888888888888888,
              "#fdca26"
             ],
             [
              1,
              "#f0f921"
             ]
            ],
            "type": "surface"
           }
          ],
          "table": [
           {
            "cells": {
             "fill": {
              "color": "#EBF0F8"
             },
             "line": {
              "color": "white"
             }
            },
            "header": {
             "fill": {
              "color": "#C8D4E3"
             },
             "line": {
              "color": "white"
             }
            },
            "type": "table"
           }
          ]
         },
         "layout": {
          "annotationdefaults": {
           "arrowcolor": "#2a3f5f",
           "arrowhead": 0,
           "arrowwidth": 1
          },
          "autotypenumbers": "strict",
          "coloraxis": {
           "colorbar": {
            "outlinewidth": 0,
            "ticks": ""
           }
          },
          "colorscale": {
           "diverging": [
            [
             0,
             "#8e0152"
            ],
            [
             0.1,
             "#c51b7d"
            ],
            [
             0.2,
             "#de77ae"
            ],
            [
             0.3,
             "#f1b6da"
            ],
            [
             0.4,
             "#fde0ef"
            ],
            [
             0.5,
             "#f7f7f7"
            ],
            [
             0.6,
             "#e6f5d0"
            ],
            [
             0.7,
             "#b8e186"
            ],
            [
             0.8,
             "#7fbc41"
            ],
            [
             0.9,
             "#4d9221"
            ],
            [
             1,
             "#276419"
            ]
           ],
           "sequential": [
            [
             0,
             "#0d0887"
            ],
            [
             0.1111111111111111,
             "#46039f"
            ],
            [
             0.2222222222222222,
             "#7201a8"
            ],
            [
             0.3333333333333333,
             "#9c179e"
            ],
            [
             0.4444444444444444,
             "#bd3786"
            ],
            [
             0.5555555555555556,
             "#d8576b"
            ],
            [
             0.6666666666666666,
             "#ed7953"
            ],
            [
             0.7777777777777778,
             "#fb9f3a"
            ],
            [
             0.8888888888888888,
             "#fdca26"
            ],
            [
             1,
             "#f0f921"
            ]
           ],
           "sequentialminus": [
            [
             0,
             "#0d0887"
            ],
            [
             0.1111111111111111,
             "#46039f"
            ],
            [
             0.2222222222222222,
             "#7201a8"
            ],
            [
             0.3333333333333333,
             "#9c179e"
            ],
            [
             0.4444444444444444,
             "#bd3786"
            ],
            [
             0.5555555555555556,
             "#d8576b"
            ],
            [
             0.6666666666666666,
             "#ed7953"
            ],
            [
             0.7777777777777778,
             "#fb9f3a"
            ],
            [
             0.8888888888888888,
             "#fdca26"
            ],
            [
             1,
             "#f0f921"
            ]
           ]
          },
          "colorway": [
           "#636efa",
           "#EF553B",
           "#00cc96",
           "#ab63fa",
           "#FFA15A",
           "#19d3f3",
           "#FF6692",
           "#B6E880",
           "#FF97FF",
           "#FECB52"
          ],
          "font": {
           "color": "#2a3f5f"
          },
          "geo": {
           "bgcolor": "white",
           "lakecolor": "white",
           "landcolor": "#E5ECF6",
           "showlakes": true,
           "showland": true,
           "subunitcolor": "white"
          },
          "hoverlabel": {
           "align": "left"
          },
          "hovermode": "closest",
          "mapbox": {
           "style": "light"
          },
          "paper_bgcolor": "white",
          "plot_bgcolor": "#E5ECF6",
          "polar": {
           "angularaxis": {
            "gridcolor": "white",
            "linecolor": "white",
            "ticks": ""
           },
           "bgcolor": "#E5ECF6",
           "radialaxis": {
            "gridcolor": "white",
            "linecolor": "white",
            "ticks": ""
           }
          },
          "scene": {
           "xaxis": {
            "backgroundcolor": "#E5ECF6",
            "gridcolor": "white",
            "gridwidth": 2,
            "linecolor": "white",
            "showbackground": true,
            "ticks": "",
            "zerolinecolor": "white"
           },
           "yaxis": {
            "backgroundcolor": "#E5ECF6",
            "gridcolor": "white",
            "gridwidth": 2,
            "linecolor": "white",
            "showbackground": true,
            "ticks": "",
            "zerolinecolor": "white"
           },
           "zaxis": {
            "backgroundcolor": "#E5ECF6",
            "gridcolor": "white",
            "gridwidth": 2,
            "linecolor": "white",
            "showbackground": true,
            "ticks": "",
            "zerolinecolor": "white"
           }
          },
          "shapedefaults": {
           "line": {
            "color": "#2a3f5f"
           }
          },
          "ternary": {
           "aaxis": {
            "gridcolor": "white",
            "linecolor": "white",
            "ticks": ""
           },
           "baxis": {
            "gridcolor": "white",
            "linecolor": "white",
            "ticks": ""
           },
           "bgcolor": "#E5ECF6",
           "caxis": {
            "gridcolor": "white",
            "linecolor": "white",
            "ticks": ""
           }
          },
          "title": {
           "x": 0.05
          },
          "xaxis": {
           "automargin": true,
           "gridcolor": "white",
           "linecolor": "white",
           "ticks": "",
           "title": {
            "standoff": 15
           },
           "zerolinecolor": "white",
           "zerolinewidth": 2
          },
          "yaxis": {
           "automargin": true,
           "gridcolor": "white",
           "linecolor": "white",
           "ticks": "",
           "title": {
            "standoff": 15
           },
           "zerolinecolor": "white",
           "zerolinewidth": 2
          }
         }
        },
        "xaxis": {
         "showgrid": false,
         "visible": false,
         "zeroline": false
        },
        "yaxis": {
         "showgrid": false,
         "visible": false,
         "zeroline": false
        }
       }
      }
     },
     "metadata": {},
     "output_type": "display_data"
    }
   ],
   "source": [
    "data_flow = pd.read_csv(\"/Users/javieragazmuri/ConsiliumBots Dropbox/ConsiliumBots/Projects/Chile/Siblings/data/intermediate/separados.csv\")\n",
    "\n",
    "data_flow['cohort'] = data_flow['group_2']\n",
    "\n",
    "data_1 = data_flow.groupby(['cohort','group_2','cat_aceptan']).sum()['aux'].reset_index()\n",
    "data_1.columns = ['cohort','origen','destino','valor']\n",
    "\n",
    "data_2 = data_flow.groupby(['cohort','cat_aceptan','cat_post_comp']).sum()['aux'].reset_index()\n",
    "data_2.columns = ['cohort','origen','destino','valor']\n",
    "\n",
    "data_3 = data_flow.groupby(['cohort','cat_post_comp','cat_matricula']).sum()['aux'].reset_index()\n",
    "data_3.columns = ['cohort','origen','destino','valor']\n",
    "\n",
    "data_4 = data_flow.groupby(['cohort','cat_matricula','cat_postula_2022']).sum()['aux'].reset_index()\n",
    "data_4.columns = ['cohort','origen','destino','valor']\n",
    "\n",
    "data_appended = data_1.append(data_2).append(data_3).append(data_4).sort_values(['cohort','origen','destino'])\n",
    "\n",
    "dict_color = {1:'rgb(234,85,69)',2:'rgb(237,225,91)',3:'rgb(135,188,69)',4:'rgb(39,174,239)', 5: 'rgb(179,61,198)'}\n",
    "\n",
    "import plotly.graph_objects as go\n",
    "\n",
    "fig = go.Figure(data=[go.Sankey(\n",
    "node = dict(\n",
    " pad = 19,\n",
    " thickness = 20,\n",
    " line = dict( width = 0),\n",
    " color = ['red','rgb(234,85,69)','rgb(237,225,91)','rgb(135,188,69)','rgb(39,174,239)','rgb(179,61,198)'],\n",
    " label = [\"fake\",\"Juntos en matrícula asegurada\", \"Juntos, nuevo colegio\", \"Separados\", \"Al menos uno no asignado\", \"Otros\", \"Aceptan, ambos\", \"Aceptan, solo uno\", \n",
    "          \"No aceptan\", \"Postulan, ambos\", \"Postulan, solo uno\", \"No postulan\", \"Matriculan, ambos\", \"Matriculan, solo uno\", \"No matriculan\", \n",
    "          \"Repostulan, ambos\", \"Repostula, mayor\", \"Repostula, menor\", \"No repostulan\"],),\n",
    "link = dict(\n",
    " source = data_appended['origen'].to_list(),\n",
    " target = data_appended['destino'].to_list(),\n",
    " value = data_appended['valor'].to_list(),\n",
    " color = [dict_color[x] for x in data_appended['cohort'].to_list()]))])\n",
    "#Adding a title & showing the figure (Optional)\n",
    "\n",
    "for x_coordinate, column_name in enumerate([\"Asignados\",\"Aceptación\",\"Postulan en complementaria\", \"Matriculan en asignación\", \"Postulan próximo año\"]):\n",
    "  fig.add_annotation(\n",
    "          x=x_coordinate,\n",
    "          y=1.05,\n",
    "          xref=\"x\",\n",
    "          yref=\"paper\",\n",
    "          text=column_name,\n",
    "          showarrow=False,\n",
    "          font=dict(\n",
    "              family=\"Courier New, monospace\",\n",
    "              size=13,\n",
    "              color=\"black\"\n",
    "              ),\n",
    "          align=\"center\",\n",
    "          )\n",
    "\n",
    "fig.update_layout(\n",
    "    xaxis={\n",
    "    'showgrid': False, # thin lines in the background\n",
    "    'zeroline': False, # thick line at x=0\n",
    "    'visible': False,  # numbers below\n",
    "    },\n",
    "    yaxis={\n",
    "    'showgrid': False, # thin lines in the background\n",
    "    'zeroline': False, # thick line at x=0\n",
    "    'visible': False,  # numbers below\n",
    "    }, plot_bgcolor='rgba(0,0,0,0)', font_size=10)\n",
    "    \n",
    "fig.show()"
   ]
  },
  {
   "attachments": {},
   "cell_type": "markdown",
   "metadata": {},
   "source": [
    "#### Al menos uno no asignado"
   ]
  },
  {
   "cell_type": "code",
   "execution_count": 14,
   "metadata": {},
   "outputs": [
    {
     "name": "stderr",
     "output_type": "stream",
     "text": [
      "/var/folders/nx/hjv6fkdn3fnd8hv6fsj5qw0r0000gn/T/ipykernel_1298/4097779969.py:17: FutureWarning:\n",
      "\n",
      "The frame.append method is deprecated and will be removed from pandas in a future version. Use pandas.concat instead.\n",
      "\n",
      "/var/folders/nx/hjv6fkdn3fnd8hv6fsj5qw0r0000gn/T/ipykernel_1298/4097779969.py:17: FutureWarning:\n",
      "\n",
      "The frame.append method is deprecated and will be removed from pandas in a future version. Use pandas.concat instead.\n",
      "\n"
     ]
    },
    {
     "data": {
      "application/vnd.plotly.v1+json": {
       "config": {
        "plotlyServerURL": "https://plot.ly"
       },
       "data": [
        {
         "link": {
          "color": [
           "rgb(39,174,239)",
           "rgb(39,174,239)",
           "rgb(39,174,239)",
           "rgb(39,174,239)",
           "rgb(39,174,239)",
           "rgb(39,174,239)",
           "rgb(39,174,239)",
           "rgb(39,174,239)",
           "rgb(39,174,239)",
           "rgb(39,174,239)",
           "rgb(39,174,239)",
           "rgb(39,174,239)",
           "rgb(39,174,239)",
           "rgb(39,174,239)",
           "rgb(39,174,239)",
           "rgb(39,174,239)",
           "rgb(39,174,239)",
           "rgb(39,174,239)",
           "rgb(39,174,239)",
           "rgb(39,174,239)",
           "rgb(39,174,239)",
           "rgb(39,174,239)",
           "rgb(39,174,239)",
           "rgb(39,174,239)",
           "rgb(39,174,239)",
           "rgb(39,174,239)",
           "rgb(39,174,239)"
          ],
          "source": [
           4,
           4,
           7,
           7,
           8,
           8,
           8,
           9,
           9,
           9,
           10,
           10,
           10,
           11,
           11,
           12,
           12,
           12,
           12,
           13,
           13,
           13,
           13,
           14,
           14,
           14,
           14
          ],
          "target": [
           7,
           8,
           10,
           11,
           9,
           10,
           11,
           12,
           13,
           14,
           12,
           13,
           14,
           13,
           14,
           15,
           16,
           17,
           18,
           15,
           16,
           17,
           18,
           15,
           16,
           17,
           18
          ],
          "value": [
           2975,
           3369,
           1602,
           1373,
           540,
           706,
           2123,
           172,
           140,
           228,
           703,
           1107,
           498,
           1263,
           2233,
           216,
           146,
           114,
           399,
           525,
           356,
           397,
           1232,
           849,
           165,
           252,
           1693
          ]
         },
         "node": {
          "color": [
           "red",
           "rgb(234,85,69)",
           "rgb(237,225,91)",
           "rgb(135,188,69)",
           "rgb(39,174,239)",
           "rgb(179,61,198)"
          ],
          "label": [
           "fake",
           "Juntos en matrícula asegurada",
           "Juntos, nuevo colegio",
           "Separados",
           "Al menos uno no asignado",
           "Otros",
           "Aceptan, ambos",
           "Aceptan, solo uno",
           "No aceptan",
           "Postulan, ambos",
           "Postulan, solo uno",
           "No postulan",
           "Matriculan, ambos",
           "Matriculan, solo uno",
           "No matriculan",
           "Repostulan, ambos",
           "Repostula, mayor",
           "Repostula, menor",
           "No repostulan"
          ],
          "line": {
           "width": 0
          },
          "pad": 19,
          "thickness": 20
         },
         "type": "sankey"
        }
       ],
       "layout": {
        "annotations": [
         {
          "align": "center",
          "font": {
           "color": "black",
           "family": "Courier New, monospace",
           "size": 13
          },
          "showarrow": false,
          "text": "Asignados",
          "x": 0,
          "xref": "x",
          "y": 1.05,
          "yref": "paper"
         },
         {
          "align": "center",
          "font": {
           "color": "black",
           "family": "Courier New, monospace",
           "size": 13
          },
          "showarrow": false,
          "text": "Aceptación",
          "x": 1,
          "xref": "x",
          "y": 1.05,
          "yref": "paper"
         },
         {
          "align": "center",
          "font": {
           "color": "black",
           "family": "Courier New, monospace",
           "size": 13
          },
          "showarrow": false,
          "text": "Postulan en complementaria",
          "x": 2,
          "xref": "x",
          "y": 1.05,
          "yref": "paper"
         },
         {
          "align": "center",
          "font": {
           "color": "black",
           "family": "Courier New, monospace",
           "size": 13
          },
          "showarrow": false,
          "text": "Matriculan en asignación",
          "x": 3,
          "xref": "x",
          "y": 1.05,
          "yref": "paper"
         },
         {
          "align": "center",
          "font": {
           "color": "black",
           "family": "Courier New, monospace",
           "size": 13
          },
          "showarrow": false,
          "text": "Postulan próximo año",
          "x": 4,
          "xref": "x",
          "y": 1.05,
          "yref": "paper"
         }
        ],
        "font": {
         "size": 10
        },
        "plot_bgcolor": "rgba(0,0,0,0)",
        "template": {
         "data": {
          "bar": [
           {
            "error_x": {
             "color": "#2a3f5f"
            },
            "error_y": {
             "color": "#2a3f5f"
            },
            "marker": {
             "line": {
              "color": "#E5ECF6",
              "width": 0.5
             },
             "pattern": {
              "fillmode": "overlay",
              "size": 10,
              "solidity": 0.2
             }
            },
            "type": "bar"
           }
          ],
          "barpolar": [
           {
            "marker": {
             "line": {
              "color": "#E5ECF6",
              "width": 0.5
             },
             "pattern": {
              "fillmode": "overlay",
              "size": 10,
              "solidity": 0.2
             }
            },
            "type": "barpolar"
           }
          ],
          "carpet": [
           {
            "aaxis": {
             "endlinecolor": "#2a3f5f",
             "gridcolor": "white",
             "linecolor": "white",
             "minorgridcolor": "white",
             "startlinecolor": "#2a3f5f"
            },
            "baxis": {
             "endlinecolor": "#2a3f5f",
             "gridcolor": "white",
             "linecolor": "white",
             "minorgridcolor": "white",
             "startlinecolor": "#2a3f5f"
            },
            "type": "carpet"
           }
          ],
          "choropleth": [
           {
            "colorbar": {
             "outlinewidth": 0,
             "ticks": ""
            },
            "type": "choropleth"
           }
          ],
          "contour": [
           {
            "colorbar": {
             "outlinewidth": 0,
             "ticks": ""
            },
            "colorscale": [
             [
              0,
              "#0d0887"
             ],
             [
              0.1111111111111111,
              "#46039f"
             ],
             [
              0.2222222222222222,
              "#7201a8"
             ],
             [
              0.3333333333333333,
              "#9c179e"
             ],
             [
              0.4444444444444444,
              "#bd3786"
             ],
             [
              0.5555555555555556,
              "#d8576b"
             ],
             [
              0.6666666666666666,
              "#ed7953"
             ],
             [
              0.7777777777777778,
              "#fb9f3a"
             ],
             [
              0.8888888888888888,
              "#fdca26"
             ],
             [
              1,
              "#f0f921"
             ]
            ],
            "type": "contour"
           }
          ],
          "contourcarpet": [
           {
            "colorbar": {
             "outlinewidth": 0,
             "ticks": ""
            },
            "type": "contourcarpet"
           }
          ],
          "heatmap": [
           {
            "colorbar": {
             "outlinewidth": 0,
             "ticks": ""
            },
            "colorscale": [
             [
              0,
              "#0d0887"
             ],
             [
              0.1111111111111111,
              "#46039f"
             ],
             [
              0.2222222222222222,
              "#7201a8"
             ],
             [
              0.3333333333333333,
              "#9c179e"
             ],
             [
              0.4444444444444444,
              "#bd3786"
             ],
             [
              0.5555555555555556,
              "#d8576b"
             ],
             [
              0.6666666666666666,
              "#ed7953"
             ],
             [
              0.7777777777777778,
              "#fb9f3a"
             ],
             [
              0.8888888888888888,
              "#fdca26"
             ],
             [
              1,
              "#f0f921"
             ]
            ],
            "type": "heatmap"
           }
          ],
          "heatmapgl": [
           {
            "colorbar": {
             "outlinewidth": 0,
             "ticks": ""
            },
            "colorscale": [
             [
              0,
              "#0d0887"
             ],
             [
              0.1111111111111111,
              "#46039f"
             ],
             [
              0.2222222222222222,
              "#7201a8"
             ],
             [
              0.3333333333333333,
              "#9c179e"
             ],
             [
              0.4444444444444444,
              "#bd3786"
             ],
             [
              0.5555555555555556,
              "#d8576b"
             ],
             [
              0.6666666666666666,
              "#ed7953"
             ],
             [
              0.7777777777777778,
              "#fb9f3a"
             ],
             [
              0.8888888888888888,
              "#fdca26"
             ],
             [
              1,
              "#f0f921"
             ]
            ],
            "type": "heatmapgl"
           }
          ],
          "histogram": [
           {
            "marker": {
             "pattern": {
              "fillmode": "overlay",
              "size": 10,
              "solidity": 0.2
             }
            },
            "type": "histogram"
           }
          ],
          "histogram2d": [
           {
            "colorbar": {
             "outlinewidth": 0,
             "ticks": ""
            },
            "colorscale": [
             [
              0,
              "#0d0887"
             ],
             [
              0.1111111111111111,
              "#46039f"
             ],
             [
              0.2222222222222222,
              "#7201a8"
             ],
             [
              0.3333333333333333,
              "#9c179e"
             ],
             [
              0.4444444444444444,
              "#bd3786"
             ],
             [
              0.5555555555555556,
              "#d8576b"
             ],
             [
              0.6666666666666666,
              "#ed7953"
             ],
             [
              0.7777777777777778,
              "#fb9f3a"
             ],
             [
              0.8888888888888888,
              "#fdca26"
             ],
             [
              1,
              "#f0f921"
             ]
            ],
            "type": "histogram2d"
           }
          ],
          "histogram2dcontour": [
           {
            "colorbar": {
             "outlinewidth": 0,
             "ticks": ""
            },
            "colorscale": [
             [
              0,
              "#0d0887"
             ],
             [
              0.1111111111111111,
              "#46039f"
             ],
             [
              0.2222222222222222,
              "#7201a8"
             ],
             [
              0.3333333333333333,
              "#9c179e"
             ],
             [
              0.4444444444444444,
              "#bd3786"
             ],
             [
              0.5555555555555556,
              "#d8576b"
             ],
             [
              0.6666666666666666,
              "#ed7953"
             ],
             [
              0.7777777777777778,
              "#fb9f3a"
             ],
             [
              0.8888888888888888,
              "#fdca26"
             ],
             [
              1,
              "#f0f921"
             ]
            ],
            "type": "histogram2dcontour"
           }
          ],
          "mesh3d": [
           {
            "colorbar": {
             "outlinewidth": 0,
             "ticks": ""
            },
            "type": "mesh3d"
           }
          ],
          "parcoords": [
           {
            "line": {
             "colorbar": {
              "outlinewidth": 0,
              "ticks": ""
             }
            },
            "type": "parcoords"
           }
          ],
          "pie": [
           {
            "automargin": true,
            "type": "pie"
           }
          ],
          "scatter": [
           {
            "fillpattern": {
             "fillmode": "overlay",
             "size": 10,
             "solidity": 0.2
            },
            "type": "scatter"
           }
          ],
          "scatter3d": [
           {
            "line": {
             "colorbar": {
              "outlinewidth": 0,
              "ticks": ""
             }
            },
            "marker": {
             "colorbar": {
              "outlinewidth": 0,
              "ticks": ""
             }
            },
            "type": "scatter3d"
           }
          ],
          "scattercarpet": [
           {
            "marker": {
             "colorbar": {
              "outlinewidth": 0,
              "ticks": ""
             }
            },
            "type": "scattercarpet"
           }
          ],
          "scattergeo": [
           {
            "marker": {
             "colorbar": {
              "outlinewidth": 0,
              "ticks": ""
             }
            },
            "type": "scattergeo"
           }
          ],
          "scattergl": [
           {
            "marker": {
             "colorbar": {
              "outlinewidth": 0,
              "ticks": ""
             }
            },
            "type": "scattergl"
           }
          ],
          "scattermapbox": [
           {
            "marker": {
             "colorbar": {
              "outlinewidth": 0,
              "ticks": ""
             }
            },
            "type": "scattermapbox"
           }
          ],
          "scatterpolar": [
           {
            "marker": {
             "colorbar": {
              "outlinewidth": 0,
              "ticks": ""
             }
            },
            "type": "scatterpolar"
           }
          ],
          "scatterpolargl": [
           {
            "marker": {
             "colorbar": {
              "outlinewidth": 0,
              "ticks": ""
             }
            },
            "type": "scatterpolargl"
           }
          ],
          "scatterternary": [
           {
            "marker": {
             "colorbar": {
              "outlinewidth": 0,
              "ticks": ""
             }
            },
            "type": "scatterternary"
           }
          ],
          "surface": [
           {
            "colorbar": {
             "outlinewidth": 0,
             "ticks": ""
            },
            "colorscale": [
             [
              0,
              "#0d0887"
             ],
             [
              0.1111111111111111,
              "#46039f"
             ],
             [
              0.2222222222222222,
              "#7201a8"
             ],
             [
              0.3333333333333333,
              "#9c179e"
             ],
             [
              0.4444444444444444,
              "#bd3786"
             ],
             [
              0.5555555555555556,
              "#d8576b"
             ],
             [
              0.6666666666666666,
              "#ed7953"
             ],
             [
              0.7777777777777778,
              "#fb9f3a"
             ],
             [
              0.8888888888888888,
              "#fdca26"
             ],
             [
              1,
              "#f0f921"
             ]
            ],
            "type": "surface"
           }
          ],
          "table": [
           {
            "cells": {
             "fill": {
              "color": "#EBF0F8"
             },
             "line": {
              "color": "white"
             }
            },
            "header": {
             "fill": {
              "color": "#C8D4E3"
             },
             "line": {
              "color": "white"
             }
            },
            "type": "table"
           }
          ]
         },
         "layout": {
          "annotationdefaults": {
           "arrowcolor": "#2a3f5f",
           "arrowhead": 0,
           "arrowwidth": 1
          },
          "autotypenumbers": "strict",
          "coloraxis": {
           "colorbar": {
            "outlinewidth": 0,
            "ticks": ""
           }
          },
          "colorscale": {
           "diverging": [
            [
             0,
             "#8e0152"
            ],
            [
             0.1,
             "#c51b7d"
            ],
            [
             0.2,
             "#de77ae"
            ],
            [
             0.3,
             "#f1b6da"
            ],
            [
             0.4,
             "#fde0ef"
            ],
            [
             0.5,
             "#f7f7f7"
            ],
            [
             0.6,
             "#e6f5d0"
            ],
            [
             0.7,
             "#b8e186"
            ],
            [
             0.8,
             "#7fbc41"
            ],
            [
             0.9,
             "#4d9221"
            ],
            [
             1,
             "#276419"
            ]
           ],
           "sequential": [
            [
             0,
             "#0d0887"
            ],
            [
             0.1111111111111111,
             "#46039f"
            ],
            [
             0.2222222222222222,
             "#7201a8"
            ],
            [
             0.3333333333333333,
             "#9c179e"
            ],
            [
             0.4444444444444444,
             "#bd3786"
            ],
            [
             0.5555555555555556,
             "#d8576b"
            ],
            [
             0.6666666666666666,
             "#ed7953"
            ],
            [
             0.7777777777777778,
             "#fb9f3a"
            ],
            [
             0.8888888888888888,
             "#fdca26"
            ],
            [
             1,
             "#f0f921"
            ]
           ],
           "sequentialminus": [
            [
             0,
             "#0d0887"
            ],
            [
             0.1111111111111111,
             "#46039f"
            ],
            [
             0.2222222222222222,
             "#7201a8"
            ],
            [
             0.3333333333333333,
             "#9c179e"
            ],
            [
             0.4444444444444444,
             "#bd3786"
            ],
            [
             0.5555555555555556,
             "#d8576b"
            ],
            [
             0.6666666666666666,
             "#ed7953"
            ],
            [
             0.7777777777777778,
             "#fb9f3a"
            ],
            [
             0.8888888888888888,
             "#fdca26"
            ],
            [
             1,
             "#f0f921"
            ]
           ]
          },
          "colorway": [
           "#636efa",
           "#EF553B",
           "#00cc96",
           "#ab63fa",
           "#FFA15A",
           "#19d3f3",
           "#FF6692",
           "#B6E880",
           "#FF97FF",
           "#FECB52"
          ],
          "font": {
           "color": "#2a3f5f"
          },
          "geo": {
           "bgcolor": "white",
           "lakecolor": "white",
           "landcolor": "#E5ECF6",
           "showlakes": true,
           "showland": true,
           "subunitcolor": "white"
          },
          "hoverlabel": {
           "align": "left"
          },
          "hovermode": "closest",
          "mapbox": {
           "style": "light"
          },
          "paper_bgcolor": "white",
          "plot_bgcolor": "#E5ECF6",
          "polar": {
           "angularaxis": {
            "gridcolor": "white",
            "linecolor": "white",
            "ticks": ""
           },
           "bgcolor": "#E5ECF6",
           "radialaxis": {
            "gridcolor": "white",
            "linecolor": "white",
            "ticks": ""
           }
          },
          "scene": {
           "xaxis": {
            "backgroundcolor": "#E5ECF6",
            "gridcolor": "white",
            "gridwidth": 2,
            "linecolor": "white",
            "showbackground": true,
            "ticks": "",
            "zerolinecolor": "white"
           },
           "yaxis": {
            "backgroundcolor": "#E5ECF6",
            "gridcolor": "white",
            "gridwidth": 2,
            "linecolor": "white",
            "showbackground": true,
            "ticks": "",
            "zerolinecolor": "white"
           },
           "zaxis": {
            "backgroundcolor": "#E5ECF6",
            "gridcolor": "white",
            "gridwidth": 2,
            "linecolor": "white",
            "showbackground": true,
            "ticks": "",
            "zerolinecolor": "white"
           }
          },
          "shapedefaults": {
           "line": {
            "color": "#2a3f5f"
           }
          },
          "ternary": {
           "aaxis": {
            "gridcolor": "white",
            "linecolor": "white",
            "ticks": ""
           },
           "baxis": {
            "gridcolor": "white",
            "linecolor": "white",
            "ticks": ""
           },
           "bgcolor": "#E5ECF6",
           "caxis": {
            "gridcolor": "white",
            "linecolor": "white",
            "ticks": ""
           }
          },
          "title": {
           "x": 0.05
          },
          "xaxis": {
           "automargin": true,
           "gridcolor": "white",
           "linecolor": "white",
           "ticks": "",
           "title": {
            "standoff": 15
           },
           "zerolinecolor": "white",
           "zerolinewidth": 2
          },
          "yaxis": {
           "automargin": true,
           "gridcolor": "white",
           "linecolor": "white",
           "ticks": "",
           "title": {
            "standoff": 15
           },
           "zerolinecolor": "white",
           "zerolinewidth": 2
          }
         }
        },
        "xaxis": {
         "showgrid": false,
         "visible": false,
         "zeroline": false
        },
        "yaxis": {
         "showgrid": false,
         "visible": false,
         "zeroline": false
        }
       }
      }
     },
     "metadata": {},
     "output_type": "display_data"
    }
   ],
   "source": [
    "data_flow = pd.read_csv(\"/Users/javieragazmuri/ConsiliumBots Dropbox/ConsiliumBots/Projects/Chile/Siblings/data/intermediate/uno_no_asignado.csv\")\n",
    "\n",
    "data_flow['cohort'] = data_flow['group_2']\n",
    "\n",
    "data_1 = data_flow.groupby(['cohort','group_2','cat_aceptan']).sum()['aux'].reset_index()\n",
    "data_1.columns = ['cohort','origen','destino','valor']\n",
    "\n",
    "data_2 = data_flow.groupby(['cohort','cat_aceptan','cat_post_comp']).sum()['aux'].reset_index()\n",
    "data_2.columns = ['cohort','origen','destino','valor']\n",
    "\n",
    "data_3 = data_flow.groupby(['cohort','cat_post_comp','cat_matricula']).sum()['aux'].reset_index()\n",
    "data_3.columns = ['cohort','origen','destino','valor']\n",
    "\n",
    "data_4 = data_flow.groupby(['cohort','cat_matricula','cat_postula_2022']).sum()['aux'].reset_index()\n",
    "data_4.columns = ['cohort','origen','destino','valor']\n",
    "\n",
    "data_appended = data_1.append(data_2).append(data_3).append(data_4).sort_values(['cohort','origen','destino'])\n",
    "\n",
    "dict_color = {1:'rgb(234,85,69)',2:'rgb(237,225,91)',3:'rgb(135,188,69)',4:'rgb(39,174,239)', 5: 'rgb(179,61,198)'}\n",
    "\n",
    "import plotly.graph_objects as go\n",
    "\n",
    "fig = go.Figure(data=[go.Sankey(\n",
    "node = dict(\n",
    " pad = 19,\n",
    " thickness = 20,\n",
    " line = dict( width = 0),\n",
    " color = ['red','rgb(234,85,69)','rgb(237,225,91)','rgb(135,188,69)','rgb(39,174,239)','rgb(179,61,198)'],\n",
    " label = [\"fake\",\"Juntos en matrícula asegurada\", \"Juntos, nuevo colegio\", \"Separados\", \"Al menos uno no asignado\", \"Otros\", \"Aceptan, ambos\", \"Aceptan, solo uno\", \n",
    "          \"No aceptan\", \"Postulan, ambos\", \"Postulan, solo uno\", \"No postulan\", \"Matriculan, ambos\", \"Matriculan, solo uno\", \"No matriculan\", \n",
    "          \"Repostulan, ambos\", \"Repostula, mayor\", \"Repostula, menor\", \"No repostulan\"],),\n",
    "link = dict(\n",
    " source = data_appended['origen'].to_list(),\n",
    " target = data_appended['destino'].to_list(),\n",
    " value = data_appended['valor'].to_list(),\n",
    " color = [dict_color[x] for x in data_appended['cohort'].to_list()]))])\n",
    "#Adding a title & showing the figure (Optional)\n",
    "\n",
    "for x_coordinate, column_name in enumerate([\"Asignados\",\"Aceptación\",\"Postulan en complementaria\", \"Matriculan en asignación\", \"Postulan próximo año\"]):\n",
    "  fig.add_annotation(\n",
    "          x=x_coordinate,\n",
    "          y=1.05,\n",
    "          xref=\"x\",\n",
    "          yref=\"paper\",\n",
    "          text=column_name,\n",
    "          showarrow=False,\n",
    "          font=dict(\n",
    "              family=\"Courier New, monospace\",\n",
    "              size=13,\n",
    "              color=\"black\"\n",
    "              ),\n",
    "          align=\"center\",\n",
    "          )\n",
    "\n",
    "fig.update_layout(\n",
    "    xaxis={\n",
    "    'showgrid': False, # thin lines in the background\n",
    "    'zeroline': False, # thick line at x=0\n",
    "    'visible': False,  # numbers below\n",
    "    },\n",
    "    yaxis={\n",
    "    'showgrid': False, # thin lines in the background\n",
    "    'zeroline': False, # thick line at x=0\n",
    "    'visible': False,  # numbers below\n",
    "    }, plot_bgcolor='rgba(0,0,0,0)', font_size=10)\n",
    "    \n",
    "fig.show()"
   ]
  }
 ],
 "metadata": {
  "kernelspec": {
   "display_name": "Python 3.8.2 64-bit",
   "language": "python",
   "name": "python3"
  },
  "language_info": {
   "codemirror_mode": {
    "name": "ipython",
    "version": 3
   },
   "file_extension": ".py",
   "mimetype": "text/x-python",
   "name": "python",
   "nbconvert_exporter": "python",
   "pygments_lexer": "ipython3",
   "version": "3.8.2"
  },
  "orig_nbformat": 4,
  "vscode": {
   "interpreter": {
    "hash": "aee8b7b246df8f9039afb4144a1f6fd8d2ca17a180786b69acc140d282b71a49"
   }
  }
 },
 "nbformat": 4,
 "nbformat_minor": 2
}
